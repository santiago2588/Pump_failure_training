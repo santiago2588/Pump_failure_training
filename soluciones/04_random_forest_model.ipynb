{
  "cells": [
    {
      "cell_type": "markdown",
      "metadata": {
        "id": "view-in-github",
        "colab_type": "text"
      },
      "source": [
        "<a href=\"https://colab.research.google.com/github/santiago2588/Pump_failure_training/blob/main/soluciones/04_random_forest_model.ipynb\" target=\"_parent\"><img src=\"https://colab.research.google.com/assets/colab-badge.svg\" alt=\"Open In Colab\"/></a>"
      ]
    },
    {
      "cell_type": "code",
      "execution_count": 1,
      "metadata": {
        "id": "-yh8jcX5lNuE"
      },
      "outputs": [],
      "source": [
        "# Data wrangling\n",
        "import pandas as pd\n",
        "import numpy as np"
      ]
    },
    {
      "cell_type": "code",
      "execution_count": 2,
      "metadata": {
        "id": "1UEU-GXclNuF"
      },
      "outputs": [],
      "source": [
        "from imblearn.over_sampling import SMOTE\n",
        "from sklearn.ensemble import RandomForestClassifier\n",
        "from sklearn.utils import class_weight\n",
        "from sklearn.utils.class_weight import compute_class_weight"
      ]
    },
    {
      "cell_type": "code",
      "execution_count": 3,
      "metadata": {
        "colab": {
          "base_uri": "https://localhost:8080/"
        },
        "id": "PluGLakrlNuF",
        "outputId": "e241552f-56ff-4473-e2a6-d01fc2e2074a"
      },
      "outputs": [
        {
          "output_type": "stream",
          "name": "stdout",
          "text": [
            "--2025-07-15 10:24:57--  https://raw.githubusercontent.com/santiago2588/pump_failure_training/main/utils.py\n",
            "Resolving raw.githubusercontent.com (raw.githubusercontent.com)... 185.199.108.133, 185.199.109.133, 185.199.110.133, ...\n",
            "Connecting to raw.githubusercontent.com (raw.githubusercontent.com)|185.199.108.133|:443... connected.\n",
            "HTTP request sent, awaiting response... 200 OK\n",
            "Length: 2407 (2.4K) [text/plain]\n",
            "Saving to: ‘utils.py.2’\n",
            "\n",
            "\rutils.py.2            0%[                    ]       0  --.-KB/s               \rutils.py.2          100%[===================>]   2.35K  --.-KB/s    in 0s      \n",
            "\n",
            "2025-07-15 10:24:57 (20.9 MB/s) - ‘utils.py.2’ saved [2407/2407]\n",
            "\n"
          ]
        }
      ],
      "source": [
        "# Download and run the utils.py file from your GitHub repository\n",
        "!wget https://raw.githubusercontent.com/santiago2588/pump_failure_training/main/utils.py\n",
        "%run utils.py"
      ]
    },
    {
      "cell_type": "code",
      "execution_count": 4,
      "metadata": {
        "id": "0R95mLoslNuF"
      },
      "outputs": [],
      "source": [
        "from sklearn.model_selection import train_test_split\n",
        "from imblearn.pipeline import Pipeline"
      ]
    },
    {
      "cell_type": "code",
      "execution_count": 5,
      "metadata": {
        "id": "IWBlYRijlNuF"
      },
      "outputs": [],
      "source": [
        "from sklearn.utils.class_weight import compute_sample_weight\n",
        "from sklearn.metrics import f1_score"
      ]
    },
    {
      "cell_type": "code",
      "source": [
        "%pip install optuna -q"
      ],
      "metadata": {
        "id": "nQom2uoxmE-P"
      },
      "execution_count": 6,
      "outputs": []
    },
    {
      "cell_type": "code",
      "source": [
        "import optuna"
      ],
      "metadata": {
        "id": "ngPB3y_pmLS7"
      },
      "execution_count": 7,
      "outputs": []
    },
    {
      "cell_type": "code",
      "execution_count": 8,
      "metadata": {
        "colab": {
          "base_uri": "https://localhost:8080/"
        },
        "id": "IH1T3R7HlNuG",
        "outputId": "5ba24351-4a5f-4438-87ea-d2197d4b8d03"
      },
      "outputs": [
        {
          "output_type": "stream",
          "name": "stdout",
          "text": [
            "--2025-07-15 10:25:12--  https://raw.githubusercontent.com/santiago2588/pump_failure_training/main/data/transformed_data.csv\n",
            "Resolving raw.githubusercontent.com (raw.githubusercontent.com)... 185.199.108.133, 185.199.109.133, 185.199.110.133, ...\n",
            "Connecting to raw.githubusercontent.com (raw.githubusercontent.com)|185.199.108.133|:443... connected.\n",
            "HTTP request sent, awaiting response... 200 OK\n",
            "Length: 1210184 (1.2M) [text/plain]\n",
            "Saving to: ‘transformed_data.csv’\n",
            "\n",
            "\rtransformed_data.cs   0%[                    ]       0  --.-KB/s               \rtransformed_data.cs 100%[===================>]   1.15M  --.-KB/s    in 0.06s   \n",
            "\n",
            "2025-07-15 10:25:13 (18.1 MB/s) - ‘transformed_data.csv’ saved [1210184/1210184]\n",
            "\n"
          ]
        }
      ],
      "source": [
        "!wget https://raw.githubusercontent.com/santiago2588/pump_failure_training/main/data/transformed_data.csv -O transformed_data.csv"
      ]
    },
    {
      "cell_type": "code",
      "source": [
        "# Read the CSV file into a DataFrame\n",
        "df = pd.read_csv(\"transformed_data.csv\")\n",
        "\n",
        "# Display the first few rows to confirm it loaded correctly\n",
        "df.head()"
      ],
      "metadata": {
        "colab": {
          "base_uri": "https://localhost:8080/",
          "height": 206
        },
        "id": "iZ6A38-4lhr5",
        "outputId": "da368c16-5c54-41ac-afbb-e0a6fa276959"
      },
      "execution_count": 9,
      "outputs": [
        {
          "output_type": "execute_result",
          "data": {
            "text/plain": [
              "   Air_temperature  Process_temperature  Rotational_speed    Torque  \\\n",
              "0        -0.951417            -0.946356          0.067484  0.283054   \n",
              "1        -0.901428            -0.878954         -0.729604  0.634238   \n",
              "2        -0.951417            -1.013759         -0.227940  0.945286   \n",
              "3        -0.901428            -0.946356         -0.590253 -0.048061   \n",
              "4        -0.901428            -0.878954         -0.729604  0.002108   \n",
              "\n",
              "   Tool_wear  Type_High  Type_Low  Type_Medium Failure_type  \n",
              "0  -1.695647        0.0       0.0          1.0   No Failure  \n",
              "1  -1.648511        0.0       1.0          0.0   No Failure  \n",
              "2  -1.617087        0.0       1.0          0.0   No Failure  \n",
              "3  -1.585664        0.0       1.0          0.0   No Failure  \n",
              "4  -1.554240        0.0       1.0          0.0   No Failure  "
            ],
            "text/html": [
              "\n",
              "  <div id=\"df-04ee2fbf-1ce8-42fe-b2d6-34821342e62d\" class=\"colab-df-container\">\n",
              "    <div>\n",
              "<style scoped>\n",
              "    .dataframe tbody tr th:only-of-type {\n",
              "        vertical-align: middle;\n",
              "    }\n",
              "\n",
              "    .dataframe tbody tr th {\n",
              "        vertical-align: top;\n",
              "    }\n",
              "\n",
              "    .dataframe thead th {\n",
              "        text-align: right;\n",
              "    }\n",
              "</style>\n",
              "<table border=\"1\" class=\"dataframe\">\n",
              "  <thead>\n",
              "    <tr style=\"text-align: right;\">\n",
              "      <th></th>\n",
              "      <th>Air_temperature</th>\n",
              "      <th>Process_temperature</th>\n",
              "      <th>Rotational_speed</th>\n",
              "      <th>Torque</th>\n",
              "      <th>Tool_wear</th>\n",
              "      <th>Type_High</th>\n",
              "      <th>Type_Low</th>\n",
              "      <th>Type_Medium</th>\n",
              "      <th>Failure_type</th>\n",
              "    </tr>\n",
              "  </thead>\n",
              "  <tbody>\n",
              "    <tr>\n",
              "      <th>0</th>\n",
              "      <td>-0.951417</td>\n",
              "      <td>-0.946356</td>\n",
              "      <td>0.067484</td>\n",
              "      <td>0.283054</td>\n",
              "      <td>-1.695647</td>\n",
              "      <td>0.0</td>\n",
              "      <td>0.0</td>\n",
              "      <td>1.0</td>\n",
              "      <td>No Failure</td>\n",
              "    </tr>\n",
              "    <tr>\n",
              "      <th>1</th>\n",
              "      <td>-0.901428</td>\n",
              "      <td>-0.878954</td>\n",
              "      <td>-0.729604</td>\n",
              "      <td>0.634238</td>\n",
              "      <td>-1.648511</td>\n",
              "      <td>0.0</td>\n",
              "      <td>1.0</td>\n",
              "      <td>0.0</td>\n",
              "      <td>No Failure</td>\n",
              "    </tr>\n",
              "    <tr>\n",
              "      <th>2</th>\n",
              "      <td>-0.951417</td>\n",
              "      <td>-1.013759</td>\n",
              "      <td>-0.227940</td>\n",
              "      <td>0.945286</td>\n",
              "      <td>-1.617087</td>\n",
              "      <td>0.0</td>\n",
              "      <td>1.0</td>\n",
              "      <td>0.0</td>\n",
              "      <td>No Failure</td>\n",
              "    </tr>\n",
              "    <tr>\n",
              "      <th>3</th>\n",
              "      <td>-0.901428</td>\n",
              "      <td>-0.946356</td>\n",
              "      <td>-0.590253</td>\n",
              "      <td>-0.048061</td>\n",
              "      <td>-1.585664</td>\n",
              "      <td>0.0</td>\n",
              "      <td>1.0</td>\n",
              "      <td>0.0</td>\n",
              "      <td>No Failure</td>\n",
              "    </tr>\n",
              "    <tr>\n",
              "      <th>4</th>\n",
              "      <td>-0.901428</td>\n",
              "      <td>-0.878954</td>\n",
              "      <td>-0.729604</td>\n",
              "      <td>0.002108</td>\n",
              "      <td>-1.554240</td>\n",
              "      <td>0.0</td>\n",
              "      <td>1.0</td>\n",
              "      <td>0.0</td>\n",
              "      <td>No Failure</td>\n",
              "    </tr>\n",
              "  </tbody>\n",
              "</table>\n",
              "</div>\n",
              "    <div class=\"colab-df-buttons\">\n",
              "\n",
              "  <div class=\"colab-df-container\">\n",
              "    <button class=\"colab-df-convert\" onclick=\"convertToInteractive('df-04ee2fbf-1ce8-42fe-b2d6-34821342e62d')\"\n",
              "            title=\"Convert this dataframe to an interactive table.\"\n",
              "            style=\"display:none;\">\n",
              "\n",
              "  <svg xmlns=\"http://www.w3.org/2000/svg\" height=\"24px\" viewBox=\"0 -960 960 960\">\n",
              "    <path d=\"M120-120v-720h720v720H120Zm60-500h600v-160H180v160Zm220 220h160v-160H400v160Zm0 220h160v-160H400v160ZM180-400h160v-160H180v160Zm440 0h160v-160H620v160ZM180-180h160v-160H180v160Zm440 0h160v-160H620v160Z\"/>\n",
              "  </svg>\n",
              "    </button>\n",
              "\n",
              "  <style>\n",
              "    .colab-df-container {\n",
              "      display:flex;\n",
              "      gap: 12px;\n",
              "    }\n",
              "\n",
              "    .colab-df-convert {\n",
              "      background-color: #E8F0FE;\n",
              "      border: none;\n",
              "      border-radius: 50%;\n",
              "      cursor: pointer;\n",
              "      display: none;\n",
              "      fill: #1967D2;\n",
              "      height: 32px;\n",
              "      padding: 0 0 0 0;\n",
              "      width: 32px;\n",
              "    }\n",
              "\n",
              "    .colab-df-convert:hover {\n",
              "      background-color: #E2EBFA;\n",
              "      box-shadow: 0px 1px 2px rgba(60, 64, 67, 0.3), 0px 1px 3px 1px rgba(60, 64, 67, 0.15);\n",
              "      fill: #174EA6;\n",
              "    }\n",
              "\n",
              "    .colab-df-buttons div {\n",
              "      margin-bottom: 4px;\n",
              "    }\n",
              "\n",
              "    [theme=dark] .colab-df-convert {\n",
              "      background-color: #3B4455;\n",
              "      fill: #D2E3FC;\n",
              "    }\n",
              "\n",
              "    [theme=dark] .colab-df-convert:hover {\n",
              "      background-color: #434B5C;\n",
              "      box-shadow: 0px 1px 3px 1px rgba(0, 0, 0, 0.15);\n",
              "      filter: drop-shadow(0px 1px 2px rgba(0, 0, 0, 0.3));\n",
              "      fill: #FFFFFF;\n",
              "    }\n",
              "  </style>\n",
              "\n",
              "    <script>\n",
              "      const buttonEl =\n",
              "        document.querySelector('#df-04ee2fbf-1ce8-42fe-b2d6-34821342e62d button.colab-df-convert');\n",
              "      buttonEl.style.display =\n",
              "        google.colab.kernel.accessAllowed ? 'block' : 'none';\n",
              "\n",
              "      async function convertToInteractive(key) {\n",
              "        const element = document.querySelector('#df-04ee2fbf-1ce8-42fe-b2d6-34821342e62d');\n",
              "        const dataTable =\n",
              "          await google.colab.kernel.invokeFunction('convertToInteractive',\n",
              "                                                    [key], {});\n",
              "        if (!dataTable) return;\n",
              "\n",
              "        const docLinkHtml = 'Like what you see? Visit the ' +\n",
              "          '<a target=\"_blank\" href=https://colab.research.google.com/notebooks/data_table.ipynb>data table notebook</a>'\n",
              "          + ' to learn more about interactive tables.';\n",
              "        element.innerHTML = '';\n",
              "        dataTable['output_type'] = 'display_data';\n",
              "        await google.colab.output.renderOutput(dataTable, element);\n",
              "        const docLink = document.createElement('div');\n",
              "        docLink.innerHTML = docLinkHtml;\n",
              "        element.appendChild(docLink);\n",
              "      }\n",
              "    </script>\n",
              "  </div>\n",
              "\n",
              "\n",
              "    <div id=\"df-fd5a1325-9cab-47ec-8c52-aed9d5431abf\">\n",
              "      <button class=\"colab-df-quickchart\" onclick=\"quickchart('df-fd5a1325-9cab-47ec-8c52-aed9d5431abf')\"\n",
              "                title=\"Suggest charts\"\n",
              "                style=\"display:none;\">\n",
              "\n",
              "<svg xmlns=\"http://www.w3.org/2000/svg\" height=\"24px\"viewBox=\"0 0 24 24\"\n",
              "     width=\"24px\">\n",
              "    <g>\n",
              "        <path d=\"M19 3H5c-1.1 0-2 .9-2 2v14c0 1.1.9 2 2 2h14c1.1 0 2-.9 2-2V5c0-1.1-.9-2-2-2zM9 17H7v-7h2v7zm4 0h-2V7h2v10zm4 0h-2v-4h2v4z\"/>\n",
              "    </g>\n",
              "</svg>\n",
              "      </button>\n",
              "\n",
              "<style>\n",
              "  .colab-df-quickchart {\n",
              "      --bg-color: #E8F0FE;\n",
              "      --fill-color: #1967D2;\n",
              "      --hover-bg-color: #E2EBFA;\n",
              "      --hover-fill-color: #174EA6;\n",
              "      --disabled-fill-color: #AAA;\n",
              "      --disabled-bg-color: #DDD;\n",
              "  }\n",
              "\n",
              "  [theme=dark] .colab-df-quickchart {\n",
              "      --bg-color: #3B4455;\n",
              "      --fill-color: #D2E3FC;\n",
              "      --hover-bg-color: #434B5C;\n",
              "      --hover-fill-color: #FFFFFF;\n",
              "      --disabled-bg-color: #3B4455;\n",
              "      --disabled-fill-color: #666;\n",
              "  }\n",
              "\n",
              "  .colab-df-quickchart {\n",
              "    background-color: var(--bg-color);\n",
              "    border: none;\n",
              "    border-radius: 50%;\n",
              "    cursor: pointer;\n",
              "    display: none;\n",
              "    fill: var(--fill-color);\n",
              "    height: 32px;\n",
              "    padding: 0;\n",
              "    width: 32px;\n",
              "  }\n",
              "\n",
              "  .colab-df-quickchart:hover {\n",
              "    background-color: var(--hover-bg-color);\n",
              "    box-shadow: 0 1px 2px rgba(60, 64, 67, 0.3), 0 1px 3px 1px rgba(60, 64, 67, 0.15);\n",
              "    fill: var(--button-hover-fill-color);\n",
              "  }\n",
              "\n",
              "  .colab-df-quickchart-complete:disabled,\n",
              "  .colab-df-quickchart-complete:disabled:hover {\n",
              "    background-color: var(--disabled-bg-color);\n",
              "    fill: var(--disabled-fill-color);\n",
              "    box-shadow: none;\n",
              "  }\n",
              "\n",
              "  .colab-df-spinner {\n",
              "    border: 2px solid var(--fill-color);\n",
              "    border-color: transparent;\n",
              "    border-bottom-color: var(--fill-color);\n",
              "    animation:\n",
              "      spin 1s steps(1) infinite;\n",
              "  }\n",
              "\n",
              "  @keyframes spin {\n",
              "    0% {\n",
              "      border-color: transparent;\n",
              "      border-bottom-color: var(--fill-color);\n",
              "      border-left-color: var(--fill-color);\n",
              "    }\n",
              "    20% {\n",
              "      border-color: transparent;\n",
              "      border-left-color: var(--fill-color);\n",
              "      border-top-color: var(--fill-color);\n",
              "    }\n",
              "    30% {\n",
              "      border-color: transparent;\n",
              "      border-left-color: var(--fill-color);\n",
              "      border-top-color: var(--fill-color);\n",
              "      border-right-color: var(--fill-color);\n",
              "    }\n",
              "    40% {\n",
              "      border-color: transparent;\n",
              "      border-right-color: var(--fill-color);\n",
              "      border-top-color: var(--fill-color);\n",
              "    }\n",
              "    60% {\n",
              "      border-color: transparent;\n",
              "      border-right-color: var(--fill-color);\n",
              "    }\n",
              "    80% {\n",
              "      border-color: transparent;\n",
              "      border-right-color: var(--fill-color);\n",
              "      border-bottom-color: var(--fill-color);\n",
              "    }\n",
              "    90% {\n",
              "      border-color: transparent;\n",
              "      border-bottom-color: var(--fill-color);\n",
              "    }\n",
              "  }\n",
              "</style>\n",
              "\n",
              "      <script>\n",
              "        async function quickchart(key) {\n",
              "          const quickchartButtonEl =\n",
              "            document.querySelector('#' + key + ' button');\n",
              "          quickchartButtonEl.disabled = true;  // To prevent multiple clicks.\n",
              "          quickchartButtonEl.classList.add('colab-df-spinner');\n",
              "          try {\n",
              "            const charts = await google.colab.kernel.invokeFunction(\n",
              "                'suggestCharts', [key], {});\n",
              "          } catch (error) {\n",
              "            console.error('Error during call to suggestCharts:', error);\n",
              "          }\n",
              "          quickchartButtonEl.classList.remove('colab-df-spinner');\n",
              "          quickchartButtonEl.classList.add('colab-df-quickchart-complete');\n",
              "        }\n",
              "        (() => {\n",
              "          let quickchartButtonEl =\n",
              "            document.querySelector('#df-fd5a1325-9cab-47ec-8c52-aed9d5431abf button');\n",
              "          quickchartButtonEl.style.display =\n",
              "            google.colab.kernel.accessAllowed ? 'block' : 'none';\n",
              "        })();\n",
              "      </script>\n",
              "    </div>\n",
              "\n",
              "    </div>\n",
              "  </div>\n"
            ],
            "application/vnd.google.colaboratory.intrinsic+json": {
              "type": "dataframe",
              "variable_name": "df",
              "summary": "{\n  \"name\": \"df\",\n  \"rows\": 9973,\n  \"fields\": [\n    {\n      \"column\": \"Air_temperature\",\n      \"properties\": {\n        \"dtype\": \"number\",\n        \"std\": 1.0000501391361267,\n        \"min\": -2.351103622131081,\n        \"max\": 2.247867909974313,\n        \"num_unique_values\": 93,\n        \"samples\": [\n          -0.3515507820852547,\n          -1.5512824861127674,\n          0.3982815329319301\n        ],\n        \"semantic_type\": \"\",\n        \"description\": \"\"\n      }\n    },\n    {\n      \"column\": \"Process_temperature\",\n      \"properties\": {\n        \"dtype\": \"number\",\n        \"std\": 1.0000501391361416,\n        \"min\": -2.9010381356312425,\n        \"max\": 2.558590183794683,\n        \"num_unique_values\": 82,\n        \"samples\": [\n          -1.8899958542560735,\n          -0.9463563916392268,\n          0.0646858897359416\n        ],\n        \"semantic_type\": \"\",\n        \"description\": \"\"\n      }\n    },\n    {\n      \"column\": \"Rotational_speed\",\n      \"properties\": {\n        \"dtype\": \"number\",\n        \"std\": 1.0000501391361356,\n        \"min\": -2.0673726128961065,\n        \"max\": 7.508823545962598,\n        \"num_unique_values\": 941,\n        \"samples\": [\n          -1.4765246543169317,\n          0.2068346238992086,\n          2.6259668316667746\n        ],\n        \"semantic_type\": \"\",\n        \"description\": \"\"\n      }\n    },\n    {\n      \"column\": \"Torque\",\n      \"properties\": {\n        \"dtype\": \"number\",\n        \"std\": 1.0000501391361356,\n        \"min\": -3.630130998126055,\n        \"max\": 3.6744817810270622,\n        \"num_unique_values\": 577,\n        \"samples\": [\n          -0.389210767814987,\n          2.6008642434317566,\n          -2.747155827019633\n        ],\n        \"semantic_type\": \"\",\n        \"description\": \"\"\n      }\n    },\n    {\n      \"column\": \"Tool_wear\",\n      \"properties\": {\n        \"dtype\": \"number\",\n        \"std\": 1.0000501391361263,\n        \"min\": -1.6956470811542024,\n        \"max\": 2.279467733909639,\n        \"num_unique_values\": 246,\n        \"samples\": [\n          -0.2344388685022764,\n          -1.4756802534431597,\n          1.6824149158368091\n        ],\n        \"semantic_type\": \"\",\n        \"description\": \"\"\n      }\n    },\n    {\n      \"column\": \"Type_High\",\n      \"properties\": {\n        \"dtype\": \"number\",\n        \"std\": 0.3001086096465003,\n        \"min\": 0.0,\n        \"max\": 1.0,\n        \"num_unique_values\": 2,\n        \"samples\": [\n          1.0,\n          0.0\n        ],\n        \"semantic_type\": \"\",\n        \"description\": \"\"\n      }\n    },\n    {\n      \"column\": \"Type_Low\",\n      \"properties\": {\n        \"dtype\": \"number\",\n        \"std\": 0.4899184174482703,\n        \"min\": 0.0,\n        \"max\": 1.0,\n        \"num_unique_values\": 2,\n        \"samples\": [\n          1.0,\n          0.0\n        ],\n        \"semantic_type\": \"\",\n        \"description\": \"\"\n      }\n    },\n    {\n      \"column\": \"Type_Medium\",\n      \"properties\": {\n        \"dtype\": \"number\",\n        \"std\": 0.458241148018549,\n        \"min\": 0.0,\n        \"max\": 1.0,\n        \"num_unique_values\": 2,\n        \"samples\": [\n          0.0,\n          1.0\n        ],\n        \"semantic_type\": \"\",\n        \"description\": \"\"\n      }\n    },\n    {\n      \"column\": \"Failure_type\",\n      \"properties\": {\n        \"dtype\": \"category\",\n        \"num_unique_values\": 5,\n        \"samples\": [\n          \"Power Failure\",\n          \"Heat Dissipation Failure\"\n        ],\n        \"semantic_type\": \"\",\n        \"description\": \"\"\n      }\n    }\n  ]\n}"
            }
          },
          "metadata": {},
          "execution_count": 9
        }
      ]
    },
    {
      "cell_type": "code",
      "execution_count": 10,
      "metadata": {
        "id": "rfElJnEVlNuG"
      },
      "outputs": [],
      "source": [
        "# Define features (X) and target variable (y)\n",
        "X = df.drop('Failure_type', axis=1)  # Features (all columns except 'Failure_type')\n",
        "y = df['Failure_type']  # Target variable"
      ]
    },
    {
      "cell_type": "code",
      "execution_count": 11,
      "metadata": {
        "colab": {
          "base_uri": "https://localhost:8080/"
        },
        "id": "Km7-1YjMlNuH",
        "outputId": "b18b498f-d9a7-4d3d-9738-738a5a6d08cf"
      },
      "outputs": [
        {
          "output_type": "stream",
          "name": "stdout",
          "text": [
            "Training data shape: (7978, 8)\n",
            "Testing data shape: (1995, 8)\n"
          ]
        }
      ],
      "source": [
        "# Split the data into training and testing sets\n",
        "X_train, X_test, y_train, y_test = train_test_split(X, y, test_size=0.2, random_state=42)\n",
        "# Check the shape of the data\n",
        "print(f\"Training data shape: {X_train.shape}\")\n",
        "print(f\"Testing data shape: {X_test.shape}\")"
      ]
    },
    {
      "cell_type": "code",
      "execution_count": 12,
      "metadata": {
        "colab": {
          "base_uri": "https://localhost:8080/"
        },
        "id": "1O6vJ7qilNuH",
        "outputId": "11e4e015-4733-4278-ef0a-7d2439e23dbd"
      },
      "outputs": [
        {
          "output_type": "execute_result",
          "data": {
            "text/plain": [
              "{'Accuracy': 0.9679197994987468,\n",
              " 'Balanced Accuracy': np.float64(0.7401661875673734),\n",
              " 'Macro Recall': 0.9679197994987468,\n",
              " 'Macro Precision': 0.9829511924575601,\n",
              " 'Macro F1': 0.9746780178291959,\n",
              " 'F1 Scores per Class': array([0.74509804, 0.98382046, 0.51851852, 0.79166667, 0.0625    ])}"
            ]
          },
          "metadata": {},
          "execution_count": 12
        }
      ],
      "source": [
        "# Creating pipeline with random forest classifier and smote\n",
        "random_forest_smote = Pipeline(steps=[\n",
        "    ('smote', SMOTE(random_state=2023)),\n",
        "    ('model', RandomForestClassifier(random_state=2023))\n",
        "])\n",
        "\n",
        "# Fit pipeline\n",
        "random_forest_smote.fit(X_train, y_train)\n",
        "\n",
        "# Generate Predictions using the correctly fitted pipeline\n",
        "y_pred = random_forest_smote.predict(X_test)\n",
        "\n",
        "# Evaluate Metrics\n",
        "metrics = get_metrics(y_test, y_pred)\n",
        "\n",
        "# View Results\n",
        "metrics"
      ]
    },
    {
      "cell_type": "code",
      "execution_count": 13,
      "metadata": {
        "colab": {
          "base_uri": "https://localhost:8080/"
        },
        "id": "STqyw3VYlNuH",
        "outputId": "481d2ffd-f362-4b75-f031-8d5e72d5a57f"
      },
      "outputs": [
        {
          "output_type": "execute_result",
          "data": {
            "text/plain": [
              "{'Accuracy': 0.9844611528822055,\n",
              " 'Balanced Accuracy': np.float64(0.5421846927775782),\n",
              " 'Macro Recall': 0.9844611528822055,\n",
              " 'Macro Precision': 0.9812659793000553,\n",
              " 'Macro F1': 0.9816089386055862,\n",
              " 'F1 Scores per Class': array([0.7027027 , 0.99230375, 0.71428571, 0.66666667, 0.        ])}"
            ]
          },
          "metadata": {},
          "execution_count": 13
        }
      ],
      "source": [
        "# Creating model with random forest classifier and balanced class weights\n",
        "\n",
        "# Compute sample weights for class imbalance\n",
        "weights = compute_sample_weight(class_weight='balanced', y=y_train)\n",
        "\n",
        "# Initialize RandomForestClassifier\n",
        "rf_model = RandomForestClassifier(random_state=2023)\n",
        "\n",
        "# Fit the model with sample weights\n",
        "rf_model.fit(X_train, y_train, sample_weight=weights)\n",
        "\n",
        "# Generate predictions\n",
        "y_pred = rf_model.predict(X_test)\n",
        "\n",
        "# Evaluate metrics\n",
        "metrics = get_metrics(y_test, y_pred)\n",
        "\n",
        "# View results\n",
        "metrics"
      ]
    },
    {
      "cell_type": "code",
      "execution_count": 14,
      "metadata": {
        "id": "bNIwPd5OlNuH"
      },
      "outputs": [],
      "source": [
        "# Define the objective function\n",
        "def objective(trial):\n",
        "    # Suggest hyperparameters to optimize\n",
        "    n_estimators = trial.suggest_int('n_estimators', 50, 300)  # Number of trees\n",
        "    max_depth = trial.suggest_int('max_depth', 5, 50)  # Maximum depth of trees\n",
        "    min_samples_split = trial.suggest_int('min_samples_split', 2, 20)  # Minimum samples to split\n",
        "    min_samples_leaf = trial.suggest_int('min_samples_leaf', 1, 20)  # Minimum samples per leaf\n",
        "    max_features = trial.suggest_categorical('max_features', ['sqrt', 'log2', None])  # Features to consider at each split\n",
        "\n",
        "    # Create the pipeline with the suggested hyperparameters\n",
        "    random_forest_class = Pipeline(steps=[\n",
        "        ('model', RandomForestClassifier(\n",
        "            n_estimators=n_estimators,\n",
        "            max_depth=max_depth,\n",
        "            min_samples_split=min_samples_split,\n",
        "            min_samples_leaf=min_samples_leaf,\n",
        "            max_features=max_features,\n",
        "            random_state=2023\n",
        "        ))\n",
        "    ])\n",
        "\n",
        "    # Compute sample weights for imbalanced data\n",
        "    weights = compute_sample_weight(class_weight='balanced', y=y_train)\n",
        "\n",
        "    # Fit the model\n",
        "    random_forest_class.fit(X_train, y_train, model__sample_weight=weights)\n",
        "\n",
        "    # Generate predictions\n",
        "    y_pred = random_forest_class.predict(X_test)\n",
        "\n",
        "    # Evaluate using F1-score (or any other metric)\n",
        "    f1 = f1_score(y_test, y_pred, average='macro')  # Macro F1-score for imbalanced data\n",
        "\n",
        "    return f1  # Optuna will maximize this score"
      ]
    },
    {
      "cell_type": "code",
      "execution_count": 15,
      "metadata": {
        "colab": {
          "base_uri": "https://localhost:8080/"
        },
        "id": "nb-B5XlglNuI",
        "outputId": "46328778-92fa-4ee0-90d6-83e4e0dcbe52"
      },
      "outputs": [
        {
          "output_type": "stream",
          "name": "stderr",
          "text": [
            "[I 2025-07-15 10:25:31,499] A new study created in memory with name: no-name-55d50d7f-557e-4a4a-bf15-09ce4cd82786\n",
            "[I 2025-07-15 10:25:34,780] Trial 0 finished with value: 0.6577082596358783 and parameters: {'n_estimators': 75, 'max_depth': 29, 'min_samples_split': 7, 'min_samples_leaf': 3, 'max_features': None}. Best is trial 0 with value: 0.6577082596358783.\n",
            "[I 2025-07-15 10:25:35,642] Trial 1 finished with value: 0.5224731074465734 and parameters: {'n_estimators': 95, 'max_depth': 9, 'min_samples_split': 17, 'min_samples_leaf': 15, 'max_features': 'log2'}. Best is trial 0 with value: 0.6577082596358783.\n",
            "[I 2025-07-15 10:25:36,663] Trial 2 finished with value: 0.558995503864985 and parameters: {'n_estimators': 128, 'max_depth': 8, 'min_samples_split': 20, 'min_samples_leaf': 6, 'max_features': 'log2'}. Best is trial 0 with value: 0.6577082596358783.\n",
            "[I 2025-07-15 10:25:38,515] Trial 3 finished with value: 0.545539457834654 and parameters: {'n_estimators': 244, 'max_depth': 49, 'min_samples_split': 11, 'min_samples_leaf': 13, 'max_features': 'log2'}. Best is trial 0 with value: 0.6577082596358783.\n",
            "[I 2025-07-15 10:25:39,944] Trial 4 finished with value: 0.5896811787007967 and parameters: {'n_estimators': 106, 'max_depth': 48, 'min_samples_split': 10, 'min_samples_leaf': 10, 'max_features': None}. Best is trial 0 with value: 0.6577082596358783.\n",
            "[I 2025-07-15 10:25:40,480] Trial 5 finished with value: 0.5594582205339924 and parameters: {'n_estimators': 72, 'max_depth': 12, 'min_samples_split': 4, 'min_samples_leaf': 7, 'max_features': 'sqrt'}. Best is trial 0 with value: 0.6577082596358783.\n",
            "[I 2025-07-15 10:25:40,943] Trial 6 finished with value: 0.550241634008181 and parameters: {'n_estimators': 67, 'max_depth': 50, 'min_samples_split': 9, 'min_samples_leaf': 11, 'max_features': 'sqrt'}. Best is trial 0 with value: 0.6577082596358783.\n",
            "[I 2025-07-15 10:25:43,278] Trial 7 finished with value: 0.6074453527008271 and parameters: {'n_estimators': 287, 'max_depth': 30, 'min_samples_split': 19, 'min_samples_leaf': 1, 'max_features': 'log2'}. Best is trial 0 with value: 0.6577082596358783.\n",
            "[I 2025-07-15 10:25:44,441] Trial 8 finished with value: 0.6419793567449938 and parameters: {'n_estimators': 62, 'max_depth': 25, 'min_samples_split': 11, 'min_samples_leaf': 4, 'max_features': None}. Best is trial 0 with value: 0.6577082596358783.\n",
            "[I 2025-07-15 10:25:45,478] Trial 9 finished with value: 0.5269719334355466 and parameters: {'n_estimators': 88, 'max_depth': 38, 'min_samples_split': 3, 'min_samples_leaf': 17, 'max_features': 'log2'}. Best is trial 0 with value: 0.6577082596358783.\n",
            "[I 2025-07-15 10:25:48,549] Trial 10 finished with value: 0.6457245458441742 and parameters: {'n_estimators': 187, 'max_depth': 21, 'min_samples_split': 7, 'min_samples_leaf': 1, 'max_features': None}. Best is trial 0 with value: 0.6577082596358783.\n",
            "[I 2025-07-15 10:25:51,294] Trial 11 finished with value: 0.6457245458441742 and parameters: {'n_estimators': 184, 'max_depth': 21, 'min_samples_split': 7, 'min_samples_leaf': 1, 'max_features': None}. Best is trial 0 with value: 0.6577082596358783.\n",
            "[I 2025-07-15 10:25:53,860] Trial 12 finished with value: 0.6510591997234465 and parameters: {'n_estimators': 179, 'max_depth': 17, 'min_samples_split': 6, 'min_samples_leaf': 4, 'max_features': None}. Best is trial 0 with value: 0.6577082596358783.\n",
            "[I 2025-07-15 10:25:55,894] Trial 13 finished with value: 0.6497100961691052 and parameters: {'n_estimators': 141, 'max_depth': 34, 'min_samples_split': 6, 'min_samples_leaf': 4, 'max_features': None}. Best is trial 0 with value: 0.6577082596358783.\n",
            "[I 2025-07-15 10:25:59,775] Trial 14 finished with value: 0.6043437176298598 and parameters: {'n_estimators': 222, 'max_depth': 16, 'min_samples_split': 15, 'min_samples_leaf': 8, 'max_features': None}. Best is trial 0 with value: 0.6577082596358783.\n",
            "[I 2025-07-15 10:26:02,037] Trial 15 finished with value: 0.6511114567133229 and parameters: {'n_estimators': 158, 'max_depth': 40, 'min_samples_split': 2, 'min_samples_leaf': 4, 'max_features': None}. Best is trial 0 with value: 0.6577082596358783.\n",
            "[I 2025-07-15 10:26:03,978] Trial 16 finished with value: 0.543377257602189 and parameters: {'n_estimators': 145, 'max_depth': 41, 'min_samples_split': 2, 'min_samples_leaf': 20, 'max_features': None}. Best is trial 0 with value: 0.6577082596358783.\n",
            "[I 2025-07-15 10:26:05,523] Trial 17 finished with value: 0.6011279312446177 and parameters: {'n_estimators': 224, 'max_depth': 40, 'min_samples_split': 13, 'min_samples_leaf': 5, 'max_features': 'sqrt'}. Best is trial 0 with value: 0.6577082596358783.\n",
            "[I 2025-07-15 10:26:07,183] Trial 18 finished with value: 0.600842886554916 and parameters: {'n_estimators': 120, 'max_depth': 30, 'min_samples_split': 4, 'min_samples_leaf': 9, 'max_features': None}. Best is trial 0 with value: 0.6577082596358783.\n",
            "[I 2025-07-15 10:26:09,706] Trial 19 finished with value: 0.6613071750488667 and parameters: {'n_estimators': 157, 'max_depth': 44, 'min_samples_split': 2, 'min_samples_leaf': 3, 'max_features': None}. Best is trial 19 with value: 0.6613071750488667.\n"
          ]
        },
        {
          "output_type": "stream",
          "name": "stdout",
          "text": [
            "Best hyperparameters: {'n_estimators': 157, 'max_depth': 44, 'min_samples_split': 2, 'min_samples_leaf': 3, 'max_features': None}\n",
            "Best F1-score: 0.6613071750488667\n"
          ]
        }
      ],
      "source": [
        "# Create a study object\n",
        "study = optuna.create_study(direction='maximize')  # We want to maximize F1-score\n",
        "\n",
        "# Optimize the study\n",
        "study.optimize(objective, n_trials=20)  # Run 20 trials (you can increase this for better results)\n",
        "\n",
        "# Print the best hyperparameters\n",
        "print(\"Best hyperparameters:\", study.best_params)\n",
        "print(\"Best F1-score:\", study.best_value)"
      ]
    },
    {
      "cell_type": "code",
      "execution_count": 16,
      "metadata": {
        "colab": {
          "base_uri": "https://localhost:8080/"
        },
        "id": "W_FeoyN7lNuI",
        "outputId": "6b13179b-7ab8-4a02-c818-62786d6e2221"
      },
      "outputs": [
        {
          "output_type": "execute_result",
          "data": {
            "text/plain": [
              "{'Accuracy': 0.9859649122807017,\n",
              " 'Balanced Accuracy': np.float64(0.7125808480057492),\n",
              " 'Macro Recall': 0.9859649122807017,\n",
              " 'Macro Precision': 0.9855378660481174,\n",
              " 'Macro F1': 0.9855413079473047}"
            ]
          },
          "metadata": {},
          "execution_count": 16
        }
      ],
      "source": [
        "# Extract the best hyperparameters\n",
        "best_params = study.best_params\n",
        "\n",
        "# Train the final model with the best hyperparameters\n",
        "final_model = Pipeline(steps=[\n",
        "    ('model', RandomForestClassifier(\n",
        "        n_estimators=best_params['n_estimators'],\n",
        "        max_depth=best_params['max_depth'],\n",
        "        min_samples_split=best_params['min_samples_split'],\n",
        "        min_samples_leaf=best_params['min_samples_leaf'],\n",
        "        max_features=best_params['max_features'],\n",
        "        random_state=2023\n",
        "    ))\n",
        "])\n",
        "\n",
        "# Compute sample weights\n",
        "weights = compute_sample_weight(class_weight='balanced', y=y_train)\n",
        "\n",
        "# Fit the final model\n",
        "final_model.fit(X_train, y_train, model__sample_weight=weights)\n",
        "\n",
        "# Generate predictions\n",
        "y_pred = final_model.predict(X_test)\n",
        "\n",
        "# Evaluate metrics\n",
        "metrics = get_metrics(y_test, y_pred)\n",
        "\n",
        "# Remove 'F1 Scores per Class' from metrics\n",
        "if 'F1 Scores per Class' in metrics:\n",
        "    del metrics['F1 Scores per Class']\n",
        "\n",
        "# View results\n",
        "metrics"
      ]
    }
  ],
  "metadata": {
    "kernelspec": {
      "display_name": "My env pump failure)",
      "language": "python",
      "name": "my-env-with-poetry"
    },
    "language_info": {
      "codemirror_mode": {
        "name": "ipython",
        "version": 3
      },
      "file_extension": ".py",
      "mimetype": "text/x-python",
      "name": "python",
      "nbconvert_exporter": "python",
      "pygments_lexer": "ipython3",
      "version": "3.10.14"
    },
    "colab": {
      "provenance": [],
      "include_colab_link": true
    }
  },
  "nbformat": 4,
  "nbformat_minor": 0
}