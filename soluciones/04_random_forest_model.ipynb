{
 "cells": [
  {
   "cell_type": "code",
   "execution_count": 23,
   "metadata": {},
   "outputs": [],
   "source": [
    "import yaml\n",
    "import os"
   ]
  },
  {
   "cell_type": "code",
   "execution_count": 24,
   "metadata": {},
   "outputs": [],
   "source": [
    "# Data wrangling\n",
    "import pandas as pd\n",
    "import numpy as np"
   ]
  },
  {
   "cell_type": "code",
   "execution_count": 25,
   "metadata": {},
   "outputs": [],
   "source": [
    "from imblearn.over_sampling import SMOTE\n",
    "from sklearn.ensemble import RandomForestClassifier\n",
    "from sklearn.utils import class_weight\n",
    "from sklearn.utils.class_weight import compute_class_weight"
   ]
  },
  {
   "cell_type": "code",
   "execution_count": 26,
   "metadata": {},
   "outputs": [],
   "source": [
    "%run \"C:/Users/mjkipsz2/OneDrive - The University of Manchester/Desktop/Pump failure/utils.py\""
   ]
  },
  {
   "cell_type": "code",
   "execution_count": 33,
   "metadata": {},
   "outputs": [],
   "source": [
    "from sklearn.model_selection import train_test_split\n",
    "from imblearn.pipeline import Pipeline"
   ]
  },
  {
   "cell_type": "code",
   "execution_count": 35,
   "metadata": {},
   "outputs": [],
   "source": [
    "import optuna\n",
    "from sklearn.utils.class_weight import compute_sample_weight\n",
    "from sklearn.metrics import f1_score"
   ]
  },
  {
   "cell_type": "code",
   "execution_count": 41,
   "metadata": {},
   "outputs": [
    {
     "name": "stderr",
     "output_type": "stream",
     "text": [
      "2024/12/20 14:28:15 INFO mlflow.tracking.fluent: Experiment with name 'pump_failure_prediction' does not exist. Creating a new experiment.\n"
     ]
    },
    {
     "data": {
      "text/plain": [
       "<Experiment: artifact_location=('file:///c:/Users/mjkipsz2/OneDrive - The University of '\n",
       " 'Manchester/Desktop/Pump failure/notebook/mlruns/307286651761719792'), creation_time=1734704895170, experiment_id='307286651761719792', last_update_time=1734704895170, lifecycle_stage='active', name='pump_failure_prediction', tags={}>"
      ]
     },
     "execution_count": 41,
     "metadata": {},
     "output_type": "execute_result"
    }
   ],
   "source": [
    "import mlflow\n",
    "import mlflow.sklearn\n",
    "mlflow.set_tracking_uri(\"file:./mlruns\")\n",
    "mlflow.set_experiment(\"pump_failure_prediction\")"
   ]
  },
  {
   "cell_type": "code",
   "execution_count": 28,
   "metadata": {},
   "outputs": [
    {
     "data": {
      "text/html": [
       "<div>\n",
       "<style scoped>\n",
       "    .dataframe tbody tr th:only-of-type {\n",
       "        vertical-align: middle;\n",
       "    }\n",
       "\n",
       "    .dataframe tbody tr th {\n",
       "        vertical-align: top;\n",
       "    }\n",
       "\n",
       "    .dataframe thead th {\n",
       "        text-align: right;\n",
       "    }\n",
       "</style>\n",
       "<table border=\"1\" class=\"dataframe\">\n",
       "  <thead>\n",
       "    <tr style=\"text-align: right;\">\n",
       "      <th></th>\n",
       "      <th>Air_temperature</th>\n",
       "      <th>Process_temperature</th>\n",
       "      <th>Rotational_speed</th>\n",
       "      <th>Torque</th>\n",
       "      <th>Tool_wear</th>\n",
       "      <th>Type_High</th>\n",
       "      <th>Type_Low</th>\n",
       "      <th>Type_Medium</th>\n",
       "      <th>Failure_type</th>\n",
       "    </tr>\n",
       "  </thead>\n",
       "  <tbody>\n",
       "    <tr>\n",
       "      <th>0</th>\n",
       "      <td>-0.951417</td>\n",
       "      <td>-0.946356</td>\n",
       "      <td>0.067484</td>\n",
       "      <td>0.283054</td>\n",
       "      <td>-1.695647</td>\n",
       "      <td>0.0</td>\n",
       "      <td>0.0</td>\n",
       "      <td>1.0</td>\n",
       "      <td>No Failure</td>\n",
       "    </tr>\n",
       "    <tr>\n",
       "      <th>1</th>\n",
       "      <td>-0.901428</td>\n",
       "      <td>-0.878954</td>\n",
       "      <td>-0.729604</td>\n",
       "      <td>0.634238</td>\n",
       "      <td>-1.648511</td>\n",
       "      <td>0.0</td>\n",
       "      <td>1.0</td>\n",
       "      <td>0.0</td>\n",
       "      <td>No Failure</td>\n",
       "    </tr>\n",
       "    <tr>\n",
       "      <th>2</th>\n",
       "      <td>-0.951417</td>\n",
       "      <td>-1.013759</td>\n",
       "      <td>-0.227940</td>\n",
       "      <td>0.945286</td>\n",
       "      <td>-1.617087</td>\n",
       "      <td>0.0</td>\n",
       "      <td>1.0</td>\n",
       "      <td>0.0</td>\n",
       "      <td>No Failure</td>\n",
       "    </tr>\n",
       "    <tr>\n",
       "      <th>3</th>\n",
       "      <td>-0.901428</td>\n",
       "      <td>-0.946356</td>\n",
       "      <td>-0.590253</td>\n",
       "      <td>-0.048061</td>\n",
       "      <td>-1.585664</td>\n",
       "      <td>0.0</td>\n",
       "      <td>1.0</td>\n",
       "      <td>0.0</td>\n",
       "      <td>No Failure</td>\n",
       "    </tr>\n",
       "    <tr>\n",
       "      <th>4</th>\n",
       "      <td>-0.901428</td>\n",
       "      <td>-0.878954</td>\n",
       "      <td>-0.729604</td>\n",
       "      <td>0.002108</td>\n",
       "      <td>-1.554240</td>\n",
       "      <td>0.0</td>\n",
       "      <td>1.0</td>\n",
       "      <td>0.0</td>\n",
       "      <td>No Failure</td>\n",
       "    </tr>\n",
       "  </tbody>\n",
       "</table>\n",
       "</div>"
      ],
      "text/plain": [
       "   Air_temperature  Process_temperature  Rotational_speed    Torque  \\\n",
       "0        -0.951417            -0.946356          0.067484  0.283054   \n",
       "1        -0.901428            -0.878954         -0.729604  0.634238   \n",
       "2        -0.951417            -1.013759         -0.227940  0.945286   \n",
       "3        -0.901428            -0.946356         -0.590253 -0.048061   \n",
       "4        -0.901428            -0.878954         -0.729604  0.002108   \n",
       "\n",
       "   Tool_wear  Type_High  Type_Low  Type_Medium Failure_type  \n",
       "0  -1.695647        0.0       0.0          1.0   No Failure  \n",
       "1  -1.648511        0.0       1.0          0.0   No Failure  \n",
       "2  -1.617087        0.0       1.0          0.0   No Failure  \n",
       "3  -1.585664        0.0       1.0          0.0   No Failure  \n",
       "4  -1.554240        0.0       1.0          0.0   No Failure  "
      ]
     },
     "execution_count": 28,
     "metadata": {},
     "output_type": "execute_result"
    }
   ],
   "source": [
    "# Load the configuration file\n",
    "with open('../config.yaml', 'r') as config_file:\n",
    "    config = yaml.safe_load(config_file)\n",
    "\n",
    "# Access the settings\n",
    "project_folder = config['projectFolder']\n",
    "df_path = os.path.join(project_folder, config['transformedDataFile'])\n",
    "df = pd.read_csv(df_path)\n",
    "\n",
    "# Display the first few rows\n",
    "df.head()"
   ]
  },
  {
   "cell_type": "code",
   "execution_count": 29,
   "metadata": {},
   "outputs": [],
   "source": [
    "# Define features (X) and target variable (y)\n",
    "X = df.drop('Failure_type', axis=1)  # Features (all columns except 'Failure_type')\n",
    "y = df['Failure_type']  # Target variable"
   ]
  },
  {
   "cell_type": "code",
   "execution_count": 30,
   "metadata": {},
   "outputs": [
    {
     "name": "stdout",
     "output_type": "stream",
     "text": [
      "Training data shape: (7978, 8)\n",
      "Testing data shape: (1995, 8)\n"
     ]
    }
   ],
   "source": [
    "# Split the data into training and testing sets\n",
    "X_train, X_test, y_train, y_test = train_test_split(X, y, test_size=0.2, random_state=42)\n",
    "# Check the shape of the data\n",
    "print(f\"Training data shape: {X_train.shape}\")\n",
    "print(f\"Testing data shape: {X_test.shape}\")"
   ]
  },
  {
   "cell_type": "code",
   "execution_count": 31,
   "metadata": {},
   "outputs": [
    {
     "name": "stderr",
     "output_type": "stream",
     "text": [
      "c:\\Users\\mjkipsz2\\OneDrive - The University of Manchester\\Desktop\\Pump failure\\.venv\\lib\\site-packages\\sklearn\\base.py:474: FutureWarning: `BaseEstimator._validate_data` is deprecated in 1.6 and will be removed in 1.7. Use `sklearn.utils.validation.validate_data` instead. This function becomes public and is part of the scikit-learn developer API.\n",
      "  warnings.warn(\n",
      "c:\\Users\\mjkipsz2\\OneDrive - The University of Manchester\\Desktop\\Pump failure\\.venv\\lib\\site-packages\\sklearn\\utils\\_tags.py:354: FutureWarning: The SMOTE or classes from which it inherits use `_get_tags` and `_more_tags`. Please define the `__sklearn_tags__` method, or inherit from `sklearn.base.BaseEstimator` and/or other appropriate mixins such as `sklearn.base.TransformerMixin`, `sklearn.base.ClassifierMixin`, `sklearn.base.RegressorMixin`, and `sklearn.base.OutlierMixin`. From scikit-learn 1.7, not defining `__sklearn_tags__` will raise an error.\n",
      "  warnings.warn(\n"
     ]
    },
    {
     "data": {
      "text/plain": [
       "{'Accuracy': 0.9679197994987468,\n",
       " 'Balanced Accuracy': np.float64(0.7401661875673734),\n",
       " 'Macro Recall': 0.7401661875673734,\n",
       " 'Macro Precision': 0.5676455660952664,\n",
       " 'Macro F1': 0.6203207367382119,\n",
       " 'F1 Scores per Class': array([0.74509804, 0.98382046, 0.51851852, 0.79166667, 0.0625    ])}"
      ]
     },
     "execution_count": 31,
     "metadata": {},
     "output_type": "execute_result"
    }
   ],
   "source": [
    "# Creating pipeline with random forest classifier and smote\n",
    "random_forest_smote = Pipeline(steps=[\n",
    "    ('smote', SMOTE(random_state=2023)),\n",
    "    ('model', RandomForestClassifier(random_state=2023))\n",
    "])\n",
    "\n",
    "# Fit pipeline \n",
    "random_forest_smote.fit(X_train, y_train)\n",
    "\n",
    "# Generate Predictions using the correctly fitted pipeline\n",
    "y_pred = random_forest_smote.predict(X_test)\n",
    "\n",
    "# Evaluate Metrics\n",
    "metrics = get_metrics(y_test, y_pred)\n",
    "\n",
    "# View Results\n",
    "metrics"
   ]
  },
  {
   "cell_type": "code",
   "execution_count": null,
   "metadata": {},
   "outputs": [
    {
     "name": "stdout",
     "output_type": "stream",
     "text": [
      "{'Accuracy': 0.9869674185463659, 'Balanced Accuracy': np.float64(0.6019673014732303), 'Macro Recall': 0.6019673014732303, 'Macro Precision': 0.7430276147249908, 'Macro F1': 0.6592561840031659, 'F1 Scores per Class': array([0.8       , 0.99357822, 0.8       , 0.7027027 , 0.        ])}\n"
     ]
    }
   ],
   "source": [
    "# Creating model with random forest classifier and balanced class weights\n",
    "\n",
    "# Compute sample weights for class imbalance\n",
    "weights = compute_sample_weight(class_weight='balanced', y=y_train)\n",
    "\n",
    "# Initialize RandomForestClassifier\n",
    "rf_model = RandomForestClassifier(random_state=2023)\n",
    "\n",
    "# Fit the model with sample weights\n",
    "rf_model.fit(X_train, y_train, sample_weight=weights)\n",
    "\n",
    "# Generate predictions\n",
    "y_pred = rf_model.predict(X_test)\n",
    "\n",
    "# Evaluate metrics\n",
    "metrics = get_metrics(y_test, y_pred)\n",
    "\n",
    "# View results\n",
    "metrics"
   ]
  },
  {
   "cell_type": "code",
   "execution_count": 51,
   "metadata": {},
   "outputs": [],
   "source": [
    "# Define the objective function\n",
    "def objective(trial):\n",
    "    # Suggest hyperparameters to optimize\n",
    "    n_estimators = trial.suggest_int('n_estimators', 50, 300)  # Number of trees\n",
    "    max_depth = trial.suggest_int('max_depth', 5, 50)  # Maximum depth of trees\n",
    "    min_samples_split = trial.suggest_int('min_samples_split', 2, 20)  # Minimum samples to split\n",
    "    min_samples_leaf = trial.suggest_int('min_samples_leaf', 1, 20)  # Minimum samples per leaf\n",
    "    max_features = trial.suggest_categorical('max_features', ['sqrt', 'log2', None])  # Features to consider at each split\n",
    "\n",
    "    # Create the pipeline with the suggested hyperparameters\n",
    "    random_forest_class = Pipeline(steps=[\n",
    "        ('model', RandomForestClassifier(\n",
    "            n_estimators=n_estimators,\n",
    "            max_depth=max_depth,\n",
    "            min_samples_split=min_samples_split,\n",
    "            min_samples_leaf=min_samples_leaf,\n",
    "            max_features=max_features,\n",
    "            random_state=2023\n",
    "        ))\n",
    "    ])\n",
    "\n",
    "    # Compute sample weights for imbalanced data\n",
    "    weights = compute_sample_weight(class_weight='balanced', y=y_train)\n",
    "\n",
    "    # Fit the model\n",
    "    random_forest_class.fit(X_train, y_train, model__sample_weight=weights)\n",
    "\n",
    "    # Generate predictions\n",
    "    y_pred = random_forest_class.predict(X_test)\n",
    "\n",
    "    # Evaluate using F1-score (or any other metric)\n",
    "    f1 = f1_score(y_test, y_pred, average='macro')  # Macro F1-score for imbalanced data\n",
    "\n",
    "    return f1  # Optuna will maximize this score"
   ]
  },
  {
   "cell_type": "code",
   "execution_count": 38,
   "metadata": {},
   "outputs": [
    {
     "name": "stderr",
     "output_type": "stream",
     "text": [
      "[I 2024-12-20 14:21:13,573] A new study created in memory with name: no-name-e19c82a7-eceb-4f23-a018-0c0d76506dd0\n",
      "[I 2024-12-20 14:21:14,965] Trial 0 finished with value: 0.5889721296356367 and parameters: {'n_estimators': 173, 'max_depth': 30, 'min_samples_split': 6, 'min_samples_leaf': 9, 'max_features': None}. Best is trial 0 with value: 0.5889721296356367.\n",
      "[I 2024-12-20 14:21:15,593] Trial 1 finished with value: 0.5103395193144717 and parameters: {'n_estimators': 167, 'max_depth': 35, 'min_samples_split': 2, 'min_samples_leaf': 17, 'max_features': 'sqrt'}. Best is trial 0 with value: 0.5889721296356367.\n",
      "[I 2024-12-20 14:21:16,903] Trial 2 finished with value: 0.5889721296356367 and parameters: {'n_estimators': 168, 'max_depth': 45, 'min_samples_split': 17, 'min_samples_leaf': 9, 'max_features': None}. Best is trial 0 with value: 0.5889721296356367.\n",
      "[I 2024-12-20 14:21:17,840] Trial 3 finished with value: 0.5278526205355474 and parameters: {'n_estimators': 199, 'max_depth': 30, 'min_samples_split': 3, 'min_samples_leaf': 16, 'max_features': 'log2'}. Best is trial 0 with value: 0.5889721296356367.\n",
      "[I 2024-12-20 14:21:19,928] Trial 4 finished with value: 0.5647742255471384 and parameters: {'n_estimators': 270, 'max_depth': 47, 'min_samples_split': 15, 'min_samples_leaf': 14, 'max_features': None}. Best is trial 0 with value: 0.5889721296356367.\n",
      "[I 2024-12-20 14:21:20,971] Trial 5 finished with value: 0.5570956516257567 and parameters: {'n_estimators': 274, 'max_depth': 22, 'min_samples_split': 9, 'min_samples_leaf': 10, 'max_features': 'sqrt'}. Best is trial 0 with value: 0.5889721296356367.\n",
      "[I 2024-12-20 14:21:23,251] Trial 6 finished with value: 0.5536788757817592 and parameters: {'n_estimators': 284, 'max_depth': 9, 'min_samples_split': 8, 'min_samples_leaf': 16, 'max_features': None}. Best is trial 0 with value: 0.5889721296356367.\n",
      "[I 2024-12-20 14:21:23,884] Trial 7 finished with value: 0.5976939321730134 and parameters: {'n_estimators': 153, 'max_depth': 34, 'min_samples_split': 19, 'min_samples_leaf': 4, 'max_features': 'sqrt'}. Best is trial 7 with value: 0.5976939321730134.\n",
      "[I 2024-12-20 14:21:24,807] Trial 8 finished with value: 0.5437904775486104 and parameters: {'n_estimators': 236, 'max_depth': 26, 'min_samples_split': 15, 'min_samples_leaf': 9, 'max_features': 'sqrt'}. Best is trial 7 with value: 0.5976939321730134.\n",
      "[I 2024-12-20 14:21:25,587] Trial 9 finished with value: 0.5517339041014228 and parameters: {'n_estimators': 199, 'max_depth': 15, 'min_samples_split': 7, 'min_samples_leaf': 9, 'max_features': 'sqrt'}. Best is trial 7 with value: 0.5976939321730134.\n",
      "[I 2024-12-20 14:21:26,024] Trial 10 finished with value: 0.6137088238117612 and parameters: {'n_estimators': 82, 'max_depth': 38, 'min_samples_split': 20, 'min_samples_leaf': 2, 'max_features': 'log2'}. Best is trial 10 with value: 0.6137088238117612.\n",
      "[I 2024-12-20 14:21:26,423] Trial 11 finished with value: 0.599188749418875 and parameters: {'n_estimators': 76, 'max_depth': 40, 'min_samples_split': 20, 'min_samples_leaf': 1, 'max_features': 'log2'}. Best is trial 10 with value: 0.6137088238117612.\n",
      "[I 2024-12-20 14:21:26,816] Trial 12 finished with value: 0.6007525033001706 and parameters: {'n_estimators': 71, 'max_depth': 41, 'min_samples_split': 20, 'min_samples_leaf': 1, 'max_features': 'log2'}. Best is trial 10 with value: 0.6137088238117612.\n",
      "[I 2024-12-20 14:21:27,096] Trial 13 finished with value: 0.6195837104072399 and parameters: {'n_estimators': 52, 'max_depth': 50, 'min_samples_split': 13, 'min_samples_leaf': 4, 'max_features': 'log2'}. Best is trial 13 with value: 0.6195837104072399.\n",
      "[I 2024-12-20 14:21:27,643] Trial 14 finished with value: 0.6264709627403307 and parameters: {'n_estimators': 113, 'max_depth': 50, 'min_samples_split': 12, 'min_samples_leaf': 5, 'max_features': 'log2'}. Best is trial 14 with value: 0.6264709627403307.\n",
      "[I 2024-12-20 14:21:28,212] Trial 15 finished with value: 0.6257058019751699 and parameters: {'n_estimators': 118, 'max_depth': 49, 'min_samples_split': 12, 'min_samples_leaf': 5, 'max_features': 'log2'}. Best is trial 14 with value: 0.6264709627403307.\n",
      "[I 2024-12-20 14:21:28,796] Trial 16 finished with value: 0.6322743650231339 and parameters: {'n_estimators': 119, 'max_depth': 44, 'min_samples_split': 11, 'min_samples_leaf': 6, 'max_features': 'log2'}. Best is trial 16 with value: 0.6322743650231339.\n",
      "[I 2024-12-20 14:21:29,381] Trial 17 finished with value: 0.6291908697013262 and parameters: {'n_estimators': 122, 'max_depth': 44, 'min_samples_split': 10, 'min_samples_leaf': 6, 'max_features': 'log2'}. Best is trial 16 with value: 0.6322743650231339.\n",
      "[I 2024-12-20 14:21:29,969] Trial 18 finished with value: 0.5045207339572897 and parameters: {'n_estimators': 128, 'max_depth': 44, 'min_samples_split': 10, 'min_samples_leaf': 20, 'max_features': 'log2'}. Best is trial 16 with value: 0.6322743650231339.\n",
      "[I 2024-12-20 14:21:30,668] Trial 19 finished with value: 0.6065215176979882 and parameters: {'n_estimators': 140, 'max_depth': 21, 'min_samples_split': 5, 'min_samples_leaf': 7, 'max_features': 'log2'}. Best is trial 16 with value: 0.6322743650231339.\n"
     ]
    },
    {
     "name": "stdout",
     "output_type": "stream",
     "text": [
      "Best hyperparameters: {'n_estimators': 119, 'max_depth': 44, 'min_samples_split': 11, 'min_samples_leaf': 6, 'max_features': 'log2'}\n",
      "Best F1-score: 0.6322743650231339\n"
     ]
    }
   ],
   "source": [
    "# Create a study object\n",
    "study = optuna.create_study(direction='maximize')  # We want to maximize F1-score\n",
    "\n",
    "# Optimize the study\n",
    "study.optimize(objective, n_trials=20)  # Run 20 trials (you can increase this for better results)\n",
    "\n",
    "# Print the best hyperparameters\n",
    "print(\"Best hyperparameters:\", study.best_params)\n",
    "print(\"Best F1-score:\", study.best_value)"
   ]
  },
  {
   "cell_type": "code",
   "execution_count": 49,
   "metadata": {},
   "outputs": [
    {
     "name": "stderr",
     "output_type": "stream",
     "text": [
      "2024/12/20 14:37:35 WARNING mlflow.models.model: Model logged without a signature and input example. Please set `input_example` parameter when logging the model to auto infer the model signature.\n"
     ]
    },
    {
     "data": {
      "text/plain": [
       "{'Accuracy': 0.9689223057644111,\n",
       " 'Balanced Accuracy': np.float64(0.8481279195113188),\n",
       " 'Macro Recall': 0.8481279195113188,\n",
       " 'Macro Precision': 0.5391545520593068,\n",
       " 'Macro F1': 0.6322743650231339}"
      ]
     },
     "execution_count": 49,
     "metadata": {},
     "output_type": "execute_result"
    }
   ],
   "source": [
    "# Extract the best hyperparameters\n",
    "best_params = study.best_params\n",
    "\n",
    "# Train the final model with the best hyperparameters\n",
    "final_model = Pipeline(steps=[\n",
    "    ('model', RandomForestClassifier(\n",
    "        n_estimators=best_params['n_estimators'],\n",
    "        max_depth=best_params['max_depth'],\n",
    "        min_samples_split=best_params['min_samples_split'],\n",
    "        min_samples_leaf=best_params['min_samples_leaf'],\n",
    "        max_features=best_params['max_features'],\n",
    "        random_state=2023\n",
    "    ))\n",
    "])\n",
    "\n",
    "# Compute sample weights\n",
    "weights = compute_sample_weight(class_weight='balanced', y=y_train)\n",
    "\n",
    "# Start an MLflow run\n",
    "with mlflow.start_run(run_name=\"rf_classification_run\"):\n",
    "\n",
    "    # Log the best hyperparameters\n",
    "    mlflow.log_params(best_params)\n",
    "    \n",
    "    # Fit the final model\n",
    "    final_model.fit(X_train, y_train, model__sample_weight=weights)\n",
    "    \n",
    "    # Generate predictions\n",
    "    y_pred = final_model.predict(X_test)\n",
    "    \n",
    "    # Evaluate metrics\n",
    "    metrics = get_metrics(y_test, y_pred)\n",
    "    \n",
    "    # Remove 'F1 Scores per Class' from metrics\n",
    "    if 'F1 Scores per Class' in metrics:\n",
    "        del metrics['F1 Scores per Class']\n",
    "    \n",
    "    # Log metrics\n",
    "    mlflow.log_metrics(metrics)\n",
    "    \n",
    "    # Optionally, log the final model\n",
    "    mlflow.sklearn.log_model(final_model, \"random_forest_classifier\")\n",
    "\n",
    "# View results\n",
    "metrics"
   ]
  }
 ],
 "metadata": {
  "kernelspec": {
   "display_name": "My env pump failure)",
   "language": "python",
   "name": "my-env-with-poetry"
  },
  "language_info": {
   "codemirror_mode": {
    "name": "ipython",
    "version": 3
   },
   "file_extension": ".py",
   "mimetype": "text/x-python",
   "name": "python",
   "nbconvert_exporter": "python",
   "pygments_lexer": "ipython3",
   "version": "3.10.14"
  }
 },
 "nbformat": 4,
 "nbformat_minor": 2
}
