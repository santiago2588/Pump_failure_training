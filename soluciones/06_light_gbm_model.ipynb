{
  "cells": [
    {
      "cell_type": "markdown",
      "metadata": {
        "id": "view-in-github",
        "colab_type": "text"
      },
      "source": [
        "<a href=\"https://colab.research.google.com/github/santiago2588/Pump_failure_training/blob/main/soluciones/06_light_gbm_model.ipynb\" target=\"_parent\"><img src=\"https://colab.research.google.com/assets/colab-badge.svg\" alt=\"Open In Colab\"/></a>"
      ]
    },
    {
      "cell_type": "code",
      "execution_count": 1,
      "metadata": {
        "id": "XQqEJ9AGpJ69"
      },
      "outputs": [],
      "source": [
        "# Data wrangling\n",
        "import pandas as pd\n",
        "import numpy as np"
      ]
    },
    {
      "cell_type": "code",
      "execution_count": 2,
      "metadata": {
        "id": "kEzaGJ_XpJ69"
      },
      "outputs": [],
      "source": [
        "from imblearn.over_sampling import SMOTE\n",
        "from lightgbm import LGBMClassifier\n",
        "from sklearn.utils import class_weight\n",
        "from sklearn.preprocessing import LabelEncoder\n",
        "from sklearn.utils.class_weight import compute_sample_weight"
      ]
    },
    {
      "cell_type": "code",
      "execution_count": 3,
      "metadata": {
        "colab": {
          "base_uri": "https://localhost:8080/"
        },
        "id": "Y_dSTY99pJ69",
        "outputId": "ed31cd65-3ad3-4c56-903c-95f13c032b97"
      },
      "outputs": [
        {
          "output_type": "stream",
          "name": "stdout",
          "text": [
            "--2025-07-15 10:46:53--  https://raw.githubusercontent.com/santiago2588/pump_failure_training/main/utils.py\n",
            "Resolving raw.githubusercontent.com (raw.githubusercontent.com)... 185.199.109.133, 185.199.111.133, 185.199.108.133, ...\n",
            "Connecting to raw.githubusercontent.com (raw.githubusercontent.com)|185.199.109.133|:443... connected.\n",
            "HTTP request sent, awaiting response... 200 OK\n",
            "Length: 2407 (2.4K) [text/plain]\n",
            "Saving to: ‘utils.py.2’\n",
            "\n",
            "\rutils.py.2            0%[                    ]       0  --.-KB/s               \rutils.py.2          100%[===================>]   2.35K  --.-KB/s    in 0s      \n",
            "\n",
            "2025-07-15 10:46:53 (30.0 MB/s) - ‘utils.py.2’ saved [2407/2407]\n",
            "\n"
          ]
        }
      ],
      "source": [
        "# Download and run the utils.py file from your GitHub repository\n",
        "!wget https://raw.githubusercontent.com/santiago2588/pump_failure_training/main/utils.py\n",
        "%run utils.py"
      ]
    },
    {
      "cell_type": "code",
      "execution_count": 4,
      "metadata": {
        "id": "r0FQaJ-JpJ69"
      },
      "outputs": [],
      "source": [
        "from sklearn.model_selection import train_test_split\n",
        "from imblearn.pipeline import Pipeline"
      ]
    },
    {
      "cell_type": "code",
      "source": [
        "%pip install optuna -q\n",
        "import optuna"
      ],
      "metadata": {
        "id": "-1IPgE8_pQIu"
      },
      "execution_count": 5,
      "outputs": []
    },
    {
      "cell_type": "code",
      "execution_count": 6,
      "metadata": {
        "id": "QeApdHPzpJ69"
      },
      "outputs": [],
      "source": [
        "from sklearn.utils.class_weight import compute_sample_weight\n",
        "from sklearn.metrics import f1_score"
      ]
    },
    {
      "cell_type": "code",
      "execution_count": 7,
      "metadata": {
        "colab": {
          "base_uri": "https://localhost:8080/",
          "height": 397
        },
        "id": "7xFtkNj1pJ69",
        "outputId": "f2263f53-739e-4024-e5d4-a19909fcbc23"
      },
      "outputs": [
        {
          "output_type": "stream",
          "name": "stdout",
          "text": [
            "--2025-07-15 10:47:08--  https://raw.githubusercontent.com/santiago2588/pump_failure_training/main/data/transformed_data.csv\n",
            "Resolving raw.githubusercontent.com (raw.githubusercontent.com)... 185.199.111.133, 185.199.109.133, 185.199.110.133, ...\n",
            "Connecting to raw.githubusercontent.com (raw.githubusercontent.com)|185.199.111.133|:443... connected.\n",
            "HTTP request sent, awaiting response... 200 OK\n",
            "Length: 1210184 (1.2M) [text/plain]\n",
            "Saving to: ‘transformed_data.csv’\n",
            "\n",
            "\rtransformed_data.cs   0%[                    ]       0  --.-KB/s               \rtransformed_data.cs 100%[===================>]   1.15M  --.-KB/s    in 0.06s   \n",
            "\n",
            "2025-07-15 10:47:08 (18.1 MB/s) - ‘transformed_data.csv’ saved [1210184/1210184]\n",
            "\n"
          ]
        },
        {
          "output_type": "execute_result",
          "data": {
            "text/plain": [
              "   Air_temperature  Process_temperature  Rotational_speed    Torque  \\\n",
              "0        -0.951417            -0.946356          0.067484  0.283054   \n",
              "1        -0.901428            -0.878954         -0.729604  0.634238   \n",
              "2        -0.951417            -1.013759         -0.227940  0.945286   \n",
              "3        -0.901428            -0.946356         -0.590253 -0.048061   \n",
              "4        -0.901428            -0.878954         -0.729604  0.002108   \n",
              "\n",
              "   Tool_wear  Type_High  Type_Low  Type_Medium Failure_type  \n",
              "0  -1.695647        0.0       0.0          1.0   No Failure  \n",
              "1  -1.648511        0.0       1.0          0.0   No Failure  \n",
              "2  -1.617087        0.0       1.0          0.0   No Failure  \n",
              "3  -1.585664        0.0       1.0          0.0   No Failure  \n",
              "4  -1.554240        0.0       1.0          0.0   No Failure  "
            ],
            "text/html": [
              "\n",
              "  <div id=\"df-d3625d0c-11f0-4f3d-aec4-322ee76bf42f\" class=\"colab-df-container\">\n",
              "    <div>\n",
              "<style scoped>\n",
              "    .dataframe tbody tr th:only-of-type {\n",
              "        vertical-align: middle;\n",
              "    }\n",
              "\n",
              "    .dataframe tbody tr th {\n",
              "        vertical-align: top;\n",
              "    }\n",
              "\n",
              "    .dataframe thead th {\n",
              "        text-align: right;\n",
              "    }\n",
              "</style>\n",
              "<table border=\"1\" class=\"dataframe\">\n",
              "  <thead>\n",
              "    <tr style=\"text-align: right;\">\n",
              "      <th></th>\n",
              "      <th>Air_temperature</th>\n",
              "      <th>Process_temperature</th>\n",
              "      <th>Rotational_speed</th>\n",
              "      <th>Torque</th>\n",
              "      <th>Tool_wear</th>\n",
              "      <th>Type_High</th>\n",
              "      <th>Type_Low</th>\n",
              "      <th>Type_Medium</th>\n",
              "      <th>Failure_type</th>\n",
              "    </tr>\n",
              "  </thead>\n",
              "  <tbody>\n",
              "    <tr>\n",
              "      <th>0</th>\n",
              "      <td>-0.951417</td>\n",
              "      <td>-0.946356</td>\n",
              "      <td>0.067484</td>\n",
              "      <td>0.283054</td>\n",
              "      <td>-1.695647</td>\n",
              "      <td>0.0</td>\n",
              "      <td>0.0</td>\n",
              "      <td>1.0</td>\n",
              "      <td>No Failure</td>\n",
              "    </tr>\n",
              "    <tr>\n",
              "      <th>1</th>\n",
              "      <td>-0.901428</td>\n",
              "      <td>-0.878954</td>\n",
              "      <td>-0.729604</td>\n",
              "      <td>0.634238</td>\n",
              "      <td>-1.648511</td>\n",
              "      <td>0.0</td>\n",
              "      <td>1.0</td>\n",
              "      <td>0.0</td>\n",
              "      <td>No Failure</td>\n",
              "    </tr>\n",
              "    <tr>\n",
              "      <th>2</th>\n",
              "      <td>-0.951417</td>\n",
              "      <td>-1.013759</td>\n",
              "      <td>-0.227940</td>\n",
              "      <td>0.945286</td>\n",
              "      <td>-1.617087</td>\n",
              "      <td>0.0</td>\n",
              "      <td>1.0</td>\n",
              "      <td>0.0</td>\n",
              "      <td>No Failure</td>\n",
              "    </tr>\n",
              "    <tr>\n",
              "      <th>3</th>\n",
              "      <td>-0.901428</td>\n",
              "      <td>-0.946356</td>\n",
              "      <td>-0.590253</td>\n",
              "      <td>-0.048061</td>\n",
              "      <td>-1.585664</td>\n",
              "      <td>0.0</td>\n",
              "      <td>1.0</td>\n",
              "      <td>0.0</td>\n",
              "      <td>No Failure</td>\n",
              "    </tr>\n",
              "    <tr>\n",
              "      <th>4</th>\n",
              "      <td>-0.901428</td>\n",
              "      <td>-0.878954</td>\n",
              "      <td>-0.729604</td>\n",
              "      <td>0.002108</td>\n",
              "      <td>-1.554240</td>\n",
              "      <td>0.0</td>\n",
              "      <td>1.0</td>\n",
              "      <td>0.0</td>\n",
              "      <td>No Failure</td>\n",
              "    </tr>\n",
              "  </tbody>\n",
              "</table>\n",
              "</div>\n",
              "    <div class=\"colab-df-buttons\">\n",
              "\n",
              "  <div class=\"colab-df-container\">\n",
              "    <button class=\"colab-df-convert\" onclick=\"convertToInteractive('df-d3625d0c-11f0-4f3d-aec4-322ee76bf42f')\"\n",
              "            title=\"Convert this dataframe to an interactive table.\"\n",
              "            style=\"display:none;\">\n",
              "\n",
              "  <svg xmlns=\"http://www.w3.org/2000/svg\" height=\"24px\" viewBox=\"0 -960 960 960\">\n",
              "    <path d=\"M120-120v-720h720v720H120Zm60-500h600v-160H180v160Zm220 220h160v-160H400v160Zm0 220h160v-160H400v160ZM180-400h160v-160H180v160Zm440 0h160v-160H620v160ZM180-180h160v-160H180v160Zm440 0h160v-160H620v160Z\"/>\n",
              "  </svg>\n",
              "    </button>\n",
              "\n",
              "  <style>\n",
              "    .colab-df-container {\n",
              "      display:flex;\n",
              "      gap: 12px;\n",
              "    }\n",
              "\n",
              "    .colab-df-convert {\n",
              "      background-color: #E8F0FE;\n",
              "      border: none;\n",
              "      border-radius: 50%;\n",
              "      cursor: pointer;\n",
              "      display: none;\n",
              "      fill: #1967D2;\n",
              "      height: 32px;\n",
              "      padding: 0 0 0 0;\n",
              "      width: 32px;\n",
              "    }\n",
              "\n",
              "    .colab-df-convert:hover {\n",
              "      background-color: #E2EBFA;\n",
              "      box-shadow: 0px 1px 2px rgba(60, 64, 67, 0.3), 0px 1px 3px 1px rgba(60, 64, 67, 0.15);\n",
              "      fill: #174EA6;\n",
              "    }\n",
              "\n",
              "    .colab-df-buttons div {\n",
              "      margin-bottom: 4px;\n",
              "    }\n",
              "\n",
              "    [theme=dark] .colab-df-convert {\n",
              "      background-color: #3B4455;\n",
              "      fill: #D2E3FC;\n",
              "    }\n",
              "\n",
              "    [theme=dark] .colab-df-convert:hover {\n",
              "      background-color: #434B5C;\n",
              "      box-shadow: 0px 1px 3px 1px rgba(0, 0, 0, 0.15);\n",
              "      filter: drop-shadow(0px 1px 2px rgba(0, 0, 0, 0.3));\n",
              "      fill: #FFFFFF;\n",
              "    }\n",
              "  </style>\n",
              "\n",
              "    <script>\n",
              "      const buttonEl =\n",
              "        document.querySelector('#df-d3625d0c-11f0-4f3d-aec4-322ee76bf42f button.colab-df-convert');\n",
              "      buttonEl.style.display =\n",
              "        google.colab.kernel.accessAllowed ? 'block' : 'none';\n",
              "\n",
              "      async function convertToInteractive(key) {\n",
              "        const element = document.querySelector('#df-d3625d0c-11f0-4f3d-aec4-322ee76bf42f');\n",
              "        const dataTable =\n",
              "          await google.colab.kernel.invokeFunction('convertToInteractive',\n",
              "                                                    [key], {});\n",
              "        if (!dataTable) return;\n",
              "\n",
              "        const docLinkHtml = 'Like what you see? Visit the ' +\n",
              "          '<a target=\"_blank\" href=https://colab.research.google.com/notebooks/data_table.ipynb>data table notebook</a>'\n",
              "          + ' to learn more about interactive tables.';\n",
              "        element.innerHTML = '';\n",
              "        dataTable['output_type'] = 'display_data';\n",
              "        await google.colab.output.renderOutput(dataTable, element);\n",
              "        const docLink = document.createElement('div');\n",
              "        docLink.innerHTML = docLinkHtml;\n",
              "        element.appendChild(docLink);\n",
              "      }\n",
              "    </script>\n",
              "  </div>\n",
              "\n",
              "\n",
              "    <div id=\"df-da486afe-c7a4-4f1c-a312-ec47c92cd6fd\">\n",
              "      <button class=\"colab-df-quickchart\" onclick=\"quickchart('df-da486afe-c7a4-4f1c-a312-ec47c92cd6fd')\"\n",
              "                title=\"Suggest charts\"\n",
              "                style=\"display:none;\">\n",
              "\n",
              "<svg xmlns=\"http://www.w3.org/2000/svg\" height=\"24px\"viewBox=\"0 0 24 24\"\n",
              "     width=\"24px\">\n",
              "    <g>\n",
              "        <path d=\"M19 3H5c-1.1 0-2 .9-2 2v14c0 1.1.9 2 2 2h14c1.1 0 2-.9 2-2V5c0-1.1-.9-2-2-2zM9 17H7v-7h2v7zm4 0h-2V7h2v10zm4 0h-2v-4h2v4z\"/>\n",
              "    </g>\n",
              "</svg>\n",
              "      </button>\n",
              "\n",
              "<style>\n",
              "  .colab-df-quickchart {\n",
              "      --bg-color: #E8F0FE;\n",
              "      --fill-color: #1967D2;\n",
              "      --hover-bg-color: #E2EBFA;\n",
              "      --hover-fill-color: #174EA6;\n",
              "      --disabled-fill-color: #AAA;\n",
              "      --disabled-bg-color: #DDD;\n",
              "  }\n",
              "\n",
              "  [theme=dark] .colab-df-quickchart {\n",
              "      --bg-color: #3B4455;\n",
              "      --fill-color: #D2E3FC;\n",
              "      --hover-bg-color: #434B5C;\n",
              "      --hover-fill-color: #FFFFFF;\n",
              "      --disabled-bg-color: #3B4455;\n",
              "      --disabled-fill-color: #666;\n",
              "  }\n",
              "\n",
              "  .colab-df-quickchart {\n",
              "    background-color: var(--bg-color);\n",
              "    border: none;\n",
              "    border-radius: 50%;\n",
              "    cursor: pointer;\n",
              "    display: none;\n",
              "    fill: var(--fill-color);\n",
              "    height: 32px;\n",
              "    padding: 0;\n",
              "    width: 32px;\n",
              "  }\n",
              "\n",
              "  .colab-df-quickchart:hover {\n",
              "    background-color: var(--hover-bg-color);\n",
              "    box-shadow: 0 1px 2px rgba(60, 64, 67, 0.3), 0 1px 3px 1px rgba(60, 64, 67, 0.15);\n",
              "    fill: var(--button-hover-fill-color);\n",
              "  }\n",
              "\n",
              "  .colab-df-quickchart-complete:disabled,\n",
              "  .colab-df-quickchart-complete:disabled:hover {\n",
              "    background-color: var(--disabled-bg-color);\n",
              "    fill: var(--disabled-fill-color);\n",
              "    box-shadow: none;\n",
              "  }\n",
              "\n",
              "  .colab-df-spinner {\n",
              "    border: 2px solid var(--fill-color);\n",
              "    border-color: transparent;\n",
              "    border-bottom-color: var(--fill-color);\n",
              "    animation:\n",
              "      spin 1s steps(1) infinite;\n",
              "  }\n",
              "\n",
              "  @keyframes spin {\n",
              "    0% {\n",
              "      border-color: transparent;\n",
              "      border-bottom-color: var(--fill-color);\n",
              "      border-left-color: var(--fill-color);\n",
              "    }\n",
              "    20% {\n",
              "      border-color: transparent;\n",
              "      border-left-color: var(--fill-color);\n",
              "      border-top-color: var(--fill-color);\n",
              "    }\n",
              "    30% {\n",
              "      border-color: transparent;\n",
              "      border-left-color: var(--fill-color);\n",
              "      border-top-color: var(--fill-color);\n",
              "      border-right-color: var(--fill-color);\n",
              "    }\n",
              "    40% {\n",
              "      border-color: transparent;\n",
              "      border-right-color: var(--fill-color);\n",
              "      border-top-color: var(--fill-color);\n",
              "    }\n",
              "    60% {\n",
              "      border-color: transparent;\n",
              "      border-right-color: var(--fill-color);\n",
              "    }\n",
              "    80% {\n",
              "      border-color: transparent;\n",
              "      border-right-color: var(--fill-color);\n",
              "      border-bottom-color: var(--fill-color);\n",
              "    }\n",
              "    90% {\n",
              "      border-color: transparent;\n",
              "      border-bottom-color: var(--fill-color);\n",
              "    }\n",
              "  }\n",
              "</style>\n",
              "\n",
              "      <script>\n",
              "        async function quickchart(key) {\n",
              "          const quickchartButtonEl =\n",
              "            document.querySelector('#' + key + ' button');\n",
              "          quickchartButtonEl.disabled = true;  // To prevent multiple clicks.\n",
              "          quickchartButtonEl.classList.add('colab-df-spinner');\n",
              "          try {\n",
              "            const charts = await google.colab.kernel.invokeFunction(\n",
              "                'suggestCharts', [key], {});\n",
              "          } catch (error) {\n",
              "            console.error('Error during call to suggestCharts:', error);\n",
              "          }\n",
              "          quickchartButtonEl.classList.remove('colab-df-spinner');\n",
              "          quickchartButtonEl.classList.add('colab-df-quickchart-complete');\n",
              "        }\n",
              "        (() => {\n",
              "          let quickchartButtonEl =\n",
              "            document.querySelector('#df-da486afe-c7a4-4f1c-a312-ec47c92cd6fd button');\n",
              "          quickchartButtonEl.style.display =\n",
              "            google.colab.kernel.accessAllowed ? 'block' : 'none';\n",
              "        })();\n",
              "      </script>\n",
              "    </div>\n",
              "\n",
              "    </div>\n",
              "  </div>\n"
            ],
            "application/vnd.google.colaboratory.intrinsic+json": {
              "type": "dataframe",
              "variable_name": "df",
              "summary": "{\n  \"name\": \"df\",\n  \"rows\": 9973,\n  \"fields\": [\n    {\n      \"column\": \"Air_temperature\",\n      \"properties\": {\n        \"dtype\": \"number\",\n        \"std\": 1.0000501391361267,\n        \"min\": -2.351103622131081,\n        \"max\": 2.247867909974313,\n        \"num_unique_values\": 93,\n        \"samples\": [\n          -0.3515507820852547,\n          -1.5512824861127674,\n          0.3982815329319301\n        ],\n        \"semantic_type\": \"\",\n        \"description\": \"\"\n      }\n    },\n    {\n      \"column\": \"Process_temperature\",\n      \"properties\": {\n        \"dtype\": \"number\",\n        \"std\": 1.0000501391361416,\n        \"min\": -2.9010381356312425,\n        \"max\": 2.558590183794683,\n        \"num_unique_values\": 82,\n        \"samples\": [\n          -1.8899958542560735,\n          -0.9463563916392268,\n          0.0646858897359416\n        ],\n        \"semantic_type\": \"\",\n        \"description\": \"\"\n      }\n    },\n    {\n      \"column\": \"Rotational_speed\",\n      \"properties\": {\n        \"dtype\": \"number\",\n        \"std\": 1.0000501391361356,\n        \"min\": -2.0673726128961065,\n        \"max\": 7.508823545962598,\n        \"num_unique_values\": 941,\n        \"samples\": [\n          -1.4765246543169317,\n          0.2068346238992086,\n          2.6259668316667746\n        ],\n        \"semantic_type\": \"\",\n        \"description\": \"\"\n      }\n    },\n    {\n      \"column\": \"Torque\",\n      \"properties\": {\n        \"dtype\": \"number\",\n        \"std\": 1.0000501391361356,\n        \"min\": -3.630130998126055,\n        \"max\": 3.6744817810270622,\n        \"num_unique_values\": 577,\n        \"samples\": [\n          -0.389210767814987,\n          2.6008642434317566,\n          -2.747155827019633\n        ],\n        \"semantic_type\": \"\",\n        \"description\": \"\"\n      }\n    },\n    {\n      \"column\": \"Tool_wear\",\n      \"properties\": {\n        \"dtype\": \"number\",\n        \"std\": 1.0000501391361263,\n        \"min\": -1.6956470811542024,\n        \"max\": 2.279467733909639,\n        \"num_unique_values\": 246,\n        \"samples\": [\n          -0.2344388685022764,\n          -1.4756802534431597,\n          1.6824149158368091\n        ],\n        \"semantic_type\": \"\",\n        \"description\": \"\"\n      }\n    },\n    {\n      \"column\": \"Type_High\",\n      \"properties\": {\n        \"dtype\": \"number\",\n        \"std\": 0.3001086096465003,\n        \"min\": 0.0,\n        \"max\": 1.0,\n        \"num_unique_values\": 2,\n        \"samples\": [\n          1.0,\n          0.0\n        ],\n        \"semantic_type\": \"\",\n        \"description\": \"\"\n      }\n    },\n    {\n      \"column\": \"Type_Low\",\n      \"properties\": {\n        \"dtype\": \"number\",\n        \"std\": 0.4899184174482703,\n        \"min\": 0.0,\n        \"max\": 1.0,\n        \"num_unique_values\": 2,\n        \"samples\": [\n          1.0,\n          0.0\n        ],\n        \"semantic_type\": \"\",\n        \"description\": \"\"\n      }\n    },\n    {\n      \"column\": \"Type_Medium\",\n      \"properties\": {\n        \"dtype\": \"number\",\n        \"std\": 0.458241148018549,\n        \"min\": 0.0,\n        \"max\": 1.0,\n        \"num_unique_values\": 2,\n        \"samples\": [\n          0.0,\n          1.0\n        ],\n        \"semantic_type\": \"\",\n        \"description\": \"\"\n      }\n    },\n    {\n      \"column\": \"Failure_type\",\n      \"properties\": {\n        \"dtype\": \"category\",\n        \"num_unique_values\": 5,\n        \"samples\": [\n          \"Power Failure\",\n          \"Heat Dissipation Failure\"\n        ],\n        \"semantic_type\": \"\",\n        \"description\": \"\"\n      }\n    }\n  ]\n}"
            }
          },
          "metadata": {},
          "execution_count": 7
        }
      ],
      "source": [
        "!wget https://raw.githubusercontent.com/santiago2588/pump_failure_training/main/data/transformed_data.csv -O transformed_data.csv\n",
        "\n",
        "# Read the CSV file into a DataFrame\n",
        "df = pd.read_csv(\"transformed_data.csv\")\n",
        "\n",
        "# Display the first few rows to confirm it loaded correctly\n",
        "df.head()"
      ]
    },
    {
      "cell_type": "code",
      "execution_count": 8,
      "metadata": {
        "id": "yTkj9ByGpJ6-"
      },
      "outputs": [],
      "source": [
        "# Define features (X) and target variable (y)\n",
        "X = df.drop('Failure_type', axis=1)  # Features (all columns except 'Failure_type')\n",
        "y = df['Failure_type']  # Target variable"
      ]
    },
    {
      "cell_type": "code",
      "execution_count": 9,
      "metadata": {
        "colab": {
          "base_uri": "https://localhost:8080/"
        },
        "id": "xJAKpd6mpJ6-",
        "outputId": "de366518-c5f0-4ed6-bdb6-2e12f7d8e6a4"
      },
      "outputs": [
        {
          "output_type": "stream",
          "name": "stdout",
          "text": [
            "Training data shape: (7978, 8)\n",
            "Testing data shape: (1995, 8)\n"
          ]
        }
      ],
      "source": [
        "# Split the data into training and testing sets\n",
        "X_train, X_test, y_train, y_test = train_test_split(X, y, test_size=0.2, random_state=42)\n",
        "# Check the shape of the data\n",
        "print(f\"Training data shape: {X_train.shape}\")\n",
        "print(f\"Testing data shape: {X_test.shape}\")"
      ]
    },
    {
      "cell_type": "code",
      "execution_count": 10,
      "metadata": {
        "id": "e5yKmFo-pJ6-"
      },
      "outputs": [],
      "source": [
        "# Encode target labels as XGB requires numerical labels\n",
        "label_encoder = LabelEncoder()\n",
        "y_train_encoded = label_encoder.fit_transform(y_train)\n",
        "y_test_encoded = label_encoder.transform(y_test)"
      ]
    },
    {
      "cell_type": "code",
      "execution_count": 11,
      "metadata": {
        "colab": {
          "base_uri": "https://localhost:8080/"
        },
        "id": "jpuQ9oPVpJ6-",
        "outputId": "a0b8c19e-2ed8-4e46-e6d9-8d7d64279668"
      },
      "outputs": [
        {
          "output_type": "stream",
          "name": "stdout",
          "text": [
            "[LightGBM] [Info] Auto-choosing row-wise multi-threading, the overhead of testing was 0.002601 seconds.\n",
            "You can set `force_row_wise=true` to remove the overhead.\n",
            "And if memory is not enough, you can set `force_col_wise=true`.\n",
            "[LightGBM] [Info] Total Bins 2040\n",
            "[LightGBM] [Info] Number of data points in the train set: 38535, number of used features: 8\n",
            "[LightGBM] [Info] Start training from score -1.609438\n",
            "[LightGBM] [Info] Start training from score -1.609438\n",
            "[LightGBM] [Info] Start training from score -1.609438\n",
            "[LightGBM] [Info] Start training from score -1.609438\n",
            "[LightGBM] [Info] Start training from score -1.609438\n"
          ]
        },
        {
          "output_type": "execute_result",
          "data": {
            "text/plain": [
              "{'Accuracy': 0.9729323308270676,\n",
              " 'Balanced Accuracy': np.float64(0.8068729787998563),\n",
              " 'Macro Recall': 0.9729323308270676,\n",
              " 'Macro Precision': 0.9871708567708818,\n",
              " 'Macro F1': 0.979438394478446,\n",
              " 'F1 Scores per Class': array([0.89795918, 0.98617992, 0.66666667, 0.79166667, 0.10810811])}"
            ]
          },
          "metadata": {},
          "execution_count": 11
        }
      ],
      "source": [
        "# Creating pipeline with lgbm classifier and smote\n",
        "lgbm_smote = Pipeline(steps=[\n",
        "    ('smote', SMOTE(random_state=2023)),\n",
        "    ('model', LGBMClassifier(random_state=2023))\n",
        "])\n",
        "\n",
        "# Fit pipeline\n",
        "lgbm_smote.fit(X_train, y_train_encoded)\n",
        "\n",
        "# Generate Predictions using the correctly fitted pipeline\n",
        "y_pred = lgbm_smote.predict(X_test)\n",
        "\n",
        "# Decode predictions back to original labels (optional)\n",
        "y_pred_decoded = label_encoder.inverse_transform(y_pred)\n",
        "\n",
        "# Evaluate Metrics\n",
        "metrics = get_metrics(y_test_encoded, y_pred)\n",
        "\n",
        "# View Results\n",
        "metrics"
      ]
    },
    {
      "cell_type": "code",
      "execution_count": 12,
      "metadata": {
        "colab": {
          "base_uri": "https://localhost:8080/"
        },
        "id": "FBUsQgoZpJ6-",
        "outputId": "fd21ebbe-a6b6-4541-b6e6-4cd5223f2326"
      },
      "outputs": [
        {
          "output_type": "stream",
          "name": "stdout",
          "text": [
            "[LightGBM] [Info] Auto-choosing col-wise multi-threading, the overhead of testing was 0.001009 seconds.\n",
            "You can set `force_col_wise=true` to remove the overhead.\n",
            "[LightGBM] [Info] Total Bins 931\n",
            "[LightGBM] [Info] Number of data points in the train set: 7978, number of used features: 8\n",
            "[LightGBM] [Info] Start training from score -1.609438\n",
            "[LightGBM] [Info] Start training from score -1.609438\n",
            "[LightGBM] [Info] Start training from score -1.609438\n",
            "[LightGBM] [Info] Start training from score -1.609438\n",
            "[LightGBM] [Info] Start training from score -1.609438\n",
            "[LightGBM] [Warning] No further splits with positive gain, best gain: -inf\n",
            "[LightGBM] [Warning] No further splits with positive gain, best gain: -inf\n",
            "[LightGBM] [Warning] No further splits with positive gain, best gain: -inf\n",
            "[LightGBM] [Warning] No further splits with positive gain, best gain: -inf\n"
          ]
        },
        {
          "output_type": "execute_result",
          "data": {
            "text/plain": [
              "{'Accuracy': 0.9849624060150376,\n",
              " 'Balanced Accuracy': np.float64(0.7608632770391663),\n",
              " 'Macro Recall': 0.9849624060150376,\n",
              " 'Macro Precision': 0.9888446148992893,\n",
              " 'Macro F1': 0.9865775289956211,\n",
              " 'F1 Scores per Class': array([0.91666667, 0.99249288, 0.66666667, 0.85714286, 0.125     ])}"
            ]
          },
          "metadata": {},
          "execution_count": 12
        }
      ],
      "source": [
        "# Creating model with LGBM classifier and balanced class weights\n",
        "\n",
        "# Compute sample weights for class imbalance\n",
        "weights = compute_sample_weight(class_weight='balanced', y=y_train_encoded)\n",
        "\n",
        "# Initialize lgbm classifier\n",
        "lgbm_model = LGBMClassifier(random_state=2023)\n",
        "\n",
        "# Fit the model with sample weights\n",
        "lgbm_model.fit(X_train, y_train_encoded, sample_weight=weights)\n",
        "\n",
        "# Generate predictions\n",
        "y_pred = lgbm_model.predict(X_test)\n",
        "\n",
        "# Evaluate metrics\n",
        "metrics = get_metrics(y_test_encoded, y_pred)\n",
        "\n",
        "# View results\n",
        "metrics"
      ]
    },
    {
      "cell_type": "code",
      "execution_count": 13,
      "metadata": {
        "id": "1ye17TtkpJ6-"
      },
      "outputs": [],
      "source": [
        "# Define the objective function for Optuna\n",
        "def objective(trial):\n",
        "    # Define the hyperparameter search space\n",
        "    params = {\n",
        "        'n_estimators': trial.suggest_int('n_estimators', 50, 500),  # Number of boosting rounds\n",
        "        'max_depth': trial.suggest_int('max_depth', 3, 15),  # Maximum tree depth\n",
        "        'learning_rate': trial.suggest_float('learning_rate', 0.01, 0.3, log=True),  # Learning rate\n",
        "        'num_leaves': trial.suggest_int('num_leaves', 20, 150),  # Number of leaves in one tree\n",
        "        'min_child_samples': trial.suggest_int('min_child_samples', 10, 100),  # Minimum data in leaf\n",
        "        'subsample': trial.suggest_float('subsample', 0.5, 1.0),  # Subsample ratio of the training data\n",
        "        'colsample_bytree': trial.suggest_float('colsample_bytree', 0.5, 1.0),  # Feature subsampling\n",
        "        'reg_alpha': trial.suggest_float('reg_alpha', 0, 10),  # L1 regularization\n",
        "        'reg_lambda': trial.suggest_float('reg_lambda', 0, 10),  # L2 regularization\n",
        "    }\n",
        "\n",
        "    # Initialize the LGBMClassifier with the trial's parameters\n",
        "    model = LGBMClassifier(random_state=2023, verbosity=-1, **params)\n",
        "\n",
        "    # Compute sample weights for class imbalance\n",
        "    weights = compute_sample_weight(class_weight='balanced', y=y_train_encoded)\n",
        "\n",
        "    # Fit the model with sample weights\n",
        "    model.fit(X_train, y_train_encoded, sample_weight=weights)\n",
        "\n",
        "    # Generate predictions\n",
        "    y_pred = model.predict(X_test)\n",
        "\n",
        "    # Evaluate the model using F1-score (or any other metric)\n",
        "    f1 = f1_score(y_test_encoded, y_pred, average='weighted')  # Weighted F1-score for imbalanced data\n",
        "\n",
        "    return f1  # Optuna will maximize this score"
      ]
    },
    {
      "cell_type": "code",
      "execution_count": 14,
      "metadata": {
        "colab": {
          "base_uri": "https://localhost:8080/"
        },
        "id": "FhrFnKZZpJ6-",
        "outputId": "33ebc87a-b305-4002-fabd-e81969ff4ae6"
      },
      "outputs": [
        {
          "output_type": "stream",
          "name": "stderr",
          "text": [
            "[I 2025-07-15 10:47:13,588] A new study created in memory with name: no-name-26cfef80-d600-45eb-9f9b-1e16c67e47c0\n",
            "[I 2025-07-15 10:47:17,278] Trial 0 finished with value: 0.9533402901971546 and parameters: {'n_estimators': 235, 'max_depth': 9, 'learning_rate': 0.03275387540349459, 'num_leaves': 150, 'min_child_samples': 20, 'subsample': 0.9975354375875677, 'colsample_bytree': 0.6881732312750911, 'reg_alpha': 3.1188765665909965, 'reg_lambda': 6.848573890772451}. Best is trial 0 with value: 0.9533402901971546.\n",
            "[I 2025-07-15 10:47:20,254] Trial 1 finished with value: 0.9323872385228376 and parameters: {'n_estimators': 384, 'max_depth': 3, 'learning_rate': 0.022586570425727148, 'num_leaves': 126, 'min_child_samples': 77, 'subsample': 0.7547850062842445, 'colsample_bytree': 0.8729111945413328, 'reg_alpha': 7.340979968752252, 'reg_lambda': 4.243520229937323}. Best is trial 0 with value: 0.9533402901971546.\n",
            "[I 2025-07-15 10:47:21,600] Trial 2 finished with value: 0.9380211160759988 and parameters: {'n_estimators': 306, 'max_depth': 9, 'learning_rate': 0.12734432866331524, 'num_leaves': 123, 'min_child_samples': 62, 'subsample': 0.5454267765625258, 'colsample_bytree': 0.6638449529188315, 'reg_alpha': 8.55550016571987, 'reg_lambda': 4.2908370930216755}. Best is trial 0 with value: 0.9533402901971546.\n",
            "[I 2025-07-15 10:47:22,653] Trial 3 finished with value: 0.9409211101170976 and parameters: {'n_estimators': 106, 'max_depth': 13, 'learning_rate': 0.025404555759651205, 'num_leaves': 91, 'min_child_samples': 19, 'subsample': 0.5907661123220868, 'colsample_bytree': 0.7926942897693676, 'reg_alpha': 0.39975818972538435, 'reg_lambda': 7.907961032570341}. Best is trial 0 with value: 0.9533402901971546.\n",
            "[I 2025-07-15 10:47:25,069] Trial 4 finished with value: 0.977578451825588 and parameters: {'n_estimators': 336, 'max_depth': 7, 'learning_rate': 0.21074244000288755, 'num_leaves': 92, 'min_child_samples': 58, 'subsample': 0.6402781580857037, 'colsample_bytree': 0.6190590047503257, 'reg_alpha': 1.1581084430201893, 'reg_lambda': 4.674676547530447}. Best is trial 4 with value: 0.977578451825588.\n",
            "[I 2025-07-15 10:47:25,833] Trial 5 finished with value: 0.9117528624079431 and parameters: {'n_estimators': 69, 'max_depth': 13, 'learning_rate': 0.011846842277429461, 'num_leaves': 41, 'min_child_samples': 67, 'subsample': 0.6550176272001496, 'colsample_bytree': 0.7868222414297569, 'reg_alpha': 3.3062616589628657, 'reg_lambda': 9.132719254578273}. Best is trial 4 with value: 0.977578451825588.\n",
            "[I 2025-07-15 10:47:26,862] Trial 6 finished with value: 0.9385721631813628 and parameters: {'n_estimators': 116, 'max_depth': 12, 'learning_rate': 0.07791231225783876, 'num_leaves': 98, 'min_child_samples': 27, 'subsample': 0.512028986505719, 'colsample_bytree': 0.9078663383457313, 'reg_alpha': 8.055178372705454, 'reg_lambda': 3.385197388885085}. Best is trial 4 with value: 0.977578451825588.\n",
            "[I 2025-07-15 10:47:31,264] Trial 7 finished with value: 0.9603191391036755 and parameters: {'n_estimators': 215, 'max_depth': 11, 'learning_rate': 0.02380500264400742, 'num_leaves': 119, 'min_child_samples': 10, 'subsample': 0.8608981998681211, 'colsample_bytree': 0.6493668017796909, 'reg_alpha': 0.6328115786086508, 'reg_lambda': 4.897162971064408}. Best is trial 4 with value: 0.977578451825588.\n",
            "[I 2025-07-15 10:47:31,689] Trial 8 finished with value: 0.9303508881678114 and parameters: {'n_estimators': 51, 'max_depth': 7, 'learning_rate': 0.07556977268019274, 'num_leaves': 27, 'min_child_samples': 51, 'subsample': 0.9005557843328871, 'colsample_bytree': 0.9341684623532793, 'reg_alpha': 7.786124116259595, 'reg_lambda': 7.770697295731141}. Best is trial 4 with value: 0.977578451825588.\n",
            "[I 2025-07-15 10:47:34,175] Trial 9 finished with value: 0.9719476951872266 and parameters: {'n_estimators': 346, 'max_depth': 12, 'learning_rate': 0.02667263127298266, 'num_leaves': 37, 'min_child_samples': 86, 'subsample': 0.8823357795991367, 'colsample_bytree': 0.780902610536161, 'reg_alpha': 1.8606606975201867, 'reg_lambda': 0.5804735585568244}. Best is trial 4 with value: 0.977578451825588.\n",
            "[I 2025-07-15 10:47:35,031] Trial 10 finished with value: 0.9513582627765003 and parameters: {'n_estimators': 493, 'max_depth': 5, 'learning_rate': 0.2827732148787859, 'num_leaves': 65, 'min_child_samples': 43, 'subsample': 0.7042439709372607, 'colsample_bytree': 0.5068895801884128, 'reg_alpha': 4.80338479831826, 'reg_lambda': 1.8295965308103397}. Best is trial 4 with value: 0.977578451825588.\n",
            "[I 2025-07-15 10:47:35,771] Trial 11 finished with value: 0.9732941986646376 and parameters: {'n_estimators': 361, 'max_depth': 15, 'learning_rate': 0.29830637343621047, 'num_leaves': 63, 'min_child_samples': 100, 'subsample': 0.8040129554685296, 'colsample_bytree': 0.5128922842686843, 'reg_alpha': 2.3451706903073033, 'reg_lambda': 0.1650319228063415}. Best is trial 4 with value: 0.977578451825588.\n",
            "[I 2025-07-15 10:47:36,545] Trial 12 finished with value: 0.9674697913646739 and parameters: {'n_estimators': 419, 'max_depth': 15, 'learning_rate': 0.26972001822738845, 'num_leaves': 68, 'min_child_samples': 94, 'subsample': 0.7934857077655649, 'colsample_bytree': 0.506593663950169, 'reg_alpha': 2.62500716876197, 'reg_lambda': 0.43394334277773083}. Best is trial 4 with value: 0.977578451825588.\n",
            "[I 2025-07-15 10:47:37,506] Trial 13 finished with value: 0.9568351595609597 and parameters: {'n_estimators': 429, 'max_depth': 7, 'learning_rate': 0.1494104753774452, 'num_leaves': 68, 'min_child_samples': 100, 'subsample': 0.6503044268715128, 'colsample_bytree': 0.584816430946631, 'reg_alpha': 4.318819236560892, 'reg_lambda': 2.388870892464125}. Best is trial 4 with value: 0.977578451825588.\n",
            "[I 2025-07-15 10:47:38,156] Trial 14 finished with value: 0.9457497265576545 and parameters: {'n_estimators': 286, 'max_depth': 9, 'learning_rate': 0.17588731345758243, 'num_leaves': 81, 'min_child_samples': 38, 'subsample': 0.8125736663524663, 'colsample_bytree': 0.5806081349055594, 'reg_alpha': 6.291787690200579, 'reg_lambda': 6.099752472502313}. Best is trial 4 with value: 0.977578451825588.\n",
            "[I 2025-07-15 10:47:38,973] Trial 15 finished with value: 0.9770641210896035 and parameters: {'n_estimators': 213, 'max_depth': 15, 'learning_rate': 0.19398795500541915, 'num_leaves': 49, 'min_child_samples': 75, 'subsample': 0.6934158852035534, 'colsample_bytree': 0.5812299105783064, 'reg_alpha': 1.5675220823971854, 'reg_lambda': 2.060086774369453}. Best is trial 4 with value: 0.977578451825588.\n",
            "[I 2025-07-15 10:47:40,110] Trial 16 finished with value: 0.9751642275118522 and parameters: {'n_estimators': 191, 'max_depth': 7, 'learning_rate': 0.10214972569298332, 'num_leaves': 49, 'min_child_samples': 73, 'subsample': 0.6235205163467723, 'colsample_bytree': 0.6031880875489637, 'reg_alpha': 1.2687201342375745, 'reg_lambda': 2.568213276007758}. Best is trial 4 with value: 0.977578451825588.\n",
            "[I 2025-07-15 10:47:40,728] Trial 17 finished with value: 0.9538612245833463 and parameters: {'n_estimators': 152, 'max_depth': 5, 'learning_rate': 0.046117398245015824, 'num_leaves': 104, 'min_child_samples': 56, 'subsample': 0.7059755693660307, 'colsample_bytree': 0.7201495856100624, 'reg_alpha': 0.08334968413515709, 'reg_lambda': 5.984784078480019}. Best is trial 4 with value: 0.977578451825588.\n",
            "[I 2025-07-15 10:47:41,652] Trial 18 finished with value: 0.9333196973261161 and parameters: {'n_estimators': 262, 'max_depth': 5, 'learning_rate': 0.15131879539951432, 'num_leaves': 21, 'min_child_samples': 83, 'subsample': 0.57102145153021, 'colsample_bytree': 0.6138416707784534, 'reg_alpha': 9.745841381411738, 'reg_lambda': 1.4643340536270952}. Best is trial 4 with value: 0.977578451825588.\n",
            "[I 2025-07-15 10:47:42,374] Trial 19 finished with value: 0.9501041814400347 and parameters: {'n_estimators': 164, 'max_depth': 10, 'learning_rate': 0.2095190660686997, 'num_leaves': 81, 'min_child_samples': 47, 'subsample': 0.7185179735924353, 'colsample_bytree': 0.7239256568755739, 'reg_alpha': 5.9055791897059295, 'reg_lambda': 3.3744902253602334}. Best is trial 4 with value: 0.977578451825588.\n"
          ]
        },
        {
          "output_type": "stream",
          "name": "stdout",
          "text": [
            "Best hyperparameters: {'n_estimators': 336, 'max_depth': 7, 'learning_rate': 0.21074244000288755, 'num_leaves': 92, 'min_child_samples': 58, 'subsample': 0.6402781580857037, 'colsample_bytree': 0.6190590047503257, 'reg_alpha': 1.1581084430201893, 'reg_lambda': 4.674676547530447}\n",
            "Best F1-score: 0.977578451825588\n"
          ]
        }
      ],
      "source": [
        "# Create a study object\n",
        "study = optuna.create_study(direction='maximize')  # We want to maximize F1-score\n",
        "\n",
        "# Optimize the study\n",
        "study.optimize(objective, n_trials=20)  # Run 20 trials (you can increase this for better results)\n",
        "\n",
        "# Print the best hyperparameters\n",
        "print(\"Best hyperparameters:\", study.best_params)\n",
        "print(\"Best F1-score:\", study.best_value)"
      ]
    },
    {
      "cell_type": "code",
      "execution_count": 15,
      "metadata": {
        "colab": {
          "base_uri": "https://localhost:8080/"
        },
        "id": "97n75jUEpJ6-",
        "outputId": "187c4a73-9394-4803-e790-5d3ae94ff1be"
      },
      "outputs": [
        {
          "output_type": "stream",
          "name": "stdout",
          "text": [
            "Best Hyperparameters found:\n",
            "\n",
            "Evaluation Metrics:\n"
          ]
        },
        {
          "output_type": "execute_result",
          "data": {
            "text/plain": [
              "{'Accuracy': 0.9704260651629073,\n",
              " 'Balanced Accuracy': np.float64(0.8149487962630255),\n",
              " 'Macro Recall': 0.9704260651629073,\n",
              " 'Macro Precision': 0.9865733231607235,\n",
              " 'Macro F1': 0.977578451825588}"
            ]
          },
          "metadata": {},
          "execution_count": 15
        }
      ],
      "source": [
        "# Extract the best hyperparameters\n",
        "best_params = study.best_params\n",
        "\n",
        "# Train the final model with the best hyperparameters\n",
        "final_model = LGBMClassifier(random_state=2023, verbosity=-1,**best_params)\n",
        "\n",
        "# Compute sample weights again\n",
        "weights = compute_sample_weight(class_weight='balanced', y=y_train_encoded)\n",
        "\n",
        "# Fit the final model\n",
        "final_model.fit(X_train, y_train_encoded, sample_weight=weights)\n",
        "\n",
        "# Generate predictions\n",
        "y_pred = final_model.predict(X_test)\n",
        "\n",
        "# Evaluate metrics\n",
        "metrics = get_metrics(y_test_encoded, y_pred)\n",
        "\n",
        "# Remove 'F1 Scores per Class' from metrics if it exists\n",
        "if 'F1 Scores per Class' in metrics:\n",
        "    del metrics['F1 Scores per Class']\n",
        "\n",
        "# --- Results ---\n",
        "# The following lines replace the MLflow logging.\n",
        "\n",
        "# View the best hyperparameters\n",
        "print(\"Best Hyperparameters found:\")\n",
        "best_params\n",
        "\n",
        "# View the final evaluation metrics\n",
        "print(\"\\nEvaluation Metrics:\")\n",
        "metrics"
      ]
    },
    {
      "cell_type": "code",
      "execution_count": 16,
      "metadata": {
        "colab": {
          "base_uri": "https://localhost:8080/",
          "height": 638
        },
        "id": "kjW4SeXupJ6_",
        "outputId": "6997b444-1927-46c9-85df-003839aa3ce1"
      },
      "outputs": [
        {
          "output_type": "display_data",
          "data": {
            "text/plain": [
              "<Figure size 500x500 with 2 Axes>"
            ],
            "image/png": "[encoded data removed]"
          },
          "metadata": {}
        }
      ],
      "source": [
        "from sklearn.metrics import confusion_matrix\n",
        "import seaborn as sns\n",
        "import matplotlib.pyplot as plt\n",
        "import numpy as np\n",
        "\n",
        "# Decode predictions if necessary\n",
        "# Assuming y_test contains string labels and y_pred contains numeric labels\n",
        "y_pred_decoded = label_encoder.inverse_transform(y_pred)\n",
        "\n",
        "# Generate the confusion matrix\n",
        "cm = confusion_matrix(y_test, y_pred_decoded)\n",
        "\n",
        "# Plot the confusion matrix\n",
        "plt.figure(figsize=(5, 5))  # Larger figure size\n",
        "sns.heatmap(cm, annot=True, fmt='d', cmap='Blues',  # Use 'd' to format numbers as integers\n",
        "            xticklabels=np.unique(y_test),\n",
        "            yticklabels=np.unique(y_test))  # Ensure labels match y_test\n",
        "plt.ylabel('Actual label')\n",
        "plt.xlabel('Predicted label')\n",
        "plt.title('Confusion Matrix with Fine-Tuned LGBMClassifier')\n",
        "plt.show()"
      ]
    },
    {
      "cell_type": "code",
      "execution_count": 17,
      "metadata": {
        "id": "by4lbQoIpJ6_"
      },
      "outputs": [],
      "source": [
        "#joblib.dump(final_model, 'C:/Users/mjkipsz2/OneDrive - The University of Manchester/Desktop/Pump failure/model/final_model.joblib')"
      ]
    },
    {
      "cell_type": "code",
      "execution_count": 18,
      "metadata": {
        "id": "YfgvF85rpJ6_"
      },
      "outputs": [],
      "source": [
        "#from sklearn.preprocessing import OneHotEncoder\n",
        "#import joblib\n",
        "\n",
        "#df_train=pd.read_csv('C:/Users/mjkipsz2/OneDrive - The University of Manchester/Desktop/Pump failure/data/clean_data.csv')\n",
        "\n",
        "# Initialize and fit the encoder during training\n",
        "#encoder = OneHotEncoder(sparse_output=False, handle_unknown='ignore')  # Use sparse_output instead of sparse\n",
        "#encoded_type = encoder.fit_transform(df_train[['Type']])  # Fit on the 'Type' column\n",
        "\n",
        "# Save the encoder for later use\n",
        "#joblib.dump(encoder, 'C:/Users/mjkipsz2/OneDrive - The University of Manchester/Desktop/Pump failure/model/onehot_encoder.pkl')"
      ]
    }
  ],
  "metadata": {
    "kernelspec": {
      "display_name": "My env pump failure)",
      "language": "python",
      "name": "my-env-with-poetry"
    },
    "language_info": {
      "codemirror_mode": {
        "name": "ipython",
        "version": 3
      },
      "file_extension": ".py",
      "mimetype": "text/x-python",
      "name": "python",
      "nbconvert_exporter": "python",
      "pygments_lexer": "ipython3",
      "version": "3.10.14"
    },
    "colab": {
      "provenance": [],
      "include_colab_link": true
    }
  },
  "nbformat": 4,
  "nbformat_minor": 0
}