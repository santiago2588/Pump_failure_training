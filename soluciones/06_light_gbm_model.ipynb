{
  "cells": [
    {
      "cell_type": "markdown",
      "metadata": {
        "id": "view-in-github",
        "colab_type": "text"
      },
      "source": [
        "<a href=\"https://colab.research.google.com/github/santiago2588/Pump_failure_training/blob/main/soluciones/06_light_gbm_model.ipynb\" target=\"_parent\"><img src=\"https://colab.research.google.com/assets/colab-badge.svg\" alt=\"Open In Colab\"/></a>"
      ]
    },
    {
      "cell_type": "code",
      "execution_count": 1,
      "metadata": {
        "id": "XQqEJ9AGpJ69"
      },
      "outputs": [],
      "source": [
        "# Data wrangling\n",
        "import pandas as pd\n",
        "import numpy as np"
      ]
    },
    {
      "cell_type": "code",
      "execution_count": 2,
      "metadata": {
        "id": "kEzaGJ_XpJ69"
      },
      "outputs": [],
      "source": [
        "from imblearn.over_sampling import SMOTE\n",
        "from lightgbm import LGBMClassifier\n",
        "from sklearn.utils import class_weight\n",
        "from sklearn.preprocessing import LabelEncoder\n",
        "from sklearn.utils.class_weight import compute_sample_weight"
      ]
    },
    {
      "cell_type": "code",
      "execution_count": 3,
      "metadata": {
        "colab": {
          "base_uri": "https://localhost:8080/"
        },
        "id": "Y_dSTY99pJ69",
        "outputId": "c3cacd92-5648-4bf1-b8e5-0eadb7b1a463"
      },
      "outputs": [
        {
          "output_type": "stream",
          "name": "stdout",
          "text": [
            "--2025-07-15 14:31:54--  https://raw.githubusercontent.com/santiago2588/pump_failure_training/main/utils.py\n",
            "Resolving raw.githubusercontent.com (raw.githubusercontent.com)... 185.199.108.133, 185.199.109.133, 185.199.110.133, ...\n",
            "Connecting to raw.githubusercontent.com (raw.githubusercontent.com)|185.199.108.133|:443... connected.\n",
            "HTTP request sent, awaiting response... 200 OK\n",
            "Length: 2407 (2.4K) [text/plain]\n",
            "Saving to: ‘utils.py.1’\n",
            "\n",
            "\rutils.py.1            0%[                    ]       0  --.-KB/s               \rutils.py.1          100%[===================>]   2.35K  --.-KB/s    in 0s      \n",
            "\n",
            "2025-07-15 14:31:54 (36.2 MB/s) - ‘utils.py.1’ saved [2407/2407]\n",
            "\n"
          ]
        }
      ],
      "source": [
        "# Download and run the utils.py file from your GitHub repository\n",
        "!wget https://raw.githubusercontent.com/santiago2588/pump_failure_training/main/utils.py\n",
        "%run utils.py"
      ]
    },
    {
      "cell_type": "code",
      "execution_count": 4,
      "metadata": {
        "id": "r0FQaJ-JpJ69"
      },
      "outputs": [],
      "source": [
        "from sklearn.model_selection import train_test_split\n",
        "from imblearn.pipeline import Pipeline"
      ]
    },
    {
      "cell_type": "code",
      "source": [
        "%pip install optuna -q\n",
        "import optuna"
      ],
      "metadata": {
        "id": "-1IPgE8_pQIu"
      },
      "execution_count": 5,
      "outputs": []
    },
    {
      "cell_type": "code",
      "execution_count": 6,
      "metadata": {
        "id": "QeApdHPzpJ69"
      },
      "outputs": [],
      "source": [
        "from sklearn.utils.class_weight import compute_sample_weight\n",
        "from sklearn.metrics import f1_score"
      ]
    },
    {
      "cell_type": "code",
      "execution_count": 7,
      "metadata": {
        "colab": {
          "base_uri": "https://localhost:8080/",
          "height": 397
        },
        "id": "7xFtkNj1pJ69",
        "outputId": "c9793025-960b-42c2-926e-f00ef89607d6"
      },
      "outputs": [
        {
          "output_type": "stream",
          "name": "stdout",
          "text": [
            "--2025-07-15 14:32:00--  https://raw.githubusercontent.com/santiago2588/pump_failure_training/main/data/transformed_data.csv\n",
            "Resolving raw.githubusercontent.com (raw.githubusercontent.com)... 185.199.110.133, 185.199.109.133, 185.199.111.133, ...\n",
            "Connecting to raw.githubusercontent.com (raw.githubusercontent.com)|185.199.110.133|:443... connected.\n",
            "HTTP request sent, awaiting response... 200 OK\n",
            "Length: 1210184 (1.2M) [text/plain]\n",
            "Saving to: ‘transformed_data.csv’\n",
            "\n",
            "transformed_data.cs 100%[===================>]   1.15M  --.-KB/s    in 0.06s   \n",
            "\n",
            "2025-07-15 14:32:00 (19.5 MB/s) - ‘transformed_data.csv’ saved [1210184/1210184]\n",
            "\n"
          ]
        },
        {
          "output_type": "execute_result",
          "data": {
            "text/plain": [
              "   Air_temperature  Process_temperature  Rotational_speed    Torque  \\\n",
              "0        -0.951417            -0.946356          0.067484  0.283054   \n",
              "1        -0.901428            -0.878954         -0.729604  0.634238   \n",
              "2        -0.951417            -1.013759         -0.227940  0.945286   \n",
              "3        -0.901428            -0.946356         -0.590253 -0.048061   \n",
              "4        -0.901428            -0.878954         -0.729604  0.002108   \n",
              "\n",
              "   Tool_wear  Type_High  Type_Low  Type_Medium Failure_type  \n",
              "0  -1.695647        0.0       0.0          1.0   No Failure  \n",
              "1  -1.648511        0.0       1.0          0.0   No Failure  \n",
              "2  -1.617087        0.0       1.0          0.0   No Failure  \n",
              "3  -1.585664        0.0       1.0          0.0   No Failure  \n",
              "4  -1.554240        0.0       1.0          0.0   No Failure  "
            ],
            "text/html": [
              "\n",
              "  <div id=\"df-1b0cfc34-0eaa-4c61-b161-65a0aec9222f\" class=\"colab-df-container\">\n",
              "    <div>\n",
              "<style scoped>\n",
              "    .dataframe tbody tr th:only-of-type {\n",
              "        vertical-align: middle;\n",
              "    }\n",
              "\n",
              "    .dataframe tbody tr th {\n",
              "        vertical-align: top;\n",
              "    }\n",
              "\n",
              "    .dataframe thead th {\n",
              "        text-align: right;\n",
              "    }\n",
              "</style>\n",
              "<table border=\"1\" class=\"dataframe\">\n",
              "  <thead>\n",
              "    <tr style=\"text-align: right;\">\n",
              "      <th></th>\n",
              "      <th>Air_temperature</th>\n",
              "      <th>Process_temperature</th>\n",
              "      <th>Rotational_speed</th>\n",
              "      <th>Torque</th>\n",
              "      <th>Tool_wear</th>\n",
              "      <th>Type_High</th>\n",
              "      <th>Type_Low</th>\n",
              "      <th>Type_Medium</th>\n",
              "      <th>Failure_type</th>\n",
              "    </tr>\n",
              "  </thead>\n",
              "  <tbody>\n",
              "    <tr>\n",
              "      <th>0</th>\n",
              "      <td>-0.951417</td>\n",
              "      <td>-0.946356</td>\n",
              "      <td>0.067484</td>\n",
              "      <td>0.283054</td>\n",
              "      <td>-1.695647</td>\n",
              "      <td>0.0</td>\n",
              "      <td>0.0</td>\n",
              "      <td>1.0</td>\n",
              "      <td>No Failure</td>\n",
              "    </tr>\n",
              "    <tr>\n",
              "      <th>1</th>\n",
              "      <td>-0.901428</td>\n",
              "      <td>-0.878954</td>\n",
              "      <td>-0.729604</td>\n",
              "      <td>0.634238</td>\n",
              "      <td>-1.648511</td>\n",
              "      <td>0.0</td>\n",
              "      <td>1.0</td>\n",
              "      <td>0.0</td>\n",
              "      <td>No Failure</td>\n",
              "    </tr>\n",
              "    <tr>\n",
              "      <th>2</th>\n",
              "      <td>-0.951417</td>\n",
              "      <td>-1.013759</td>\n",
              "      <td>-0.227940</td>\n",
              "      <td>0.945286</td>\n",
              "      <td>-1.617087</td>\n",
              "      <td>0.0</td>\n",
              "      <td>1.0</td>\n",
              "      <td>0.0</td>\n",
              "      <td>No Failure</td>\n",
              "    </tr>\n",
              "    <tr>\n",
              "      <th>3</th>\n",
              "      <td>-0.901428</td>\n",
              "      <td>-0.946356</td>\n",
              "      <td>-0.590253</td>\n",
              "      <td>-0.048061</td>\n",
              "      <td>-1.585664</td>\n",
              "      <td>0.0</td>\n",
              "      <td>1.0</td>\n",
              "      <td>0.0</td>\n",
              "      <td>No Failure</td>\n",
              "    </tr>\n",
              "    <tr>\n",
              "      <th>4</th>\n",
              "      <td>-0.901428</td>\n",
              "      <td>-0.878954</td>\n",
              "      <td>-0.729604</td>\n",
              "      <td>0.002108</td>\n",
              "      <td>-1.554240</td>\n",
              "      <td>0.0</td>\n",
              "      <td>1.0</td>\n",
              "      <td>0.0</td>\n",
              "      <td>No Failure</td>\n",
              "    </tr>\n",
              "  </tbody>\n",
              "</table>\n",
              "</div>\n",
              "    <div class=\"colab-df-buttons\">\n",
              "\n",
              "  <div class=\"colab-df-container\">\n",
              "    <button class=\"colab-df-convert\" onclick=\"convertToInteractive('df-1b0cfc34-0eaa-4c61-b161-65a0aec9222f')\"\n",
              "            title=\"Convert this dataframe to an interactive table.\"\n",
              "            style=\"display:none;\">\n",
              "\n",
              "  <svg xmlns=\"http://www.w3.org/2000/svg\" height=\"24px\" viewBox=\"0 -960 960 960\">\n",
              "    <path d=\"M120-120v-720h720v720H120Zm60-500h600v-160H180v160Zm220 220h160v-160H400v160Zm0 220h160v-160H400v160ZM180-400h160v-160H180v160Zm440 0h160v-160H620v160ZM180-180h160v-160H180v160Zm440 0h160v-160H620v160Z\"/>\n",
              "  </svg>\n",
              "    </button>\n",
              "\n",
              "  <style>\n",
              "    .colab-df-container {\n",
              "      display:flex;\n",
              "      gap: 12px;\n",
              "    }\n",
              "\n",
              "    .colab-df-convert {\n",
              "      background-color: #E8F0FE;\n",
              "      border: none;\n",
              "      border-radius: 50%;\n",
              "      cursor: pointer;\n",
              "      display: none;\n",
              "      fill: #1967D2;\n",
              "      height: 32px;\n",
              "      padding: 0 0 0 0;\n",
              "      width: 32px;\n",
              "    }\n",
              "\n",
              "    .colab-df-convert:hover {\n",
              "      background-color: #E2EBFA;\n",
              "      box-shadow: 0px 1px 2px rgba(60, 64, 67, 0.3), 0px 1px 3px 1px rgba(60, 64, 67, 0.15);\n",
              "      fill: #174EA6;\n",
              "    }\n",
              "\n",
              "    .colab-df-buttons div {\n",
              "      margin-bottom: 4px;\n",
              "    }\n",
              "\n",
              "    [theme=dark] .colab-df-convert {\n",
              "      background-color: #3B4455;\n",
              "      fill: #D2E3FC;\n",
              "    }\n",
              "\n",
              "    [theme=dark] .colab-df-convert:hover {\n",
              "      background-color: #434B5C;\n",
              "      box-shadow: 0px 1px 3px 1px rgba(0, 0, 0, 0.15);\n",
              "      filter: drop-shadow(0px 1px 2px rgba(0, 0, 0, 0.3));\n",
              "      fill: #FFFFFF;\n",
              "    }\n",
              "  </style>\n",
              "\n",
              "    <script>\n",
              "      const buttonEl =\n",
              "        document.querySelector('#df-1b0cfc34-0eaa-4c61-b161-65a0aec9222f button.colab-df-convert');\n",
              "      buttonEl.style.display =\n",
              "        google.colab.kernel.accessAllowed ? 'block' : 'none';\n",
              "\n",
              "      async function convertToInteractive(key) {\n",
              "        const element = document.querySelector('#df-1b0cfc34-0eaa-4c61-b161-65a0aec9222f');\n",
              "        const dataTable =\n",
              "          await google.colab.kernel.invokeFunction('convertToInteractive',\n",
              "                                                    [key], {});\n",
              "        if (!dataTable) return;\n",
              "\n",
              "        const docLinkHtml = 'Like what you see? Visit the ' +\n",
              "          '<a target=\"_blank\" href=https://colab.research.google.com/notebooks/data_table.ipynb>data table notebook</a>'\n",
              "          + ' to learn more about interactive tables.';\n",
              "        element.innerHTML = '';\n",
              "        dataTable['output_type'] = 'display_data';\n",
              "        await google.colab.output.renderOutput(dataTable, element);\n",
              "        const docLink = document.createElement('div');\n",
              "        docLink.innerHTML = docLinkHtml;\n",
              "        element.appendChild(docLink);\n",
              "      }\n",
              "    </script>\n",
              "  </div>\n",
              "\n",
              "\n",
              "    <div id=\"df-7b349000-5886-455a-827d-18372dd08b5f\">\n",
              "      <button class=\"colab-df-quickchart\" onclick=\"quickchart('df-7b349000-5886-455a-827d-18372dd08b5f')\"\n",
              "                title=\"Suggest charts\"\n",
              "                style=\"display:none;\">\n",
              "\n",
              "<svg xmlns=\"http://www.w3.org/2000/svg\" height=\"24px\"viewBox=\"0 0 24 24\"\n",
              "     width=\"24px\">\n",
              "    <g>\n",
              "        <path d=\"M19 3H5c-1.1 0-2 .9-2 2v14c0 1.1.9 2 2 2h14c1.1 0 2-.9 2-2V5c0-1.1-.9-2-2-2zM9 17H7v-7h2v7zm4 0h-2V7h2v10zm4 0h-2v-4h2v4z\"/>\n",
              "    </g>\n",
              "</svg>\n",
              "      </button>\n",
              "\n",
              "<style>\n",
              "  .colab-df-quickchart {\n",
              "      --bg-color: #E8F0FE;\n",
              "      --fill-color: #1967D2;\n",
              "      --hover-bg-color: #E2EBFA;\n",
              "      --hover-fill-color: #174EA6;\n",
              "      --disabled-fill-color: #AAA;\n",
              "      --disabled-bg-color: #DDD;\n",
              "  }\n",
              "\n",
              "  [theme=dark] .colab-df-quickchart {\n",
              "      --bg-color: #3B4455;\n",
              "      --fill-color: #D2E3FC;\n",
              "      --hover-bg-color: #434B5C;\n",
              "      --hover-fill-color: #FFFFFF;\n",
              "      --disabled-bg-color: #3B4455;\n",
              "      --disabled-fill-color: #666;\n",
              "  }\n",
              "\n",
              "  .colab-df-quickchart {\n",
              "    background-color: var(--bg-color);\n",
              "    border: none;\n",
              "    border-radius: 50%;\n",
              "    cursor: pointer;\n",
              "    display: none;\n",
              "    fill: var(--fill-color);\n",
              "    height: 32px;\n",
              "    padding: 0;\n",
              "    width: 32px;\n",
              "  }\n",
              "\n",
              "  .colab-df-quickchart:hover {\n",
              "    background-color: var(--hover-bg-color);\n",
              "    box-shadow: 0 1px 2px rgba(60, 64, 67, 0.3), 0 1px 3px 1px rgba(60, 64, 67, 0.15);\n",
              "    fill: var(--button-hover-fill-color);\n",
              "  }\n",
              "\n",
              "  .colab-df-quickchart-complete:disabled,\n",
              "  .colab-df-quickchart-complete:disabled:hover {\n",
              "    background-color: var(--disabled-bg-color);\n",
              "    fill: var(--disabled-fill-color);\n",
              "    box-shadow: none;\n",
              "  }\n",
              "\n",
              "  .colab-df-spinner {\n",
              "    border: 2px solid var(--fill-color);\n",
              "    border-color: transparent;\n",
              "    border-bottom-color: var(--fill-color);\n",
              "    animation:\n",
              "      spin 1s steps(1) infinite;\n",
              "  }\n",
              "\n",
              "  @keyframes spin {\n",
              "    0% {\n",
              "      border-color: transparent;\n",
              "      border-bottom-color: var(--fill-color);\n",
              "      border-left-color: var(--fill-color);\n",
              "    }\n",
              "    20% {\n",
              "      border-color: transparent;\n",
              "      border-left-color: var(--fill-color);\n",
              "      border-top-color: var(--fill-color);\n",
              "    }\n",
              "    30% {\n",
              "      border-color: transparent;\n",
              "      border-left-color: var(--fill-color);\n",
              "      border-top-color: var(--fill-color);\n",
              "      border-right-color: var(--fill-color);\n",
              "    }\n",
              "    40% {\n",
              "      border-color: transparent;\n",
              "      border-right-color: var(--fill-color);\n",
              "      border-top-color: var(--fill-color);\n",
              "    }\n",
              "    60% {\n",
              "      border-color: transparent;\n",
              "      border-right-color: var(--fill-color);\n",
              "    }\n",
              "    80% {\n",
              "      border-color: transparent;\n",
              "      border-right-color: var(--fill-color);\n",
              "      border-bottom-color: var(--fill-color);\n",
              "    }\n",
              "    90% {\n",
              "      border-color: transparent;\n",
              "      border-bottom-color: var(--fill-color);\n",
              "    }\n",
              "  }\n",
              "</style>\n",
              "\n",
              "      <script>\n",
              "        async function quickchart(key) {\n",
              "          const quickchartButtonEl =\n",
              "            document.querySelector('#' + key + ' button');\n",
              "          quickchartButtonEl.disabled = true;  // To prevent multiple clicks.\n",
              "          quickchartButtonEl.classList.add('colab-df-spinner');\n",
              "          try {\n",
              "            const charts = await google.colab.kernel.invokeFunction(\n",
              "                'suggestCharts', [key], {});\n",
              "          } catch (error) {\n",
              "            console.error('Error during call to suggestCharts:', error);\n",
              "          }\n",
              "          quickchartButtonEl.classList.remove('colab-df-spinner');\n",
              "          quickchartButtonEl.classList.add('colab-df-quickchart-complete');\n",
              "        }\n",
              "        (() => {\n",
              "          let quickchartButtonEl =\n",
              "            document.querySelector('#df-7b349000-5886-455a-827d-18372dd08b5f button');\n",
              "          quickchartButtonEl.style.display =\n",
              "            google.colab.kernel.accessAllowed ? 'block' : 'none';\n",
              "        })();\n",
              "      </script>\n",
              "    </div>\n",
              "\n",
              "    </div>\n",
              "  </div>\n"
            ],
            "application/vnd.google.colaboratory.intrinsic+json": {
              "type": "dataframe",
              "variable_name": "df",
              "summary": "{\n  \"name\": \"df\",\n  \"rows\": 9973,\n  \"fields\": [\n    {\n      \"column\": \"Air_temperature\",\n      \"properties\": {\n        \"dtype\": \"number\",\n        \"std\": 1.0000501391361267,\n        \"min\": -2.351103622131081,\n        \"max\": 2.247867909974313,\n        \"num_unique_values\": 93,\n        \"samples\": [\n          -0.3515507820852547,\n          -1.5512824861127674,\n          0.3982815329319301\n        ],\n        \"semantic_type\": \"\",\n        \"description\": \"\"\n      }\n    },\n    {\n      \"column\": \"Process_temperature\",\n      \"properties\": {\n        \"dtype\": \"number\",\n        \"std\": 1.0000501391361416,\n        \"min\": -2.9010381356312425,\n        \"max\": 2.558590183794683,\n        \"num_unique_values\": 82,\n        \"samples\": [\n          -1.8899958542560735,\n          -0.9463563916392268,\n          0.0646858897359416\n        ],\n        \"semantic_type\": \"\",\n        \"description\": \"\"\n      }\n    },\n    {\n      \"column\": \"Rotational_speed\",\n      \"properties\": {\n        \"dtype\": \"number\",\n        \"std\": 1.0000501391361356,\n        \"min\": -2.0673726128961065,\n        \"max\": 7.508823545962598,\n        \"num_unique_values\": 941,\n        \"samples\": [\n          -1.4765246543169317,\n          0.2068346238992086,\n          2.6259668316667746\n        ],\n        \"semantic_type\": \"\",\n        \"description\": \"\"\n      }\n    },\n    {\n      \"column\": \"Torque\",\n      \"properties\": {\n        \"dtype\": \"number\",\n        \"std\": 1.0000501391361356,\n        \"min\": -3.630130998126055,\n        \"max\": 3.6744817810270622,\n        \"num_unique_values\": 577,\n        \"samples\": [\n          -0.389210767814987,\n          2.6008642434317566,\n          -2.747155827019633\n        ],\n        \"semantic_type\": \"\",\n        \"description\": \"\"\n      }\n    },\n    {\n      \"column\": \"Tool_wear\",\n      \"properties\": {\n        \"dtype\": \"number\",\n        \"std\": 1.0000501391361263,\n        \"min\": -1.6956470811542024,\n        \"max\": 2.279467733909639,\n        \"num_unique_values\": 246,\n        \"samples\": [\n          -0.2344388685022764,\n          -1.4756802534431597,\n          1.6824149158368091\n        ],\n        \"semantic_type\": \"\",\n        \"description\": \"\"\n      }\n    },\n    {\n      \"column\": \"Type_High\",\n      \"properties\": {\n        \"dtype\": \"number\",\n        \"std\": 0.3001086096465003,\n        \"min\": 0.0,\n        \"max\": 1.0,\n        \"num_unique_values\": 2,\n        \"samples\": [\n          1.0,\n          0.0\n        ],\n        \"semantic_type\": \"\",\n        \"description\": \"\"\n      }\n    },\n    {\n      \"column\": \"Type_Low\",\n      \"properties\": {\n        \"dtype\": \"number\",\n        \"std\": 0.4899184174482703,\n        \"min\": 0.0,\n        \"max\": 1.0,\n        \"num_unique_values\": 2,\n        \"samples\": [\n          1.0,\n          0.0\n        ],\n        \"semantic_type\": \"\",\n        \"description\": \"\"\n      }\n    },\n    {\n      \"column\": \"Type_Medium\",\n      \"properties\": {\n        \"dtype\": \"number\",\n        \"std\": 0.458241148018549,\n        \"min\": 0.0,\n        \"max\": 1.0,\n        \"num_unique_values\": 2,\n        \"samples\": [\n          0.0,\n          1.0\n        ],\n        \"semantic_type\": \"\",\n        \"description\": \"\"\n      }\n    },\n    {\n      \"column\": \"Failure_type\",\n      \"properties\": {\n        \"dtype\": \"category\",\n        \"num_unique_values\": 5,\n        \"samples\": [\n          \"Power Failure\",\n          \"Heat Dissipation Failure\"\n        ],\n        \"semantic_type\": \"\",\n        \"description\": \"\"\n      }\n    }\n  ]\n}"
            }
          },
          "metadata": {},
          "execution_count": 7
        }
      ],
      "source": [
        "!wget https://raw.githubusercontent.com/santiago2588/pump_failure_training/main/data/transformed_data.csv -O transformed_data.csv\n",
        "\n",
        "# Read the CSV file into a DataFrame\n",
        "df = pd.read_csv(\"transformed_data.csv\")\n",
        "\n",
        "# Display the first few rows to confirm it loaded correctly\n",
        "df.head()"
      ]
    },
    {
      "cell_type": "code",
      "execution_count": 8,
      "metadata": {
        "id": "yTkj9ByGpJ6-"
      },
      "outputs": [],
      "source": [
        "# Define features (X) and target variable (y)\n",
        "X = df.drop('Failure_type', axis=1)  # Features (all columns except 'Failure_type')\n",
        "y = df['Failure_type']  # Target variable"
      ]
    },
    {
      "cell_type": "code",
      "execution_count": 9,
      "metadata": {
        "colab": {
          "base_uri": "https://localhost:8080/"
        },
        "id": "xJAKpd6mpJ6-",
        "outputId": "063274cf-bde6-4ef3-cc5d-61e3492cebac"
      },
      "outputs": [
        {
          "output_type": "stream",
          "name": "stdout",
          "text": [
            "Training data shape: (7978, 8)\n",
            "Testing data shape: (1995, 8)\n"
          ]
        }
      ],
      "source": [
        "# Split the data into training and testing sets\n",
        "X_train, X_test, y_train, y_test = train_test_split(X, y, test_size=0.2, random_state=42)\n",
        "# Check the shape of the data\n",
        "print(f\"Training data shape: {X_train.shape}\")\n",
        "print(f\"Testing data shape: {X_test.shape}\")"
      ]
    },
    {
      "cell_type": "code",
      "execution_count": 10,
      "metadata": {
        "id": "e5yKmFo-pJ6-",
        "outputId": "6f92b801-d591-46d3-e6f1-a0f84a5c0e0d",
        "colab": {
          "base_uri": "https://localhost:8080/"
        }
      },
      "outputs": [
        {
          "output_type": "execute_result",
          "data": {
            "text/plain": [
              "['label_encoder.pkl']"
            ]
          },
          "metadata": {},
          "execution_count": 10
        }
      ],
      "source": [
        "# Encode target labels as XGB requires numerical labels\n",
        "label_encoder = LabelEncoder()\n",
        "y_train_encoded = label_encoder.fit_transform(y_train)\n",
        "y_test_encoded = label_encoder.transform(y_test)\n",
        "\n",
        "import joblib\n",
        "joblib.dump(label_encoder, 'label_encoder.pkl')"
      ]
    },
    {
      "cell_type": "code",
      "execution_count": 11,
      "metadata": {
        "colab": {
          "base_uri": "https://localhost:8080/"
        },
        "id": "jpuQ9oPVpJ6-",
        "outputId": "ecc5c698-e5a5-4673-f799-05c994ad91dc"
      },
      "outputs": [
        {
          "output_type": "stream",
          "name": "stdout",
          "text": [
            "[LightGBM] [Info] Auto-choosing row-wise multi-threading, the overhead of testing was 0.002734 seconds.\n",
            "You can set `force_row_wise=true` to remove the overhead.\n",
            "And if memory is not enough, you can set `force_col_wise=true`.\n",
            "[LightGBM] [Info] Total Bins 2040\n",
            "[LightGBM] [Info] Number of data points in the train set: 38535, number of used features: 8\n",
            "[LightGBM] [Info] Start training from score -1.609438\n",
            "[LightGBM] [Info] Start training from score -1.609438\n",
            "[LightGBM] [Info] Start training from score -1.609438\n",
            "[LightGBM] [Info] Start training from score -1.609438\n",
            "[LightGBM] [Info] Start training from score -1.609438\n"
          ]
        },
        {
          "output_type": "execute_result",
          "data": {
            "text/plain": [
              "{'Accuracy': 0.9729323308270676,\n",
              " 'Balanced Accuracy': np.float64(0.8068729787998563),\n",
              " 'Macro Recall': 0.9729323308270676,\n",
              " 'Macro Precision': 0.9871708567708818,\n",
              " 'Macro F1': 0.979438394478446,\n",
              " 'F1 Scores per Class': array([0.89795918, 0.98617992, 0.66666667, 0.79166667, 0.10810811])}"
            ]
          },
          "metadata": {},
          "execution_count": 11
        }
      ],
      "source": [
        "# Creating pipeline with lgbm classifier and smote\n",
        "lgbm_smote = Pipeline(steps=[\n",
        "    ('smote', SMOTE(random_state=2023)),\n",
        "    ('model', LGBMClassifier(random_state=2023))\n",
        "])\n",
        "\n",
        "# Fit pipeline\n",
        "lgbm_smote.fit(X_train, y_train_encoded)\n",
        "\n",
        "# Generate Predictions using the correctly fitted pipeline\n",
        "y_pred = lgbm_smote.predict(X_test)\n",
        "\n",
        "# Decode predictions back to original labels (optional)\n",
        "y_pred_decoded = label_encoder.inverse_transform(y_pred)\n",
        "\n",
        "# Evaluate Metrics\n",
        "metrics = get_metrics(y_test_encoded, y_pred)\n",
        "\n",
        "# View Results\n",
        "metrics"
      ]
    },
    {
      "cell_type": "code",
      "execution_count": 12,
      "metadata": {
        "colab": {
          "base_uri": "https://localhost:8080/"
        },
        "id": "FBUsQgoZpJ6-",
        "outputId": "29ae1416-0a84-4703-bc9c-38d9292fe5e9"
      },
      "outputs": [
        {
          "output_type": "stream",
          "name": "stdout",
          "text": [
            "[LightGBM] [Info] Auto-choosing col-wise multi-threading, the overhead of testing was 0.002933 seconds.\n",
            "You can set `force_col_wise=true` to remove the overhead.\n",
            "[LightGBM] [Info] Total Bins 931\n",
            "[LightGBM] [Info] Number of data points in the train set: 7978, number of used features: 8\n",
            "[LightGBM] [Info] Start training from score -1.609438\n",
            "[LightGBM] [Info] Start training from score -1.609438\n",
            "[LightGBM] [Info] Start training from score -1.609438\n",
            "[LightGBM] [Info] Start training from score -1.609438\n",
            "[LightGBM] [Info] Start training from score -1.609438\n",
            "[LightGBM] [Warning] No further splits with positive gain, best gain: -inf\n",
            "[LightGBM] [Warning] No further splits with positive gain, best gain: -inf\n",
            "[LightGBM] [Warning] No further splits with positive gain, best gain: -inf\n",
            "[LightGBM] [Warning] No further splits with positive gain, best gain: -inf\n"
          ]
        },
        {
          "output_type": "execute_result",
          "data": {
            "text/plain": [
              "{'Accuracy': 0.9849624060150376,\n",
              " 'Balanced Accuracy': np.float64(0.7608632770391663),\n",
              " 'Macro Recall': 0.9849624060150376,\n",
              " 'Macro Precision': 0.9888446148992893,\n",
              " 'Macro F1': 0.9865775289956211,\n",
              " 'F1 Scores per Class': array([0.91666667, 0.99249288, 0.66666667, 0.85714286, 0.125     ])}"
            ]
          },
          "metadata": {},
          "execution_count": 12
        }
      ],
      "source": [
        "# Creating model with LGBM classifier and balanced class weights\n",
        "\n",
        "# Compute sample weights for class imbalance\n",
        "weights = compute_sample_weight(class_weight='balanced', y=y_train_encoded)\n",
        "\n",
        "# Initialize lgbm classifier\n",
        "lgbm_model = LGBMClassifier(random_state=2023)\n",
        "\n",
        "# Fit the model with sample weights\n",
        "lgbm_model.fit(X_train, y_train_encoded, sample_weight=weights)\n",
        "\n",
        "# Generate predictions\n",
        "y_pred = lgbm_model.predict(X_test)\n",
        "\n",
        "# Evaluate metrics\n",
        "metrics = get_metrics(y_test_encoded, y_pred)\n",
        "\n",
        "# View results\n",
        "metrics"
      ]
    },
    {
      "cell_type": "code",
      "execution_count": 13,
      "metadata": {
        "id": "1ye17TtkpJ6-"
      },
      "outputs": [],
      "source": [
        "# Define the objective function for Optuna\n",
        "def objective(trial):\n",
        "    # Define the hyperparameter search space\n",
        "    params = {\n",
        "        'n_estimators': trial.suggest_int('n_estimators', 50, 500),  # Number of boosting rounds\n",
        "        'max_depth': trial.suggest_int('max_depth', 3, 15),  # Maximum tree depth\n",
        "        'learning_rate': trial.suggest_float('learning_rate', 0.01, 0.3, log=True),  # Learning rate\n",
        "        'num_leaves': trial.suggest_int('num_leaves', 20, 150),  # Number of leaves in one tree\n",
        "        'min_child_samples': trial.suggest_int('min_child_samples', 10, 100),  # Minimum data in leaf\n",
        "        'subsample': trial.suggest_float('subsample', 0.5, 1.0),  # Subsample ratio of the training data\n",
        "        'colsample_bytree': trial.suggest_float('colsample_bytree', 0.5, 1.0),  # Feature subsampling\n",
        "        'reg_alpha': trial.suggest_float('reg_alpha', 0, 10),  # L1 regularization\n",
        "        'reg_lambda': trial.suggest_float('reg_lambda', 0, 10),  # L2 regularization\n",
        "    }\n",
        "\n",
        "    # Initialize the LGBMClassifier with the trial's parameters\n",
        "    model = LGBMClassifier(random_state=2023, verbosity=-1, **params)\n",
        "\n",
        "    # Compute sample weights for class imbalance\n",
        "    weights = compute_sample_weight(class_weight='balanced', y=y_train_encoded)\n",
        "\n",
        "    # Fit the model with sample weights\n",
        "    model.fit(X_train, y_train_encoded, sample_weight=weights)\n",
        "\n",
        "    # Generate predictions\n",
        "    y_pred = model.predict(X_test)\n",
        "\n",
        "    # Evaluate the model using F1-score (or any other metric)\n",
        "    f1 = f1_score(y_test_encoded, y_pred, average='weighted')  # Weighted F1-score for imbalanced data\n",
        "\n",
        "    return f1  # Optuna will maximize this score"
      ]
    },
    {
      "cell_type": "code",
      "execution_count": 14,
      "metadata": {
        "colab": {
          "base_uri": "https://localhost:8080/"
        },
        "id": "FhrFnKZZpJ6-",
        "outputId": "8ae9ba3c-0e34-4fab-9fea-b6943ba8cccb"
      },
      "outputs": [
        {
          "output_type": "stream",
          "name": "stderr",
          "text": [
            "[I 2025-07-15 14:32:07,315] A new study created in memory with name: no-name-dad39b2c-cc6c-47c3-aab7-3f92fa9898ac\n",
            "[I 2025-07-15 14:32:09,669] Trial 0 finished with value: 0.9613090570010793 and parameters: {'n_estimators': 243, 'max_depth': 13, 'learning_rate': 0.04221144586847328, 'num_leaves': 50, 'min_child_samples': 70, 'subsample': 0.7517836308185052, 'colsample_bytree': 0.5635087482849093, 'reg_alpha': 1.585959454220106, 'reg_lambda': 7.2523732725145}. Best is trial 0 with value: 0.9613090570010793.\n",
            "[I 2025-07-15 14:32:11,495] Trial 1 finished with value: 0.9617458365293472 and parameters: {'n_estimators': 331, 'max_depth': 3, 'learning_rate': 0.06406477145243068, 'num_leaves': 99, 'min_child_samples': 76, 'subsample': 0.9819001881950422, 'colsample_bytree': 0.7571763453589775, 'reg_alpha': 2.0278170375237936, 'reg_lambda': 5.768333169704887}. Best is trial 1 with value: 0.9617458365293472.\n",
            "[I 2025-07-15 14:32:13,221] Trial 2 finished with value: 0.9393408430756702 and parameters: {'n_estimators': 443, 'max_depth': 13, 'learning_rate': 0.19107116173403663, 'num_leaves': 139, 'min_child_samples': 72, 'subsample': 0.8241146751986825, 'colsample_bytree': 0.6926209252485043, 'reg_alpha': 7.878317520640447, 'reg_lambda': 9.57247843882121}. Best is trial 1 with value: 0.9617458365293472.\n",
            "[I 2025-07-15 14:32:13,995] Trial 3 finished with value: 0.9326560679735405 and parameters: {'n_estimators': 105, 'max_depth': 15, 'learning_rate': 0.10766655221736342, 'num_leaves': 27, 'min_child_samples': 66, 'subsample': 0.9547073231631471, 'colsample_bytree': 0.5614748797859805, 'reg_alpha': 8.851630404470445, 'reg_lambda': 8.49846147042959}. Best is trial 1 with value: 0.9617458365293472.\n",
            "[I 2025-07-15 14:32:16,676] Trial 4 finished with value: 0.9375358440307341 and parameters: {'n_estimators': 469, 'max_depth': 13, 'learning_rate': 0.07798085365494056, 'num_leaves': 91, 'min_child_samples': 86, 'subsample': 0.8258635897459263, 'colsample_bytree': 0.6305837570258228, 'reg_alpha': 7.979883306331567, 'reg_lambda': 1.986679535086865}. Best is trial 1 with value: 0.9617458365293472.\n",
            "[I 2025-07-15 14:32:19,197] Trial 5 finished with value: 0.9384848739406392 and parameters: {'n_estimators': 318, 'max_depth': 6, 'learning_rate': 0.12707598445301724, 'num_leaves': 40, 'min_child_samples': 31, 'subsample': 0.9055841243065577, 'colsample_bytree': 0.9810992395881947, 'reg_alpha': 9.85494074263859, 'reg_lambda': 4.6334975982143956}. Best is trial 1 with value: 0.9617458365293472.\n",
            "[I 2025-07-15 14:32:20,417] Trial 6 finished with value: 0.9548985462523834 and parameters: {'n_estimators': 217, 'max_depth': 12, 'learning_rate': 0.21383045542324317, 'num_leaves': 148, 'min_child_samples': 79, 'subsample': 0.7043175881555066, 'colsample_bytree': 0.8546730160467083, 'reg_alpha': 5.510473107726785, 'reg_lambda': 0.2790587642063036}. Best is trial 1 with value: 0.9617458365293472.\n",
            "[I 2025-07-15 14:32:22,667] Trial 7 finished with value: 0.9349069279878083 and parameters: {'n_estimators': 437, 'max_depth': 12, 'learning_rate': 0.02130343523547489, 'num_leaves': 79, 'min_child_samples': 80, 'subsample': 0.9929430236355221, 'colsample_bytree': 0.7847527997661009, 'reg_alpha': 8.661613636962928, 'reg_lambda': 8.369958618739261}. Best is trial 1 with value: 0.9617458365293472.\n",
            "[I 2025-07-15 14:32:23,701] Trial 8 finished with value: 0.938337025065108 and parameters: {'n_estimators': 360, 'max_depth': 14, 'learning_rate': 0.043576331951261385, 'num_leaves': 39, 'min_child_samples': 39, 'subsample': 0.8428214840292279, 'colsample_bytree': 0.9430517597467901, 'reg_alpha': 8.98618428405338, 'reg_lambda': 8.708994724289036}. Best is trial 1 with value: 0.9617458365293472.\n",
            "[I 2025-07-15 14:32:23,995] Trial 9 finished with value: 0.9265392189902933 and parameters: {'n_estimators': 83, 'max_depth': 10, 'learning_rate': 0.023544860637143603, 'num_leaves': 134, 'min_child_samples': 59, 'subsample': 0.5743335280335864, 'colsample_bytree': 0.9256802221403513, 'reg_alpha': 2.2650393294355355, 'reg_lambda': 2.083145839812721}. Best is trial 1 with value: 0.9617458365293472.\n",
            "[I 2025-07-15 14:32:24,495] Trial 10 finished with value: 0.9104862119840725 and parameters: {'n_estimators': 182, 'max_depth': 3, 'learning_rate': 0.012898591639098329, 'num_leaves': 107, 'min_child_samples': 100, 'subsample': 0.5016276082061663, 'colsample_bytree': 0.7654803489759134, 'reg_alpha': 0.09090137739637805, 'reg_lambda': 5.52058523242732}. Best is trial 1 with value: 0.9617458365293472.\n",
            "[I 2025-07-15 14:32:25,775] Trial 11 finished with value: 0.953053609520078 and parameters: {'n_estimators': 260, 'max_depth': 7, 'learning_rate': 0.045083580564145895, 'num_leaves': 62, 'min_child_samples': 47, 'subsample': 0.7058072926250643, 'colsample_bytree': 0.5222431683591897, 'reg_alpha': 2.5391696598228526, 'reg_lambda': 6.151050696624636}. Best is trial 1 with value: 0.9617458365293472.\n",
            "[I 2025-07-15 14:32:26,883] Trial 12 finished with value: 0.9588827671226625 and parameters: {'n_estimators': 344, 'max_depth': 3, 'learning_rate': 0.05905792456914813, 'num_leaves': 111, 'min_child_samples': 13, 'subsample': 0.6696101411283792, 'colsample_bytree': 0.662622920849132, 'reg_alpha': 2.1265715029035173, 'reg_lambda': 6.607508440133619}. Best is trial 1 with value: 0.9617458365293472.\n",
            "[I 2025-07-15 14:32:27,637] Trial 13 finished with value: 0.9433999237876138 and parameters: {'n_estimators': 171, 'max_depth': 9, 'learning_rate': 0.028085963027620803, 'num_leaves': 64, 'min_child_samples': 90, 'subsample': 0.6201719810042532, 'colsample_bytree': 0.5983379319271219, 'reg_alpha': 0.0997732646477889, 'reg_lambda': 4.0749492869159605}. Best is trial 1 with value: 0.9617458365293472.\n",
            "[I 2025-07-15 14:32:28,691] Trial 14 finished with value: 0.9495055779317231 and parameters: {'n_estimators': 277, 'max_depth': 6, 'learning_rate': 0.0332036920724948, 'num_leaves': 59, 'min_child_samples': 52, 'subsample': 0.758561383714929, 'colsample_bytree': 0.7138984141290452, 'reg_alpha': 4.052471313359305, 'reg_lambda': 6.834204205300009}. Best is trial 1 with value: 0.9617458365293472.\n",
            "[I 2025-07-15 14:32:29,611] Trial 15 finished with value: 0.9619379776468538 and parameters: {'n_estimators': 257, 'max_depth': 10, 'learning_rate': 0.07095230961834771, 'num_leaves': 112, 'min_child_samples': 66, 'subsample': 0.8986281228615639, 'colsample_bytree': 0.8297215827953973, 'reg_alpha': 4.028703146907292, 'reg_lambda': 7.3499487391359475}. Best is trial 15 with value: 0.9619379776468538.\n",
            "[I 2025-07-15 14:32:30,822] Trial 16 finished with value: 0.9527446345738028 and parameters: {'n_estimators': 390, 'max_depth': 10, 'learning_rate': 0.08274798109417672, 'num_leaves': 115, 'min_child_samples': 59, 'subsample': 0.9026146026448635, 'colsample_bytree': 0.8450552577856199, 'reg_alpha': 5.318521771483659, 'reg_lambda': 3.2835616988651424}. Best is trial 15 with value: 0.9619379776468538.\n",
            "[I 2025-07-15 14:32:31,949] Trial 17 finished with value: 0.9620610589961377 and parameters: {'n_estimators': 300, 'max_depth': 7, 'learning_rate': 0.13834694039189385, 'num_leaves': 91, 'min_child_samples': 99, 'subsample': 0.9278248332538298, 'colsample_bytree': 0.8471325867284593, 'reg_alpha': 3.8711346656898993, 'reg_lambda': 5.2314517131156455}. Best is trial 17 with value: 0.9620610589961377.\n",
            "[I 2025-07-15 14:32:32,685] Trial 18 finished with value: 0.9623904557735224 and parameters: {'n_estimators': 138, 'max_depth': 8, 'learning_rate': 0.1484000919356986, 'num_leaves': 124, 'min_child_samples': 99, 'subsample': 0.8965023131016437, 'colsample_bytree': 0.8413594400079664, 'reg_alpha': 3.757424759819525, 'reg_lambda': 7.455600924496408}. Best is trial 18 with value: 0.9623904557735224.\n",
            "[I 2025-07-15 14:32:33,089] Trial 19 finished with value: 0.9468018989678382 and parameters: {'n_estimators': 134, 'max_depth': 8, 'learning_rate': 0.2827295444977063, 'num_leaves': 127, 'min_child_samples': 99, 'subsample': 0.8629094623309497, 'colsample_bytree': 0.8950579049724732, 'reg_alpha': 6.544704796387764, 'reg_lambda': 9.907587731234361}. Best is trial 18 with value: 0.9623904557735224.\n"
          ]
        },
        {
          "output_type": "stream",
          "name": "stdout",
          "text": [
            "Best hyperparameters: {'n_estimators': 138, 'max_depth': 8, 'learning_rate': 0.1484000919356986, 'num_leaves': 124, 'min_child_samples': 99, 'subsample': 0.8965023131016437, 'colsample_bytree': 0.8413594400079664, 'reg_alpha': 3.757424759819525, 'reg_lambda': 7.455600924496408}\n",
            "Best F1-score: 0.9623904557735224\n"
          ]
        }
      ],
      "source": [
        "# Create a study object\n",
        "study = optuna.create_study(direction='maximize')  # We want to maximize F1-score\n",
        "\n",
        "# Optimize the study\n",
        "study.optimize(objective, n_trials=20)  # Run 20 trials (you can increase this for better results)\n",
        "\n",
        "# Print the best hyperparameters\n",
        "print(\"Best hyperparameters:\", study.best_params)\n",
        "print(\"Best F1-score:\", study.best_value)"
      ]
    },
    {
      "cell_type": "code",
      "execution_count": 15,
      "metadata": {
        "colab": {
          "base_uri": "https://localhost:8080/"
        },
        "id": "97n75jUEpJ6-",
        "outputId": "c38fd9c7-70f1-458c-cc27-e271701213a6"
      },
      "outputs": [
        {
          "output_type": "stream",
          "name": "stdout",
          "text": [
            "Best Hyperparameters found:\n",
            "\n",
            "Evaluation Metrics:\n"
          ]
        },
        {
          "output_type": "execute_result",
          "data": {
            "text/plain": [
              "{'Accuracy': 0.9463659147869674,\n",
              " 'Balanced Accuracy': np.float64(0.9318648939992814),\n",
              " 'Macro Recall': 0.9463659147869674,\n",
              " 'Macro Precision': 0.9848352461165851,\n",
              " 'Macro F1': 0.9623904557735224}"
            ]
          },
          "metadata": {},
          "execution_count": 15
        }
      ],
      "source": [
        "# Extract the best hyperparameters\n",
        "best_params = study.best_params\n",
        "\n",
        "# Train the final model with the best hyperparameters\n",
        "final_model = LGBMClassifier(random_state=2023, verbosity=-1,**best_params)\n",
        "\n",
        "# Compute sample weights again\n",
        "weights = compute_sample_weight(class_weight='balanced', y=y_train_encoded)\n",
        "\n",
        "# Fit the final model\n",
        "final_model.fit(X_train, y_train_encoded, sample_weight=weights)\n",
        "\n",
        "# Generate predictions\n",
        "y_pred = final_model.predict(X_test)\n",
        "\n",
        "# Evaluate metrics\n",
        "metrics = get_metrics(y_test_encoded, y_pred)\n",
        "\n",
        "# Remove 'F1 Scores per Class' from metrics if it exists\n",
        "if 'F1 Scores per Class' in metrics:\n",
        "    del metrics['F1 Scores per Class']\n",
        "\n",
        "# --- Results ---\n",
        "# The following lines replace the MLflow logging.\n",
        "\n",
        "# View the best hyperparameters\n",
        "print(\"Best Hyperparameters found:\")\n",
        "best_params\n",
        "\n",
        "# View the final evaluation metrics\n",
        "print(\"\\nEvaluation Metrics:\")\n",
        "metrics"
      ]
    },
    {
      "cell_type": "code",
      "execution_count": 16,
      "metadata": {
        "colab": {
          "base_uri": "https://localhost:8080/",
          "height": 638
        },
        "id": "kjW4SeXupJ6_",
        "outputId": "c8bfd59c-a8eb-44eb-e8ed-9a248770b305"
      },
      "outputs": [
        {
          "output_type": "display_data",
          "data": {
            "text/plain": [
              "<Figure size 500x500 with 2 Axes>"
            ],
            "image/png": "[encoded data removed]"
          },
          "metadata": {}
        }
      ],
      "source": [
        "from sklearn.metrics import confusion_matrix\n",
        "import seaborn as sns\n",
        "import matplotlib.pyplot as plt\n",
        "import numpy as np\n",
        "\n",
        "# Decode predictions if necessary\n",
        "# Assuming y_test contains string labels and y_pred contains numeric labels\n",
        "y_pred_decoded = label_encoder.inverse_transform(y_pred)\n",
        "\n",
        "# Generate the confusion matrix\n",
        "cm = confusion_matrix(y_test, y_pred_decoded)\n",
        "\n",
        "# Plot the confusion matrix\n",
        "plt.figure(figsize=(5, 5))  # Larger figure size\n",
        "sns.heatmap(cm, annot=True, fmt='d', cmap='Blues',  # Use 'd' to format numbers as integers\n",
        "            xticklabels=np.unique(y_test),\n",
        "            yticklabels=np.unique(y_test))  # Ensure labels match y_test\n",
        "plt.ylabel('Actual label')\n",
        "plt.xlabel('Predicted label')\n",
        "plt.title('Confusion Matrix with Fine-Tuned LGBMClassifier')\n",
        "plt.show()"
      ]
    },
    {
      "cell_type": "code",
      "execution_count": 17,
      "metadata": {
        "id": "by4lbQoIpJ6_",
        "outputId": "25a52618-7842-4fbe-b866-d90687a291c9",
        "colab": {
          "base_uri": "https://localhost:8080/"
        }
      },
      "outputs": [
        {
          "output_type": "execute_result",
          "data": {
            "text/plain": [
              "['final_model.joblib']"
            ]
          },
          "metadata": {},
          "execution_count": 17
        }
      ],
      "source": [
        "joblib.dump(final_model, 'final_model.joblib')"
      ]
    }
  ],
  "metadata": {
    "kernelspec": {
      "display_name": "My env pump failure)",
      "language": "python",
      "name": "my-env-with-poetry"
    },
    "language_info": {
      "codemirror_mode": {
        "name": "ipython",
        "version": 3
      },
      "file_extension": ".py",
      "mimetype": "text/x-python",
      "name": "python",
      "nbconvert_exporter": "python",
      "pygments_lexer": "ipython3",
      "version": "3.10.14"
    },
    "colab": {
      "provenance": [],
      "include_colab_link": true
    }
  },
  "nbformat": 4,
  "nbformat_minor": 0
}