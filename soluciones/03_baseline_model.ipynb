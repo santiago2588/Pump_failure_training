{
 "cells": [
  {
   "cell_type": "code",
   "execution_count": 205,
   "metadata": {},
   "outputs": [],
   "source": [
    "import yaml\n",
    "import os"
   ]
  },
  {
   "cell_type": "code",
   "execution_count": 206,
   "metadata": {},
   "outputs": [],
   "source": [
    "# Data wrangling\n",
    "import pandas as pd\n",
    "import numpy as np"
   ]
  },
  {
   "cell_type": "code",
   "execution_count": 207,
   "metadata": {},
   "outputs": [],
   "source": [
    "from sklearn.decomposition import PCA\n",
    "from sklearn.linear_model import LogisticRegression\n",
    "from sklearn.neighbors import KNeighborsClassifier\n",
    "from sklearn.utils import class_weight\n",
    "from imblearn.over_sampling import SMOTE"
   ]
  },
  {
   "cell_type": "code",
   "execution_count": 208,
   "metadata": {},
   "outputs": [],
   "source": [
    "%run \"C:/Users/mjkipsz2/OneDrive - The University of Manchester/Desktop/Pump failure/utils.py\""
   ]
  },
  {
   "cell_type": "code",
   "execution_count": 209,
   "metadata": {},
   "outputs": [],
   "source": [
    "from sklearn.model_selection import train_test_split\n",
    "from imblearn.pipeline import Pipeline"
   ]
  },
  {
   "cell_type": "code",
   "execution_count": 210,
   "metadata": {},
   "outputs": [
    {
     "data": {
      "text/html": [
       "<div>\n",
       "<style scoped>\n",
       "    .dataframe tbody tr th:only-of-type {\n",
       "        vertical-align: middle;\n",
       "    }\n",
       "\n",
       "    .dataframe tbody tr th {\n",
       "        vertical-align: top;\n",
       "    }\n",
       "\n",
       "    .dataframe thead th {\n",
       "        text-align: right;\n",
       "    }\n",
       "</style>\n",
       "<table border=\"1\" class=\"dataframe\">\n",
       "  <thead>\n",
       "    <tr style=\"text-align: right;\">\n",
       "      <th></th>\n",
       "      <th>Air_temperature</th>\n",
       "      <th>Process_temperature</th>\n",
       "      <th>Rotational_speed</th>\n",
       "      <th>Torque</th>\n",
       "      <th>Tool_wear</th>\n",
       "      <th>Type_High</th>\n",
       "      <th>Type_Low</th>\n",
       "      <th>Type_Medium</th>\n",
       "      <th>Failure_type</th>\n",
       "    </tr>\n",
       "  </thead>\n",
       "  <tbody>\n",
       "    <tr>\n",
       "      <th>0</th>\n",
       "      <td>-0.951417</td>\n",
       "      <td>-0.946356</td>\n",
       "      <td>0.067484</td>\n",
       "      <td>0.283054</td>\n",
       "      <td>-1.695647</td>\n",
       "      <td>0.0</td>\n",
       "      <td>0.0</td>\n",
       "      <td>1.0</td>\n",
       "      <td>No Failure</td>\n",
       "    </tr>\n",
       "    <tr>\n",
       "      <th>1</th>\n",
       "      <td>-0.901428</td>\n",
       "      <td>-0.878954</td>\n",
       "      <td>-0.729604</td>\n",
       "      <td>0.634238</td>\n",
       "      <td>-1.648511</td>\n",
       "      <td>0.0</td>\n",
       "      <td>1.0</td>\n",
       "      <td>0.0</td>\n",
       "      <td>No Failure</td>\n",
       "    </tr>\n",
       "    <tr>\n",
       "      <th>2</th>\n",
       "      <td>-0.951417</td>\n",
       "      <td>-1.013759</td>\n",
       "      <td>-0.227940</td>\n",
       "      <td>0.945286</td>\n",
       "      <td>-1.617087</td>\n",
       "      <td>0.0</td>\n",
       "      <td>1.0</td>\n",
       "      <td>0.0</td>\n",
       "      <td>No Failure</td>\n",
       "    </tr>\n",
       "    <tr>\n",
       "      <th>3</th>\n",
       "      <td>-0.901428</td>\n",
       "      <td>-0.946356</td>\n",
       "      <td>-0.590253</td>\n",
       "      <td>-0.048061</td>\n",
       "      <td>-1.585664</td>\n",
       "      <td>0.0</td>\n",
       "      <td>1.0</td>\n",
       "      <td>0.0</td>\n",
       "      <td>No Failure</td>\n",
       "    </tr>\n",
       "    <tr>\n",
       "      <th>4</th>\n",
       "      <td>-0.901428</td>\n",
       "      <td>-0.878954</td>\n",
       "      <td>-0.729604</td>\n",
       "      <td>0.002108</td>\n",
       "      <td>-1.554240</td>\n",
       "      <td>0.0</td>\n",
       "      <td>1.0</td>\n",
       "      <td>0.0</td>\n",
       "      <td>No Failure</td>\n",
       "    </tr>\n",
       "  </tbody>\n",
       "</table>\n",
       "</div>"
      ],
      "text/plain": [
       "   Air_temperature  Process_temperature  Rotational_speed    Torque  \\\n",
       "0        -0.951417            -0.946356          0.067484  0.283054   \n",
       "1        -0.901428            -0.878954         -0.729604  0.634238   \n",
       "2        -0.951417            -1.013759         -0.227940  0.945286   \n",
       "3        -0.901428            -0.946356         -0.590253 -0.048061   \n",
       "4        -0.901428            -0.878954         -0.729604  0.002108   \n",
       "\n",
       "   Tool_wear  Type_High  Type_Low  Type_Medium Failure_type  \n",
       "0  -1.695647        0.0       0.0          1.0   No Failure  \n",
       "1  -1.648511        0.0       1.0          0.0   No Failure  \n",
       "2  -1.617087        0.0       1.0          0.0   No Failure  \n",
       "3  -1.585664        0.0       1.0          0.0   No Failure  \n",
       "4  -1.554240        0.0       1.0          0.0   No Failure  "
      ]
     },
     "execution_count": 210,
     "metadata": {},
     "output_type": "execute_result"
    }
   ],
   "source": [
    "# Load the configuration file\n",
    "with open('../config.yaml', 'r') as config_file:\n",
    "    config = yaml.safe_load(config_file)\n",
    "\n",
    "# Access the settings\n",
    "project_folder = config['projectFolder']\n",
    "df_path = os.path.join(project_folder, config['transformedDataFile'])\n",
    "df = pd.read_csv(df_path)\n",
    "\n",
    "# Display the first few rows\n",
    "df.head()"
   ]
  },
  {
   "cell_type": "code",
   "execution_count": 211,
   "metadata": {},
   "outputs": [],
   "source": [
    "# Define features (X) and target variable (y)\n",
    "X = df.drop('Failure_type', axis=1)  # Features (all columns except 'Failure_type')\n",
    "y = df['Failure_type']  # Target variable"
   ]
  },
  {
   "cell_type": "code",
   "execution_count": 212,
   "metadata": {},
   "outputs": [
    {
     "name": "stdout",
     "output_type": "stream",
     "text": [
      "Training data shape: (7978, 8)\n",
      "Testing data shape: (1995, 8)\n"
     ]
    }
   ],
   "source": [
    "# Split the data into training and testing sets\n",
    "X_train, X_test, y_train, y_test = train_test_split(X, y, test_size=0.2, random_state=42)\n",
    "# Check the shape of the data\n",
    "print(f\"Training data shape: {X_train.shape}\")\n",
    "print(f\"Testing data shape: {X_test.shape}\")"
   ]
  },
  {
   "cell_type": "code",
   "execution_count": 213,
   "metadata": {},
   "outputs": [
    {
     "data": {
      "text/plain": [
       "{'Accuracy': 0.48521303258145365,\n",
       " 'Balanced Accuracy': np.float64(0.6057105641394178),\n",
       " 'Macro Recall': 0.6057105641394178,\n",
       " 'Macro Precision': 0.24359424659847018,\n",
       " 'Macro F1': 0.21197605999048355,\n",
       " 'F1 Scores per Class': array([0.08947368, 0.64911673, 0.26415094, 0.01219512, 0.04494382])}"
      ]
     },
     "execution_count": 213,
     "metadata": {},
     "output_type": "execute_result"
    }
   ],
   "source": [
    "# Define the pipeline for Logistic regression, PCA and class weight\n",
    "log_reg_pca_class = Pipeline(steps=[\n",
    "    ('pca', PCA(n_components=4)),  # PCA step\n",
    "    ('model', LogisticRegression(random_state=2023))  # Logistic Regression step\n",
    "])\n",
    "\n",
    "# Fit the pipeline with balanced class weights\n",
    "weights = class_weight.compute_sample_weight(class_weight='balanced', y=y_train)\n",
    "log_reg_pca_class.fit(X_train, y_train, model__sample_weight=weights)\n",
    "\n",
    "# Generate predictions\n",
    "y_pred = log_reg_pca_class.predict(X_test)\n",
    "\n",
    "# Evaluate metrics\n",
    "metrics = get_metrics(y_test, y_pred)\n",
    "\n",
    "# View results\n",
    "metrics"
   ]
  },
  {
   "cell_type": "code",
   "execution_count": 214,
   "metadata": {},
   "outputs": [
    {
     "data": {
      "text/plain": [
       "{'Accuracy': 0.8390977443609022,\n",
       " 'Balanced Accuracy': np.float64(0.9097574559827525),\n",
       " 'Macro Recall': 0.9097574559827525,\n",
       " 'Macro Precision': 0.3698818657897941,\n",
       " 'Macro F1': 0.4406082535892219,\n",
       " 'F1 Scores per Class': array([0.36521739, 0.91052335, 0.27118644, 0.61333333, 0.04278075])}"
      ]
     },
     "execution_count": 214,
     "metadata": {},
     "output_type": "execute_result"
    }
   ],
   "source": [
    "# Define the pipeline for Logistic regression and class weight\n",
    "\n",
    "log_reg_class = Pipeline(steps=[\n",
    "    ('model', LogisticRegression(random_state=2023))  # Logistic Regression step\n",
    "])\n",
    "\n",
    "# Fit the pipeline with balanced class weights\n",
    "weights = class_weight.compute_sample_weight(class_weight='balanced', y=y_train)\n",
    "log_reg_class.fit(X_train, y_train, model__sample_weight=weights)\n",
    "\n",
    "# Generate predictions\n",
    "y_pred = log_reg_class.predict(X_test)\n",
    "\n",
    "# Evaluate metrics\n",
    "metrics = get_metrics(y_test, y_pred)\n",
    "\n",
    "# View results\n",
    "metrics"
   ]
  },
  {
   "cell_type": "code",
   "execution_count": 215,
   "metadata": {},
   "outputs": [
    {
     "name": "stderr",
     "output_type": "stream",
     "text": [
      "c:\\Users\\mjkipsz2\\OneDrive - The University of Manchester\\Desktop\\Pump failure\\.venv\\lib\\site-packages\\sklearn\\base.py:474: FutureWarning: `BaseEstimator._validate_data` is deprecated in 1.6 and will be removed in 1.7. Use `sklearn.utils.validation.validate_data` instead. This function becomes public and is part of the scikit-learn developer API.\n",
      "  warnings.warn(\n",
      "c:\\Users\\mjkipsz2\\OneDrive - The University of Manchester\\Desktop\\Pump failure\\.venv\\lib\\site-packages\\sklearn\\utils\\_tags.py:354: FutureWarning: The SMOTE or classes from which it inherits use `_get_tags` and `_more_tags`. Please define the `__sklearn_tags__` method, or inherit from `sklearn.base.BaseEstimator` and/or other appropriate mixins such as `sklearn.base.TransformerMixin`, `sklearn.base.ClassifierMixin`, `sklearn.base.RegressorMixin`, and `sklearn.base.OutlierMixin`. From scikit-learn 1.7, not defining `__sklearn_tags__` will raise an error.\n",
      "  warnings.warn(\n"
     ]
    },
    {
     "data": {
      "text/plain": [
       "{'Accuracy': 0.9413533834586466,\n",
       " 'Balanced Accuracy': np.float64(0.7496909809558031),\n",
       " 'Macro Recall': 0.7496909809558031,\n",
       " 'Macro Precision': 0.4553534655874268,\n",
       " 'Macro F1': 0.5271081678642762,\n",
       " 'F1 Scores per Class': array([0.50666667, 0.9698253 , 0.36363636, 0.71698113, 0.07843137])}"
      ]
     },
     "execution_count": 215,
     "metadata": {},
     "output_type": "execute_result"
    }
   ],
   "source": [
    "# Define the pipeline for Logistic regression and SMOTE\n",
    "log_reg_pca_smote = Pipeline(steps=[\n",
    "    ('smote', SMOTE(random_state=2023)),  # SMOTE step to balance the dataset\n",
    "    ('model', LogisticRegression(random_state=2023, max_iter=500))  # Logistic Regression step\n",
    "])\n",
    "\n",
    "# Fit the pipeline\n",
    "log_reg_pca_smote.fit(X_train, y_train)\n",
    "\n",
    "# Generate predictions\n",
    "y_pred = log_reg_pca.predict(X_test)\n",
    "\n",
    "# Evaluate metrics\n",
    "metrics = get_metrics(y_test, y_pred)\n",
    "\n",
    "# View results\n",
    "metrics"
   ]
  },
  {
   "cell_type": "code",
   "execution_count": 216,
   "metadata": {},
   "outputs": [
    {
     "name": "stderr",
     "output_type": "stream",
     "text": [
      "c:\\Users\\mjkipsz2\\OneDrive - The University of Manchester\\Desktop\\Pump failure\\.venv\\lib\\site-packages\\sklearn\\base.py:474: FutureWarning: `BaseEstimator._validate_data` is deprecated in 1.6 and will be removed in 1.7. Use `sklearn.utils.validation.validate_data` instead. This function becomes public and is part of the scikit-learn developer API.\n",
      "  warnings.warn(\n",
      "c:\\Users\\mjkipsz2\\OneDrive - The University of Manchester\\Desktop\\Pump failure\\.venv\\lib\\site-packages\\sklearn\\utils\\_tags.py:354: FutureWarning: The SMOTE or classes from which it inherits use `_get_tags` and `_more_tags`. Please define the `__sklearn_tags__` method, or inherit from `sklearn.base.BaseEstimator` and/or other appropriate mixins such as `sklearn.base.TransformerMixin`, `sklearn.base.ClassifierMixin`, `sklearn.base.RegressorMixin`, and `sklearn.base.OutlierMixin`. From scikit-learn 1.7, not defining `__sklearn_tags__` will raise an error.\n",
      "  warnings.warn(\n"
     ]
    },
    {
     "data": {
      "text/plain": [
       "{'Accuracy': 0.9413533834586466,\n",
       " 'Balanced Accuracy': np.float64(0.7496909809558031),\n",
       " 'Macro Recall': 0.7496909809558031,\n",
       " 'Macro Precision': 0.4553534655874268,\n",
       " 'Macro F1': 0.5271081678642762,\n",
       " 'F1 Scores per Class': array([0.50666667, 0.9698253 , 0.36363636, 0.71698113, 0.07843137])}"
      ]
     },
     "execution_count": 216,
     "metadata": {},
     "output_type": "execute_result"
    }
   ],
   "source": [
    "# Define the pipeline for KNeighborsClassifier model\n",
    "\n",
    "knn_model_smote = Pipeline(steps=[\n",
    "    ('smote', SMOTE(random_state=2023)),\n",
    "    ('model', KNeighborsClassifier(n_neighbors=3))  # KNeighborsClassifier step\n",
    "])\n",
    "\n",
    "# Fit the pipeline without sample weights\n",
    "knn_model_smote.fit(X_train, y_train)\n",
    "\n",
    "# Generate predictions\n",
    "y_pred = knn_model_smote.predict(X_test)\n",
    "\n",
    "# Evaluate metrics\n",
    "metrics = get_metrics(y_test, y_pred)\n",
    "\n",
    "# View results\n",
    "metrics"
   ]
  }
 ],
 "metadata": {
  "kernelspec": {
   "display_name": "My env pump failure)",
   "language": "python",
   "name": "my-env-with-poetry"
  },
  "language_info": {
   "codemirror_mode": {
    "name": "ipython",
    "version": 3
   },
   "file_extension": ".py",
   "mimetype": "text/x-python",
   "name": "python",
   "nbconvert_exporter": "python",
   "pygments_lexer": "ipython3",
   "version": "3.10.14"
  }
 },
 "nbformat": 4,
 "nbformat_minor": 2
}
