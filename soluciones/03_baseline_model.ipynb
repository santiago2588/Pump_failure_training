{
  "cells": [
    {
      "cell_type": "markdown",
      "metadata": {
        "id": "view-in-github",
        "colab_type": "text"
      },
      "source": [
        "<a href=\"https://colab.research.google.com/github/santiago2588/Pump_failure_training/blob/main/soluciones/03_baseline_model.ipynb\" target=\"_parent\"><img src=\"https://colab.research.google.com/assets/colab-badge.svg\" alt=\"Open In Colab\"/></a>"
      ]
    },
    {
      "cell_type": "code",
      "execution_count": 1,
      "metadata": {
        "id": "G7HwOlFxiMPe"
      },
      "outputs": [],
      "source": [
        "# Data wrangling\n",
        "import pandas as pd\n",
        "import numpy as np"
      ]
    },
    {
      "cell_type": "code",
      "execution_count": 2,
      "metadata": {
        "id": "Cp35P8XViMPe"
      },
      "outputs": [],
      "source": [
        "from sklearn.decomposition import PCA\n",
        "from sklearn.linear_model import LogisticRegression\n",
        "from sklearn.neighbors import KNeighborsClassifier\n",
        "from sklearn.utils import class_weight\n",
        "from imblearn.over_sampling import SMOTE"
      ]
    },
    {
      "cell_type": "code",
      "execution_count": 3,
      "metadata": {
        "colab": {
          "base_uri": "https://localhost:8080/"
        },
        "id": "iajJmbc_iMPf",
        "outputId": "400ebc2d-eab4-4420-8d1e-868f5ea04df2"
      },
      "outputs": [
        {
          "output_type": "stream",
          "name": "stdout",
          "text": [
            "--2025-07-15 10:05:49--  https://raw.githubusercontent.com/santiago2588/pump_failure_training/main/utils.py\n",
            "Resolving raw.githubusercontent.com (raw.githubusercontent.com)... 185.199.111.133, 185.199.108.133, 185.199.110.133, ...\n",
            "Connecting to raw.githubusercontent.com (raw.githubusercontent.com)|185.199.111.133|:443... connected.\n",
            "HTTP request sent, awaiting response... 200 OK\n",
            "Length: 2407 (2.4K) [text/plain]\n",
            "Saving to: ‘utils.py’\n",
            "\n",
            "utils.py            100%[===================>]   2.35K  --.-KB/s    in 0s      \n",
            "\n",
            "2025-07-15 10:05:49 (4.65 MB/s) - ‘utils.py’ saved [2407/2407]\n",
            "\n"
          ]
        }
      ],
      "source": [
        "# Download the utils.py file from your GitHub repository\n",
        "!wget https://raw.githubusercontent.com/santiago2588/pump_failure_training/main/utils.py"
      ]
    },
    {
      "cell_type": "code",
      "source": [
        "# Now you can run the script using %run\n",
        "%run utils.py"
      ],
      "metadata": {
        "id": "cZC8P1bHjDzk"
      },
      "execution_count": 4,
      "outputs": []
    },
    {
      "cell_type": "code",
      "execution_count": 5,
      "metadata": {
        "id": "Ij-vSSJsiMPf"
      },
      "outputs": [],
      "source": [
        "from sklearn.model_selection import train_test_split\n",
        "from imblearn.pipeline import Pipeline"
      ]
    },
    {
      "cell_type": "code",
      "source": [
        "!wget https://raw.githubusercontent.com/santiago2588/pump_failure_training/main/data/transformed_data.csv -O transformed_data.csv"
      ],
      "metadata": {
        "colab": {
          "base_uri": "https://localhost:8080/"
        },
        "id": "06OVm_keiaYe",
        "outputId": "b28f2fe1-11fc-4cea-a13c-95b0597f97bb"
      },
      "execution_count": 6,
      "outputs": [
        {
          "output_type": "stream",
          "name": "stdout",
          "text": [
            "--2025-07-15 10:06:07--  https://raw.githubusercontent.com/santiago2588/pump_failure_training/main/data/transformed_data.csv\n",
            "Resolving raw.githubusercontent.com (raw.githubusercontent.com)... 185.199.110.133, 185.199.108.133, 185.199.109.133, ...\n",
            "Connecting to raw.githubusercontent.com (raw.githubusercontent.com)|185.199.110.133|:443... connected.\n",
            "HTTP request sent, awaiting response... 200 OK\n",
            "Length: 1210184 (1.2M) [text/plain]\n",
            "Saving to: ‘transformed_data.csv’\n",
            "\n",
            "transformed_data.cs 100%[===================>]   1.15M  --.-KB/s    in 0.05s   \n",
            "\n",
            "2025-07-15 10:06:07 (24.2 MB/s) - ‘transformed_data.csv’ saved [1210184/1210184]\n",
            "\n"
          ]
        }
      ]
    },
    {
      "cell_type": "code",
      "execution_count": 7,
      "metadata": {
        "colab": {
          "base_uri": "https://localhost:8080/",
          "height": 206
        },
        "id": "2Xo4rnj1iMPf",
        "outputId": "58ef1b55-d25c-4414-a76e-db0a3c99a0eb"
      },
      "outputs": [
        {
          "output_type": "execute_result",
          "data": {
            "text/plain": [
              "   Air_temperature  Process_temperature  Rotational_speed    Torque  \\\n",
              "0        -0.951417            -0.946356          0.067484  0.283054   \n",
              "1        -0.901428            -0.878954         -0.729604  0.634238   \n",
              "2        -0.951417            -1.013759         -0.227940  0.945286   \n",
              "3        -0.901428            -0.946356         -0.590253 -0.048061   \n",
              "4        -0.901428            -0.878954         -0.729604  0.002108   \n",
              "\n",
              "   Tool_wear  Type_High  Type_Low  Type_Medium Failure_type  \n",
              "0  -1.695647        0.0       0.0          1.0   No Failure  \n",
              "1  -1.648511        0.0       1.0          0.0   No Failure  \n",
              "2  -1.617087        0.0       1.0          0.0   No Failure  \n",
              "3  -1.585664        0.0       1.0          0.0   No Failure  \n",
              "4  -1.554240        0.0       1.0          0.0   No Failure  "
            ],
            "text/html": [
              "\n",
              "  <div id=\"df-911f6610-a996-4eb4-89ba-679472c4734f\" class=\"colab-df-container\">\n",
              "    <div>\n",
              "<style scoped>\n",
              "    .dataframe tbody tr th:only-of-type {\n",
              "        vertical-align: middle;\n",
              "    }\n",
              "\n",
              "    .dataframe tbody tr th {\n",
              "        vertical-align: top;\n",
              "    }\n",
              "\n",
              "    .dataframe thead th {\n",
              "        text-align: right;\n",
              "    }\n",
              "</style>\n",
              "<table border=\"1\" class=\"dataframe\">\n",
              "  <thead>\n",
              "    <tr style=\"text-align: right;\">\n",
              "      <th></th>\n",
              "      <th>Air_temperature</th>\n",
              "      <th>Process_temperature</th>\n",
              "      <th>Rotational_speed</th>\n",
              "      <th>Torque</th>\n",
              "      <th>Tool_wear</th>\n",
              "      <th>Type_High</th>\n",
              "      <th>Type_Low</th>\n",
              "      <th>Type_Medium</th>\n",
              "      <th>Failure_type</th>\n",
              "    </tr>\n",
              "  </thead>\n",
              "  <tbody>\n",
              "    <tr>\n",
              "      <th>0</th>\n",
              "      <td>-0.951417</td>\n",
              "      <td>-0.946356</td>\n",
              "      <td>0.067484</td>\n",
              "      <td>0.283054</td>\n",
              "      <td>-1.695647</td>\n",
              "      <td>0.0</td>\n",
              "      <td>0.0</td>\n",
              "      <td>1.0</td>\n",
              "      <td>No Failure</td>\n",
              "    </tr>\n",
              "    <tr>\n",
              "      <th>1</th>\n",
              "      <td>-0.901428</td>\n",
              "      <td>-0.878954</td>\n",
              "      <td>-0.729604</td>\n",
              "      <td>0.634238</td>\n",
              "      <td>-1.648511</td>\n",
              "      <td>0.0</td>\n",
              "      <td>1.0</td>\n",
              "      <td>0.0</td>\n",
              "      <td>No Failure</td>\n",
              "    </tr>\n",
              "    <tr>\n",
              "      <th>2</th>\n",
              "      <td>-0.951417</td>\n",
              "      <td>-1.013759</td>\n",
              "      <td>-0.227940</td>\n",
              "      <td>0.945286</td>\n",
              "      <td>-1.617087</td>\n",
              "      <td>0.0</td>\n",
              "      <td>1.0</td>\n",
              "      <td>0.0</td>\n",
              "      <td>No Failure</td>\n",
              "    </tr>\n",
              "    <tr>\n",
              "      <th>3</th>\n",
              "      <td>-0.901428</td>\n",
              "      <td>-0.946356</td>\n",
              "      <td>-0.590253</td>\n",
              "      <td>-0.048061</td>\n",
              "      <td>-1.585664</td>\n",
              "      <td>0.0</td>\n",
              "      <td>1.0</td>\n",
              "      <td>0.0</td>\n",
              "      <td>No Failure</td>\n",
              "    </tr>\n",
              "    <tr>\n",
              "      <th>4</th>\n",
              "      <td>-0.901428</td>\n",
              "      <td>-0.878954</td>\n",
              "      <td>-0.729604</td>\n",
              "      <td>0.002108</td>\n",
              "      <td>-1.554240</td>\n",
              "      <td>0.0</td>\n",
              "      <td>1.0</td>\n",
              "      <td>0.0</td>\n",
              "      <td>No Failure</td>\n",
              "    </tr>\n",
              "  </tbody>\n",
              "</table>\n",
              "</div>\n",
              "    <div class=\"colab-df-buttons\">\n",
              "\n",
              "  <div class=\"colab-df-container\">\n",
              "    <button class=\"colab-df-convert\" onclick=\"convertToInteractive('df-911f6610-a996-4eb4-89ba-679472c4734f')\"\n",
              "            title=\"Convert this dataframe to an interactive table.\"\n",
              "            style=\"display:none;\">\n",
              "\n",
              "  <svg xmlns=\"http://www.w3.org/2000/svg\" height=\"24px\" viewBox=\"0 -960 960 960\">\n",
              "    <path d=\"M120-120v-720h720v720H120Zm60-500h600v-160H180v160Zm220 220h160v-160H400v160Zm0 220h160v-160H400v160ZM180-400h160v-160H180v160Zm440 0h160v-160H620v160ZM180-180h160v-160H180v160Zm440 0h160v-160H620v160Z\"/>\n",
              "  </svg>\n",
              "    </button>\n",
              "\n",
              "  <style>\n",
              "    .colab-df-container {\n",
              "      display:flex;\n",
              "      gap: 12px;\n",
              "    }\n",
              "\n",
              "    .colab-df-convert {\n",
              "      background-color: #E8F0FE;\n",
              "      border: none;\n",
              "      border-radius: 50%;\n",
              "      cursor: pointer;\n",
              "      display: none;\n",
              "      fill: #1967D2;\n",
              "      height: 32px;\n",
              "      padding: 0 0 0 0;\n",
              "      width: 32px;\n",
              "    }\n",
              "\n",
              "    .colab-df-convert:hover {\n",
              "      background-color: #E2EBFA;\n",
              "      box-shadow: 0px 1px 2px rgba(60, 64, 67, 0.3), 0px 1px 3px 1px rgba(60, 64, 67, 0.15);\n",
              "      fill: #174EA6;\n",
              "    }\n",
              "\n",
              "    .colab-df-buttons div {\n",
              "      margin-bottom: 4px;\n",
              "    }\n",
              "\n",
              "    [theme=dark] .colab-df-convert {\n",
              "      background-color: #3B4455;\n",
              "      fill: #D2E3FC;\n",
              "    }\n",
              "\n",
              "    [theme=dark] .colab-df-convert:hover {\n",
              "      background-color: #434B5C;\n",
              "      box-shadow: 0px 1px 3px 1px rgba(0, 0, 0, 0.15);\n",
              "      filter: drop-shadow(0px 1px 2px rgba(0, 0, 0, 0.3));\n",
              "      fill: #FFFFFF;\n",
              "    }\n",
              "  </style>\n",
              "\n",
              "    <script>\n",
              "      const buttonEl =\n",
              "        document.querySelector('#df-911f6610-a996-4eb4-89ba-679472c4734f button.colab-df-convert');\n",
              "      buttonEl.style.display =\n",
              "        google.colab.kernel.accessAllowed ? 'block' : 'none';\n",
              "\n",
              "      async function convertToInteractive(key) {\n",
              "        const element = document.querySelector('#df-911f6610-a996-4eb4-89ba-679472c4734f');\n",
              "        const dataTable =\n",
              "          await google.colab.kernel.invokeFunction('convertToInteractive',\n",
              "                                                    [key], {});\n",
              "        if (!dataTable) return;\n",
              "\n",
              "        const docLinkHtml = 'Like what you see? Visit the ' +\n",
              "          '<a target=\"_blank\" href=https://colab.research.google.com/notebooks/data_table.ipynb>data table notebook</a>'\n",
              "          + ' to learn more about interactive tables.';\n",
              "        element.innerHTML = '';\n",
              "        dataTable['output_type'] = 'display_data';\n",
              "        await google.colab.output.renderOutput(dataTable, element);\n",
              "        const docLink = document.createElement('div');\n",
              "        docLink.innerHTML = docLinkHtml;\n",
              "        element.appendChild(docLink);\n",
              "      }\n",
              "    </script>\n",
              "  </div>\n",
              "\n",
              "\n",
              "    <div id=\"df-3bf8576e-0275-4dcb-ac73-4a7ae9322224\">\n",
              "      <button class=\"colab-df-quickchart\" onclick=\"quickchart('df-3bf8576e-0275-4dcb-ac73-4a7ae9322224')\"\n",
              "                title=\"Suggest charts\"\n",
              "                style=\"display:none;\">\n",
              "\n",
              "<svg xmlns=\"http://www.w3.org/2000/svg\" height=\"24px\"viewBox=\"0 0 24 24\"\n",
              "     width=\"24px\">\n",
              "    <g>\n",
              "        <path d=\"M19 3H5c-1.1 0-2 .9-2 2v14c0 1.1.9 2 2 2h14c1.1 0 2-.9 2-2V5c0-1.1-.9-2-2-2zM9 17H7v-7h2v7zm4 0h-2V7h2v10zm4 0h-2v-4h2v4z\"/>\n",
              "    </g>\n",
              "</svg>\n",
              "      </button>\n",
              "\n",
              "<style>\n",
              "  .colab-df-quickchart {\n",
              "      --bg-color: #E8F0FE;\n",
              "      --fill-color: #1967D2;\n",
              "      --hover-bg-color: #E2EBFA;\n",
              "      --hover-fill-color: #174EA6;\n",
              "      --disabled-fill-color: #AAA;\n",
              "      --disabled-bg-color: #DDD;\n",
              "  }\n",
              "\n",
              "  [theme=dark] .colab-df-quickchart {\n",
              "      --bg-color: #3B4455;\n",
              "      --fill-color: #D2E3FC;\n",
              "      --hover-bg-color: #434B5C;\n",
              "      --hover-fill-color: #FFFFFF;\n",
              "      --disabled-bg-color: #3B4455;\n",
              "      --disabled-fill-color: #666;\n",
              "  }\n",
              "\n",
              "  .colab-df-quickchart {\n",
              "    background-color: var(--bg-color);\n",
              "    border: none;\n",
              "    border-radius: 50%;\n",
              "    cursor: pointer;\n",
              "    display: none;\n",
              "    fill: var(--fill-color);\n",
              "    height: 32px;\n",
              "    padding: 0;\n",
              "    width: 32px;\n",
              "  }\n",
              "\n",
              "  .colab-df-quickchart:hover {\n",
              "    background-color: var(--hover-bg-color);\n",
              "    box-shadow: 0 1px 2px rgba(60, 64, 67, 0.3), 0 1px 3px 1px rgba(60, 64, 67, 0.15);\n",
              "    fill: var(--button-hover-fill-color);\n",
              "  }\n",
              "\n",
              "  .colab-df-quickchart-complete:disabled,\n",
              "  .colab-df-quickchart-complete:disabled:hover {\n",
              "    background-color: var(--disabled-bg-color);\n",
              "    fill: var(--disabled-fill-color);\n",
              "    box-shadow: none;\n",
              "  }\n",
              "\n",
              "  .colab-df-spinner {\n",
              "    border: 2px solid var(--fill-color);\n",
              "    border-color: transparent;\n",
              "    border-bottom-color: var(--fill-color);\n",
              "    animation:\n",
              "      spin 1s steps(1) infinite;\n",
              "  }\n",
              "\n",
              "  @keyframes spin {\n",
              "    0% {\n",
              "      border-color: transparent;\n",
              "      border-bottom-color: var(--fill-color);\n",
              "      border-left-color: var(--fill-color);\n",
              "    }\n",
              "    20% {\n",
              "      border-color: transparent;\n",
              "      border-left-color: var(--fill-color);\n",
              "      border-top-color: var(--fill-color);\n",
              "    }\n",
              "    30% {\n",
              "      border-color: transparent;\n",
              "      border-left-color: var(--fill-color);\n",
              "      border-top-color: var(--fill-color);\n",
              "      border-right-color: var(--fill-color);\n",
              "    }\n",
              "    40% {\n",
              "      border-color: transparent;\n",
              "      border-right-color: var(--fill-color);\n",
              "      border-top-color: var(--fill-color);\n",
              "    }\n",
              "    60% {\n",
              "      border-color: transparent;\n",
              "      border-right-color: var(--fill-color);\n",
              "    }\n",
              "    80% {\n",
              "      border-color: transparent;\n",
              "      border-right-color: var(--fill-color);\n",
              "      border-bottom-color: var(--fill-color);\n",
              "    }\n",
              "    90% {\n",
              "      border-color: transparent;\n",
              "      border-bottom-color: var(--fill-color);\n",
              "    }\n",
              "  }\n",
              "</style>\n",
              "\n",
              "      <script>\n",
              "        async function quickchart(key) {\n",
              "          const quickchartButtonEl =\n",
              "            document.querySelector('#' + key + ' button');\n",
              "          quickchartButtonEl.disabled = true;  // To prevent multiple clicks.\n",
              "          quickchartButtonEl.classList.add('colab-df-spinner');\n",
              "          try {\n",
              "            const charts = await google.colab.kernel.invokeFunction(\n",
              "                'suggestCharts', [key], {});\n",
              "          } catch (error) {\n",
              "            console.error('Error during call to suggestCharts:', error);\n",
              "          }\n",
              "          quickchartButtonEl.classList.remove('colab-df-spinner');\n",
              "          quickchartButtonEl.classList.add('colab-df-quickchart-complete');\n",
              "        }\n",
              "        (() => {\n",
              "          let quickchartButtonEl =\n",
              "            document.querySelector('#df-3bf8576e-0275-4dcb-ac73-4a7ae9322224 button');\n",
              "          quickchartButtonEl.style.display =\n",
              "            google.colab.kernel.accessAllowed ? 'block' : 'none';\n",
              "        })();\n",
              "      </script>\n",
              "    </div>\n",
              "\n",
              "    </div>\n",
              "  </div>\n"
            ],
            "application/vnd.google.colaboratory.intrinsic+json": {
              "type": "dataframe",
              "variable_name": "df",
              "summary": "{\n  \"name\": \"df\",\n  \"rows\": 9973,\n  \"fields\": [\n    {\n      \"column\": \"Air_temperature\",\n      \"properties\": {\n        \"dtype\": \"number\",\n        \"std\": 1.0000501391361267,\n        \"min\": -2.351103622131081,\n        \"max\": 2.247867909974313,\n        \"num_unique_values\": 93,\n        \"samples\": [\n          -0.3515507820852547,\n          -1.5512824861127674,\n          0.3982815329319301\n        ],\n        \"semantic_type\": \"\",\n        \"description\": \"\"\n      }\n    },\n    {\n      \"column\": \"Process_temperature\",\n      \"properties\": {\n        \"dtype\": \"number\",\n        \"std\": 1.0000501391361416,\n        \"min\": -2.9010381356312425,\n        \"max\": 2.558590183794683,\n        \"num_unique_values\": 82,\n        \"samples\": [\n          -1.8899958542560735,\n          -0.9463563916392268,\n          0.0646858897359416\n        ],\n        \"semantic_type\": \"\",\n        \"description\": \"\"\n      }\n    },\n    {\n      \"column\": \"Rotational_speed\",\n      \"properties\": {\n        \"dtype\": \"number\",\n        \"std\": 1.0000501391361356,\n        \"min\": -2.0673726128961065,\n        \"max\": 7.508823545962598,\n        \"num_unique_values\": 941,\n        \"samples\": [\n          -1.4765246543169317,\n          0.2068346238992086,\n          2.6259668316667746\n        ],\n        \"semantic_type\": \"\",\n        \"description\": \"\"\n      }\n    },\n    {\n      \"column\": \"Torque\",\n      \"properties\": {\n        \"dtype\": \"number\",\n        \"std\": 1.0000501391361356,\n        \"min\": -3.630130998126055,\n        \"max\": 3.6744817810270622,\n        \"num_unique_values\": 577,\n        \"samples\": [\n          -0.389210767814987,\n          2.6008642434317566,\n          -2.747155827019633\n        ],\n        \"semantic_type\": \"\",\n        \"description\": \"\"\n      }\n    },\n    {\n      \"column\": \"Tool_wear\",\n      \"properties\": {\n        \"dtype\": \"number\",\n        \"std\": 1.0000501391361263,\n        \"min\": -1.6956470811542024,\n        \"max\": 2.279467733909639,\n        \"num_unique_values\": 246,\n        \"samples\": [\n          -0.2344388685022764,\n          -1.4756802534431597,\n          1.6824149158368091\n        ],\n        \"semantic_type\": \"\",\n        \"description\": \"\"\n      }\n    },\n    {\n      \"column\": \"Type_High\",\n      \"properties\": {\n        \"dtype\": \"number\",\n        \"std\": 0.3001086096465003,\n        \"min\": 0.0,\n        \"max\": 1.0,\n        \"num_unique_values\": 2,\n        \"samples\": [\n          1.0,\n          0.0\n        ],\n        \"semantic_type\": \"\",\n        \"description\": \"\"\n      }\n    },\n    {\n      \"column\": \"Type_Low\",\n      \"properties\": {\n        \"dtype\": \"number\",\n        \"std\": 0.4899184174482703,\n        \"min\": 0.0,\n        \"max\": 1.0,\n        \"num_unique_values\": 2,\n        \"samples\": [\n          1.0,\n          0.0\n        ],\n        \"semantic_type\": \"\",\n        \"description\": \"\"\n      }\n    },\n    {\n      \"column\": \"Type_Medium\",\n      \"properties\": {\n        \"dtype\": \"number\",\n        \"std\": 0.458241148018549,\n        \"min\": 0.0,\n        \"max\": 1.0,\n        \"num_unique_values\": 2,\n        \"samples\": [\n          0.0,\n          1.0\n        ],\n        \"semantic_type\": \"\",\n        \"description\": \"\"\n      }\n    },\n    {\n      \"column\": \"Failure_type\",\n      \"properties\": {\n        \"dtype\": \"category\",\n        \"num_unique_values\": 5,\n        \"samples\": [\n          \"Power Failure\",\n          \"Heat Dissipation Failure\"\n        ],\n        \"semantic_type\": \"\",\n        \"description\": \"\"\n      }\n    }\n  ]\n}"
            }
          },
          "metadata": {},
          "execution_count": 7
        }
      ],
      "source": [
        "# Read the CSV file into a DataFrame\n",
        "df = pd.read_csv(\"transformed_data.csv\")\n",
        "\n",
        "# Display the first few rows to confirm it loaded correctly\n",
        "df.head()"
      ]
    },
    {
      "cell_type": "code",
      "execution_count": 8,
      "metadata": {
        "id": "pUJoBFDliMPg"
      },
      "outputs": [],
      "source": [
        "# Define features (X) and target variable (y)\n",
        "X = df.drop('Failure_type', axis=1)  # Features (all columns except 'Failure_type')\n",
        "y = df['Failure_type']  # Target variable"
      ]
    },
    {
      "cell_type": "code",
      "execution_count": 9,
      "metadata": {
        "colab": {
          "base_uri": "https://localhost:8080/"
        },
        "id": "OaHTs04hiMPg",
        "outputId": "d0a82b20-78dd-4faf-f462-a4dd6c003067"
      },
      "outputs": [
        {
          "output_type": "stream",
          "name": "stdout",
          "text": [
            "Training data shape: (7978, 8)\n",
            "Testing data shape: (1995, 8)\n"
          ]
        }
      ],
      "source": [
        "# Split the data into training and testing sets\n",
        "X_train, X_test, y_train, y_test = train_test_split(X, y, test_size=0.2, random_state=42)\n",
        "# Check the shape of the data\n",
        "print(f\"Training data shape: {X_train.shape}\")\n",
        "print(f\"Testing data shape: {X_test.shape}\")"
      ]
    },
    {
      "cell_type": "code",
      "execution_count": 10,
      "metadata": {
        "colab": {
          "base_uri": "https://localhost:8080/"
        },
        "id": "A7XCtMv9iMPg",
        "outputId": "f2a6d26c-33ef-4140-90c3-fc53bcf146fd"
      },
      "outputs": [
        {
          "output_type": "execute_result",
          "data": {
            "text/plain": [
              "{'Accuracy': 0.48521303258145365,\n",
              " 'Balanced Accuracy': np.float64(0.6057105641394178),\n",
              " 'Macro Recall': 0.48521303258145365,\n",
              " 'Macro Precision': 0.957444554009486,\n",
              " 'Macro F1': 0.6322638089216059,\n",
              " 'F1 Scores per Class': array([0.08947368, 0.64911673, 0.26415094, 0.01219512, 0.04494382])}"
            ]
          },
          "metadata": {},
          "execution_count": 10
        }
      ],
      "source": [
        "# Define the pipeline for Logistic regression, PCA and class weight\n",
        "log_reg_pca_class = Pipeline(steps=[\n",
        "    ('pca', PCA(n_components=4)),  # PCA step\n",
        "    ('model', LogisticRegression(random_state=2023))  # Logistic Regression step\n",
        "])\n",
        "\n",
        "# Fit the pipeline with balanced class weights\n",
        "weights = class_weight.compute_sample_weight(class_weight='balanced', y=y_train)\n",
        "log_reg_pca_class.fit(X_train, y_train, model__sample_weight=weights)\n",
        "\n",
        "# Generate predictions\n",
        "y_pred = log_reg_pca_class.predict(X_test)\n",
        "\n",
        "# Evaluate metrics\n",
        "metrics = get_metrics(y_test, y_pred)\n",
        "\n",
        "# View results\n",
        "metrics"
      ]
    },
    {
      "cell_type": "code",
      "execution_count": 11,
      "metadata": {
        "colab": {
          "base_uri": "https://localhost:8080/"
        },
        "id": "HCipdehBiMPh",
        "outputId": "6198bf66-a4ab-4f01-8663-253080a71033"
      },
      "outputs": [
        {
          "output_type": "execute_result",
          "data": {
            "text/plain": [
              "{'Accuracy': 0.8390977443609022,\n",
              " 'Balanced Accuracy': np.float64(0.9097574559827525),\n",
              " 'Macro Recall': 0.8390977443609022,\n",
              " 'Macro Precision': 0.9788410370895997,\n",
              " 'Macro F1': 0.8960718171509856,\n",
              " 'F1 Scores per Class': array([0.36521739, 0.91052335, 0.27118644, 0.61333333, 0.04278075])}"
            ]
          },
          "metadata": {},
          "execution_count": 11
        }
      ],
      "source": [
        "# Define the pipeline for Logistic regression and class weight\n",
        "\n",
        "log_reg_class = Pipeline(steps=[\n",
        "    ('model', LogisticRegression(random_state=2023))  # Logistic Regression step\n",
        "])\n",
        "\n",
        "# Fit the pipeline with balanced class weights\n",
        "weights = class_weight.compute_sample_weight(class_weight='balanced', y=y_train)\n",
        "log_reg_class.fit(X_train, y_train, model__sample_weight=weights)\n",
        "\n",
        "# Generate predictions\n",
        "y_pred = log_reg_class.predict(X_test)\n",
        "\n",
        "# Evaluate metrics\n",
        "metrics = get_metrics(y_test, y_pred)\n",
        "\n",
        "# View results\n",
        "metrics"
      ]
    },
    {
      "cell_type": "code",
      "execution_count": 14,
      "metadata": {
        "colab": {
          "base_uri": "https://localhost:8080/"
        },
        "id": "vnwRu09QiMPh",
        "outputId": "4cba1060-221a-474b-973f-6f5340425a56"
      },
      "outputs": [
        {
          "output_type": "execute_result",
          "data": {
            "text/plain": [
              "{'Accuracy': 0.8756892230576441,\n",
              " 'Balanced Accuracy': np.float64(0.9172987782968021),\n",
              " 'Macro Recall': 0.8756892230576441,\n",
              " 'Macro Precision': 0.9809086543341904,\n",
              " 'Macro F1': 0.9198262534962885,\n",
              " 'F1 Scores per Class': array([0.46153846, 0.93219405, 0.33333333, 0.73015873, 0.05      ])}"
            ]
          },
          "metadata": {},
          "execution_count": 14
        }
      ],
      "source": [
        "# Define the pipeline for Logistic regression and SMOTE\n",
        "log_reg_pca_smote = Pipeline(steps=[\n",
        "    ('smote', SMOTE(random_state=2023)),  # SMOTE step to balance the dataset\n",
        "    ('model', LogisticRegression(random_state=2023, max_iter=500))  # Logistic Regression step\n",
        "])\n",
        "\n",
        "# Fit the pipeline\n",
        "log_reg_pca_smote.fit(X_train, y_train)\n",
        "\n",
        "# Generate predictions\n",
        "y_pred = log_reg_pca_smote.predict(X_test)\n",
        "\n",
        "# Evaluate metrics\n",
        "metrics = get_metrics(y_test, y_pred)\n",
        "\n",
        "# View results\n",
        "metrics"
      ]
    },
    {
      "cell_type": "code",
      "execution_count": 15,
      "metadata": {
        "colab": {
          "base_uri": "https://localhost:8080/"
        },
        "id": "iI1qesx4iMPi",
        "outputId": "b5a99bb8-8366-446b-fafd-85676aeee7b8"
      },
      "outputs": [
        {
          "output_type": "execute_result",
          "data": {
            "text/plain": [
              "{'Accuracy': 0.9413533834586466,\n",
              " 'Balanced Accuracy': np.float64(0.7496909809558031),\n",
              " 'Macro Recall': 0.9413533834586466,\n",
              " 'Macro Precision': 0.9777431525061278,\n",
              " 'Macro F1': 0.9569057325560987,\n",
              " 'F1 Scores per Class': array([0.50666667, 0.9698253 , 0.36363636, 0.71698113, 0.07843137])}"
            ]
          },
          "metadata": {},
          "execution_count": 15
        }
      ],
      "source": [
        "# Define the pipeline for KNeighborsClassifier model\n",
        "\n",
        "knn_model_smote = Pipeline(steps=[\n",
        "    ('smote', SMOTE(random_state=2023)),\n",
        "    ('model', KNeighborsClassifier(n_neighbors=3))  # KNeighborsClassifier step\n",
        "])\n",
        "\n",
        "# Fit the pipeline without sample weights\n",
        "knn_model_smote.fit(X_train, y_train)\n",
        "\n",
        "# Generate predictions\n",
        "y_pred = knn_model_smote.predict(X_test)\n",
        "\n",
        "# Evaluate metrics\n",
        "metrics = get_metrics(y_test, y_pred)\n",
        "\n",
        "# View results\n",
        "metrics"
      ]
    }
  ],
  "metadata": {
    "kernelspec": {
      "display_name": "My env pump failure)",
      "language": "python",
      "name": "my-env-with-poetry"
    },
    "language_info": {
      "codemirror_mode": {
        "name": "ipython",
        "version": 3
      },
      "file_extension": ".py",
      "mimetype": "text/x-python",
      "name": "python",
      "nbconvert_exporter": "python",
      "pygments_lexer": "ipython3",
      "version": "3.10.14"
    },
    "colab": {
      "provenance": [],
      "include_colab_link": true
    }
  },
  "nbformat": 4,
  "nbformat_minor": 0
}