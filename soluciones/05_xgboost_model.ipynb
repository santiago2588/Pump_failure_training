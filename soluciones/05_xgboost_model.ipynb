{
  "cells": [
    {
      "cell_type": "markdown",
      "metadata": {
        "id": "view-in-github",
        "colab_type": "text"
      },
      "source": [
        "<a href=\"https://colab.research.google.com/github/santiago2588/Pump_failure_training/blob/main/soluciones/05_xgboost_model.ipynb\" target=\"_parent\"><img src=\"https://colab.research.google.com/assets/colab-badge.svg\" alt=\"Open In Colab\"/></a>"
      ]
    },
    {
      "cell_type": "code",
      "execution_count": 1,
      "metadata": {
        "id": "bvwu8s94n0mj"
      },
      "outputs": [],
      "source": [
        "# Data wrangling\n",
        "import pandas as pd\n",
        "import numpy as np"
      ]
    },
    {
      "cell_type": "code",
      "execution_count": 2,
      "metadata": {
        "id": "mDbyOnLWn0mj"
      },
      "outputs": [],
      "source": [
        "from imblearn.over_sampling import SMOTE\n",
        "from xgboost import XGBClassifier\n",
        "from sklearn.utils import class_weight\n",
        "from sklearn.preprocessing import LabelEncoder\n",
        "from sklearn.utils.class_weight import compute_sample_weight"
      ]
    },
    {
      "cell_type": "code",
      "execution_count": 3,
      "metadata": {
        "colab": {
          "base_uri": "https://localhost:8080/"
        },
        "id": "FtMn56OHn0mj",
        "outputId": "c2a123b2-4457-4606-f5f7-128716003d78"
      },
      "outputs": [
        {
          "output_type": "stream",
          "name": "stdout",
          "text": [
            "--2025-07-15 10:30:30--  https://raw.githubusercontent.com/santiago2588/pump_failure_training/main/utils.py\n",
            "Resolving raw.githubusercontent.com (raw.githubusercontent.com)... 185.199.108.133, 185.199.109.133, 185.199.110.133, ...\n",
            "Connecting to raw.githubusercontent.com (raw.githubusercontent.com)|185.199.108.133|:443... connected.\n",
            "HTTP request sent, awaiting response... 200 OK\n",
            "Length: 2407 (2.4K) [text/plain]\n",
            "Saving to: ‘utils.py’\n",
            "\n",
            "\rutils.py              0%[                    ]       0  --.-KB/s               \rutils.py            100%[===================>]   2.35K  --.-KB/s    in 0s      \n",
            "\n",
            "2025-07-15 10:30:30 (29.9 MB/s) - ‘utils.py’ saved [2407/2407]\n",
            "\n"
          ]
        }
      ],
      "source": [
        "# Download and run the utils.py file from your GitHub repository\n",
        "!wget https://raw.githubusercontent.com/santiago2588/pump_failure_training/main/utils.py\n",
        "%run utils.py"
      ]
    },
    {
      "cell_type": "code",
      "execution_count": 4,
      "metadata": {
        "id": "R8B8PgANn0mj"
      },
      "outputs": [],
      "source": [
        "from sklearn.model_selection import train_test_split\n",
        "from imblearn.pipeline import Pipeline"
      ]
    },
    {
      "cell_type": "code",
      "execution_count": 5,
      "metadata": {
        "id": "bCgLWKEpn0mj"
      },
      "outputs": [],
      "source": [
        "from sklearn.utils.class_weight import compute_sample_weight\n",
        "from sklearn.metrics import f1_score"
      ]
    },
    {
      "cell_type": "code",
      "source": [
        "%pip install optuna -q\n",
        "import optuna"
      ],
      "metadata": {
        "colab": {
          "base_uri": "https://localhost:8080/"
        },
        "id": "N1zSJWwUn70X",
        "outputId": "5c5f642c-a547-4e5f-fcc3-56c52c6710c9"
      },
      "execution_count": 6,
      "outputs": [
        {
          "output_type": "stream",
          "name": "stdout",
          "text": [
            "\u001b[?25l   \u001b[90m━━━━━━━━━━━━━━━━━━━━━━━━━━━━━━━━━━━━━━━━\u001b[0m \u001b[32m0.0/395.9 kB\u001b[0m \u001b[31m?\u001b[0m eta \u001b[36m-:--:--\u001b[0m\r\u001b[2K   \u001b[91m━━━━━━━━━━━━━━━━━━━━━━━━━━━━━━━━━━━━━━━\u001b[0m\u001b[90m╺\u001b[0m \u001b[32m389.1/395.9 kB\u001b[0m \u001b[31m15.6 MB/s\u001b[0m eta \u001b[36m0:00:01\u001b[0m\r\u001b[2K   \u001b[90m━━━━━━━━━━━━━━━━━━━━━━━━━━━━━━━━━━━━━━━━\u001b[0m \u001b[32m395.9/395.9 kB\u001b[0m \u001b[31m8.6 MB/s\u001b[0m eta \u001b[36m0:00:00\u001b[0m\n",
            "\u001b[?25h\u001b[?25l   \u001b[90m━━━━━━━━━━━━━━━━━━━━━━━━━━━━━━━━━━━━━━━━\u001b[0m \u001b[32m0.0/247.0 kB\u001b[0m \u001b[31m?\u001b[0m eta \u001b[36m-:--:--\u001b[0m\r\u001b[2K   \u001b[90m━━━━━━━━━━━━━━━━━━━━━━━━━━━━━━━━━━━━━━━━\u001b[0m \u001b[32m247.0/247.0 kB\u001b[0m \u001b[31m13.5 MB/s\u001b[0m eta \u001b[36m0:00:00\u001b[0m\n",
            "\u001b[?25h"
          ]
        }
      ]
    },
    {
      "cell_type": "code",
      "execution_count": 7,
      "metadata": {
        "colab": {
          "base_uri": "https://localhost:8080/",
          "height": 397
        },
        "id": "uZbPoR1pn0mk",
        "outputId": "9d598eba-3b1d-4e22-8672-a8ba96ce895f"
      },
      "outputs": [
        {
          "output_type": "stream",
          "name": "stdout",
          "text": [
            "--2025-07-15 10:30:46--  https://raw.githubusercontent.com/santiago2588/pump_failure_training/main/data/transformed_data.csv\n",
            "Resolving raw.githubusercontent.com (raw.githubusercontent.com)... 185.199.108.133, 185.199.109.133, 185.199.110.133, ...\n",
            "Connecting to raw.githubusercontent.com (raw.githubusercontent.com)|185.199.108.133|:443... connected.\n",
            "HTTP request sent, awaiting response... 200 OK\n",
            "Length: 1210184 (1.2M) [text/plain]\n",
            "Saving to: ‘transformed_data.csv’\n",
            "\n",
            "\rtransformed_data.cs   0%[                    ]       0  --.-KB/s               \rtransformed_data.cs 100%[===================>]   1.15M  --.-KB/s    in 0.06s   \n",
            "\n",
            "2025-07-15 10:30:47 (19.1 MB/s) - ‘transformed_data.csv’ saved [1210184/1210184]\n",
            "\n"
          ]
        },
        {
          "output_type": "execute_result",
          "data": {
            "text/plain": [
              "   Air_temperature  Process_temperature  Rotational_speed    Torque  \\\n",
              "0        -0.951417            -0.946356          0.067484  0.283054   \n",
              "1        -0.901428            -0.878954         -0.729604  0.634238   \n",
              "2        -0.951417            -1.013759         -0.227940  0.945286   \n",
              "3        -0.901428            -0.946356         -0.590253 -0.048061   \n",
              "4        -0.901428            -0.878954         -0.729604  0.002108   \n",
              "\n",
              "   Tool_wear  Type_High  Type_Low  Type_Medium Failure_type  \n",
              "0  -1.695647        0.0       0.0          1.0   No Failure  \n",
              "1  -1.648511        0.0       1.0          0.0   No Failure  \n",
              "2  -1.617087        0.0       1.0          0.0   No Failure  \n",
              "3  -1.585664        0.0       1.0          0.0   No Failure  \n",
              "4  -1.554240        0.0       1.0          0.0   No Failure  "
            ],
            "text/html": [
              "\n",
              "  <div id=\"df-7989f657-1273-4f37-b8d2-571386acd7f0\" class=\"colab-df-container\">\n",
              "    <div>\n",
              "<style scoped>\n",
              "    .dataframe tbody tr th:only-of-type {\n",
              "        vertical-align: middle;\n",
              "    }\n",
              "\n",
              "    .dataframe tbody tr th {\n",
              "        vertical-align: top;\n",
              "    }\n",
              "\n",
              "    .dataframe thead th {\n",
              "        text-align: right;\n",
              "    }\n",
              "</style>\n",
              "<table border=\"1\" class=\"dataframe\">\n",
              "  <thead>\n",
              "    <tr style=\"text-align: right;\">\n",
              "      <th></th>\n",
              "      <th>Air_temperature</th>\n",
              "      <th>Process_temperature</th>\n",
              "      <th>Rotational_speed</th>\n",
              "      <th>Torque</th>\n",
              "      <th>Tool_wear</th>\n",
              "      <th>Type_High</th>\n",
              "      <th>Type_Low</th>\n",
              "      <th>Type_Medium</th>\n",
              "      <th>Failure_type</th>\n",
              "    </tr>\n",
              "  </thead>\n",
              "  <tbody>\n",
              "    <tr>\n",
              "      <th>0</th>\n",
              "      <td>-0.951417</td>\n",
              "      <td>-0.946356</td>\n",
              "      <td>0.067484</td>\n",
              "      <td>0.283054</td>\n",
              "      <td>-1.695647</td>\n",
              "      <td>0.0</td>\n",
              "      <td>0.0</td>\n",
              "      <td>1.0</td>\n",
              "      <td>No Failure</td>\n",
              "    </tr>\n",
              "    <tr>\n",
              "      <th>1</th>\n",
              "      <td>-0.901428</td>\n",
              "      <td>-0.878954</td>\n",
              "      <td>-0.729604</td>\n",
              "      <td>0.634238</td>\n",
              "      <td>-1.648511</td>\n",
              "      <td>0.0</td>\n",
              "      <td>1.0</td>\n",
              "      <td>0.0</td>\n",
              "      <td>No Failure</td>\n",
              "    </tr>\n",
              "    <tr>\n",
              "      <th>2</th>\n",
              "      <td>-0.951417</td>\n",
              "      <td>-1.013759</td>\n",
              "      <td>-0.227940</td>\n",
              "      <td>0.945286</td>\n",
              "      <td>-1.617087</td>\n",
              "      <td>0.0</td>\n",
              "      <td>1.0</td>\n",
              "      <td>0.0</td>\n",
              "      <td>No Failure</td>\n",
              "    </tr>\n",
              "    <tr>\n",
              "      <th>3</th>\n",
              "      <td>-0.901428</td>\n",
              "      <td>-0.946356</td>\n",
              "      <td>-0.590253</td>\n",
              "      <td>-0.048061</td>\n",
              "      <td>-1.585664</td>\n",
              "      <td>0.0</td>\n",
              "      <td>1.0</td>\n",
              "      <td>0.0</td>\n",
              "      <td>No Failure</td>\n",
              "    </tr>\n",
              "    <tr>\n",
              "      <th>4</th>\n",
              "      <td>-0.901428</td>\n",
              "      <td>-0.878954</td>\n",
              "      <td>-0.729604</td>\n",
              "      <td>0.002108</td>\n",
              "      <td>-1.554240</td>\n",
              "      <td>0.0</td>\n",
              "      <td>1.0</td>\n",
              "      <td>0.0</td>\n",
              "      <td>No Failure</td>\n",
              "    </tr>\n",
              "  </tbody>\n",
              "</table>\n",
              "</div>\n",
              "    <div class=\"colab-df-buttons\">\n",
              "\n",
              "  <div class=\"colab-df-container\">\n",
              "    <button class=\"colab-df-convert\" onclick=\"convertToInteractive('df-7989f657-1273-4f37-b8d2-571386acd7f0')\"\n",
              "            title=\"Convert this dataframe to an interactive table.\"\n",
              "            style=\"display:none;\">\n",
              "\n",
              "  <svg xmlns=\"http://www.w3.org/2000/svg\" height=\"24px\" viewBox=\"0 -960 960 960\">\n",
              "    <path d=\"M120-120v-720h720v720H120Zm60-500h600v-160H180v160Zm220 220h160v-160H400v160Zm0 220h160v-160H400v160ZM180-400h160v-160H180v160Zm440 0h160v-160H620v160ZM180-180h160v-160H180v160Zm440 0h160v-160H620v160Z\"/>\n",
              "  </svg>\n",
              "    </button>\n",
              "\n",
              "  <style>\n",
              "    .colab-df-container {\n",
              "      display:flex;\n",
              "      gap: 12px;\n",
              "    }\n",
              "\n",
              "    .colab-df-convert {\n",
              "      background-color: #E8F0FE;\n",
              "      border: none;\n",
              "      border-radius: 50%;\n",
              "      cursor: pointer;\n",
              "      display: none;\n",
              "      fill: #1967D2;\n",
              "      height: 32px;\n",
              "      padding: 0 0 0 0;\n",
              "      width: 32px;\n",
              "    }\n",
              "\n",
              "    .colab-df-convert:hover {\n",
              "      background-color: #E2EBFA;\n",
              "      box-shadow: 0px 1px 2px rgba(60, 64, 67, 0.3), 0px 1px 3px 1px rgba(60, 64, 67, 0.15);\n",
              "      fill: #174EA6;\n",
              "    }\n",
              "\n",
              "    .colab-df-buttons div {\n",
              "      margin-bottom: 4px;\n",
              "    }\n",
              "\n",
              "    [theme=dark] .colab-df-convert {\n",
              "      background-color: #3B4455;\n",
              "      fill: #D2E3FC;\n",
              "    }\n",
              "\n",
              "    [theme=dark] .colab-df-convert:hover {\n",
              "      background-color: #434B5C;\n",
              "      box-shadow: 0px 1px 3px 1px rgba(0, 0, 0, 0.15);\n",
              "      filter: drop-shadow(0px 1px 2px rgba(0, 0, 0, 0.3));\n",
              "      fill: #FFFFFF;\n",
              "    }\n",
              "  </style>\n",
              "\n",
              "    <script>\n",
              "      const buttonEl =\n",
              "        document.querySelector('#df-7989f657-1273-4f37-b8d2-571386acd7f0 button.colab-df-convert');\n",
              "      buttonEl.style.display =\n",
              "        google.colab.kernel.accessAllowed ? 'block' : 'none';\n",
              "\n",
              "      async function convertToInteractive(key) {\n",
              "        const element = document.querySelector('#df-7989f657-1273-4f37-b8d2-571386acd7f0');\n",
              "        const dataTable =\n",
              "          await google.colab.kernel.invokeFunction('convertToInteractive',\n",
              "                                                    [key], {});\n",
              "        if (!dataTable) return;\n",
              "\n",
              "        const docLinkHtml = 'Like what you see? Visit the ' +\n",
              "          '<a target=\"_blank\" href=https://colab.research.google.com/notebooks/data_table.ipynb>data table notebook</a>'\n",
              "          + ' to learn more about interactive tables.';\n",
              "        element.innerHTML = '';\n",
              "        dataTable['output_type'] = 'display_data';\n",
              "        await google.colab.output.renderOutput(dataTable, element);\n",
              "        const docLink = document.createElement('div');\n",
              "        docLink.innerHTML = docLinkHtml;\n",
              "        element.appendChild(docLink);\n",
              "      }\n",
              "    </script>\n",
              "  </div>\n",
              "\n",
              "\n",
              "    <div id=\"df-f6aceee6-a260-4bb8-a862-82cca28dd445\">\n",
              "      <button class=\"colab-df-quickchart\" onclick=\"quickchart('df-f6aceee6-a260-4bb8-a862-82cca28dd445')\"\n",
              "                title=\"Suggest charts\"\n",
              "                style=\"display:none;\">\n",
              "\n",
              "<svg xmlns=\"http://www.w3.org/2000/svg\" height=\"24px\"viewBox=\"0 0 24 24\"\n",
              "     width=\"24px\">\n",
              "    <g>\n",
              "        <path d=\"M19 3H5c-1.1 0-2 .9-2 2v14c0 1.1.9 2 2 2h14c1.1 0 2-.9 2-2V5c0-1.1-.9-2-2-2zM9 17H7v-7h2v7zm4 0h-2V7h2v10zm4 0h-2v-4h2v4z\"/>\n",
              "    </g>\n",
              "</svg>\n",
              "      </button>\n",
              "\n",
              "<style>\n",
              "  .colab-df-quickchart {\n",
              "      --bg-color: #E8F0FE;\n",
              "      --fill-color: #1967D2;\n",
              "      --hover-bg-color: #E2EBFA;\n",
              "      --hover-fill-color: #174EA6;\n",
              "      --disabled-fill-color: #AAA;\n",
              "      --disabled-bg-color: #DDD;\n",
              "  }\n",
              "\n",
              "  [theme=dark] .colab-df-quickchart {\n",
              "      --bg-color: #3B4455;\n",
              "      --fill-color: #D2E3FC;\n",
              "      --hover-bg-color: #434B5C;\n",
              "      --hover-fill-color: #FFFFFF;\n",
              "      --disabled-bg-color: #3B4455;\n",
              "      --disabled-fill-color: #666;\n",
              "  }\n",
              "\n",
              "  .colab-df-quickchart {\n",
              "    background-color: var(--bg-color);\n",
              "    border: none;\n",
              "    border-radius: 50%;\n",
              "    cursor: pointer;\n",
              "    display: none;\n",
              "    fill: var(--fill-color);\n",
              "    height: 32px;\n",
              "    padding: 0;\n",
              "    width: 32px;\n",
              "  }\n",
              "\n",
              "  .colab-df-quickchart:hover {\n",
              "    background-color: var(--hover-bg-color);\n",
              "    box-shadow: 0 1px 2px rgba(60, 64, 67, 0.3), 0 1px 3px 1px rgba(60, 64, 67, 0.15);\n",
              "    fill: var(--button-hover-fill-color);\n",
              "  }\n",
              "\n",
              "  .colab-df-quickchart-complete:disabled,\n",
              "  .colab-df-quickchart-complete:disabled:hover {\n",
              "    background-color: var(--disabled-bg-color);\n",
              "    fill: var(--disabled-fill-color);\n",
              "    box-shadow: none;\n",
              "  }\n",
              "\n",
              "  .colab-df-spinner {\n",
              "    border: 2px solid var(--fill-color);\n",
              "    border-color: transparent;\n",
              "    border-bottom-color: var(--fill-color);\n",
              "    animation:\n",
              "      spin 1s steps(1) infinite;\n",
              "  }\n",
              "\n",
              "  @keyframes spin {\n",
              "    0% {\n",
              "      border-color: transparent;\n",
              "      border-bottom-color: var(--fill-color);\n",
              "      border-left-color: var(--fill-color);\n",
              "    }\n",
              "    20% {\n",
              "      border-color: transparent;\n",
              "      border-left-color: var(--fill-color);\n",
              "      border-top-color: var(--fill-color);\n",
              "    }\n",
              "    30% {\n",
              "      border-color: transparent;\n",
              "      border-left-color: var(--fill-color);\n",
              "      border-top-color: var(--fill-color);\n",
              "      border-right-color: var(--fill-color);\n",
              "    }\n",
              "    40% {\n",
              "      border-color: transparent;\n",
              "      border-right-color: var(--fill-color);\n",
              "      border-top-color: var(--fill-color);\n",
              "    }\n",
              "    60% {\n",
              "      border-color: transparent;\n",
              "      border-right-color: var(--fill-color);\n",
              "    }\n",
              "    80% {\n",
              "      border-color: transparent;\n",
              "      border-right-color: var(--fill-color);\n",
              "      border-bottom-color: var(--fill-color);\n",
              "    }\n",
              "    90% {\n",
              "      border-color: transparent;\n",
              "      border-bottom-color: var(--fill-color);\n",
              "    }\n",
              "  }\n",
              "</style>\n",
              "\n",
              "      <script>\n",
              "        async function quickchart(key) {\n",
              "          const quickchartButtonEl =\n",
              "            document.querySelector('#' + key + ' button');\n",
              "          quickchartButtonEl.disabled = true;  // To prevent multiple clicks.\n",
              "          quickchartButtonEl.classList.add('colab-df-spinner');\n",
              "          try {\n",
              "            const charts = await google.colab.kernel.invokeFunction(\n",
              "                'suggestCharts', [key], {});\n",
              "          } catch (error) {\n",
              "            console.error('Error during call to suggestCharts:', error);\n",
              "          }\n",
              "          quickchartButtonEl.classList.remove('colab-df-spinner');\n",
              "          quickchartButtonEl.classList.add('colab-df-quickchart-complete');\n",
              "        }\n",
              "        (() => {\n",
              "          let quickchartButtonEl =\n",
              "            document.querySelector('#df-f6aceee6-a260-4bb8-a862-82cca28dd445 button');\n",
              "          quickchartButtonEl.style.display =\n",
              "            google.colab.kernel.accessAllowed ? 'block' : 'none';\n",
              "        })();\n",
              "      </script>\n",
              "    </div>\n",
              "\n",
              "    </div>\n",
              "  </div>\n"
            ],
            "application/vnd.google.colaboratory.intrinsic+json": {
              "type": "dataframe",
              "variable_name": "df",
              "summary": "{\n  \"name\": \"df\",\n  \"rows\": 9973,\n  \"fields\": [\n    {\n      \"column\": \"Air_temperature\",\n      \"properties\": {\n        \"dtype\": \"number\",\n        \"std\": 1.0000501391361267,\n        \"min\": -2.351103622131081,\n        \"max\": 2.247867909974313,\n        \"num_unique_values\": 93,\n        \"samples\": [\n          -0.3515507820852547,\n          -1.5512824861127674,\n          0.3982815329319301\n        ],\n        \"semantic_type\": \"\",\n        \"description\": \"\"\n      }\n    },\n    {\n      \"column\": \"Process_temperature\",\n      \"properties\": {\n        \"dtype\": \"number\",\n        \"std\": 1.0000501391361416,\n        \"min\": -2.9010381356312425,\n        \"max\": 2.558590183794683,\n        \"num_unique_values\": 82,\n        \"samples\": [\n          -1.8899958542560735,\n          -0.9463563916392268,\n          0.0646858897359416\n        ],\n        \"semantic_type\": \"\",\n        \"description\": \"\"\n      }\n    },\n    {\n      \"column\": \"Rotational_speed\",\n      \"properties\": {\n        \"dtype\": \"number\",\n        \"std\": 1.0000501391361356,\n        \"min\": -2.0673726128961065,\n        \"max\": 7.508823545962598,\n        \"num_unique_values\": 941,\n        \"samples\": [\n          -1.4765246543169317,\n          0.2068346238992086,\n          2.6259668316667746\n        ],\n        \"semantic_type\": \"\",\n        \"description\": \"\"\n      }\n    },\n    {\n      \"column\": \"Torque\",\n      \"properties\": {\n        \"dtype\": \"number\",\n        \"std\": 1.0000501391361356,\n        \"min\": -3.630130998126055,\n        \"max\": 3.6744817810270622,\n        \"num_unique_values\": 577,\n        \"samples\": [\n          -0.389210767814987,\n          2.6008642434317566,\n          -2.747155827019633\n        ],\n        \"semantic_type\": \"\",\n        \"description\": \"\"\n      }\n    },\n    {\n      \"column\": \"Tool_wear\",\n      \"properties\": {\n        \"dtype\": \"number\",\n        \"std\": 1.0000501391361263,\n        \"min\": -1.6956470811542024,\n        \"max\": 2.279467733909639,\n        \"num_unique_values\": 246,\n        \"samples\": [\n          -0.2344388685022764,\n          -1.4756802534431597,\n          1.6824149158368091\n        ],\n        \"semantic_type\": \"\",\n        \"description\": \"\"\n      }\n    },\n    {\n      \"column\": \"Type_High\",\n      \"properties\": {\n        \"dtype\": \"number\",\n        \"std\": 0.3001086096465003,\n        \"min\": 0.0,\n        \"max\": 1.0,\n        \"num_unique_values\": 2,\n        \"samples\": [\n          1.0,\n          0.0\n        ],\n        \"semantic_type\": \"\",\n        \"description\": \"\"\n      }\n    },\n    {\n      \"column\": \"Type_Low\",\n      \"properties\": {\n        \"dtype\": \"number\",\n        \"std\": 0.4899184174482703,\n        \"min\": 0.0,\n        \"max\": 1.0,\n        \"num_unique_values\": 2,\n        \"samples\": [\n          1.0,\n          0.0\n        ],\n        \"semantic_type\": \"\",\n        \"description\": \"\"\n      }\n    },\n    {\n      \"column\": \"Type_Medium\",\n      \"properties\": {\n        \"dtype\": \"number\",\n        \"std\": 0.458241148018549,\n        \"min\": 0.0,\n        \"max\": 1.0,\n        \"num_unique_values\": 2,\n        \"samples\": [\n          0.0,\n          1.0\n        ],\n        \"semantic_type\": \"\",\n        \"description\": \"\"\n      }\n    },\n    {\n      \"column\": \"Failure_type\",\n      \"properties\": {\n        \"dtype\": \"category\",\n        \"num_unique_values\": 5,\n        \"samples\": [\n          \"Power Failure\",\n          \"Heat Dissipation Failure\"\n        ],\n        \"semantic_type\": \"\",\n        \"description\": \"\"\n      }\n    }\n  ]\n}"
            }
          },
          "metadata": {},
          "execution_count": 7
        }
      ],
      "source": [
        "!wget https://raw.githubusercontent.com/santiago2588/pump_failure_training/main/data/transformed_data.csv -O transformed_data.csv\n",
        "\n",
        "# Read the CSV file into a DataFrame\n",
        "df = pd.read_csv(\"transformed_data.csv\")\n",
        "\n",
        "# Display the first few rows to confirm it loaded correctly\n",
        "df.head()"
      ]
    },
    {
      "cell_type": "code",
      "execution_count": 8,
      "metadata": {
        "id": "guVbjWHdn0mk"
      },
      "outputs": [],
      "source": [
        "# Define features (X) and target variable (y)\n",
        "X = df.drop('Failure_type', axis=1)  # Features (all columns except 'Failure_type')\n",
        "y = df['Failure_type']  # Target variable"
      ]
    },
    {
      "cell_type": "code",
      "execution_count": 9,
      "metadata": {
        "colab": {
          "base_uri": "https://localhost:8080/"
        },
        "id": "e3YGXe4ln0mk",
        "outputId": "1aeda297-6bbe-48ef-a033-e9a642a2a6e9"
      },
      "outputs": [
        {
          "output_type": "stream",
          "name": "stdout",
          "text": [
            "Training data shape: (7978, 8)\n",
            "Testing data shape: (1995, 8)\n"
          ]
        }
      ],
      "source": [
        "# Split the data into training and testing sets\n",
        "X_train, X_test, y_train, y_test = train_test_split(X, y, test_size=0.2, random_state=42)\n",
        "# Check the shape of the data\n",
        "print(f\"Training data shape: {X_train.shape}\")\n",
        "print(f\"Testing data shape: {X_test.shape}\")"
      ]
    },
    {
      "cell_type": "code",
      "execution_count": 10,
      "metadata": {
        "id": "Q5ysWKsen0ml"
      },
      "outputs": [],
      "source": [
        "# Encode target labels as XGB requires numerical labels\n",
        "label_encoder = LabelEncoder()\n",
        "y_train_encoded = label_encoder.fit_transform(y_train)\n",
        "y_test_encoded = label_encoder.transform(y_test)"
      ]
    },
    {
      "cell_type": "code",
      "execution_count": 11,
      "metadata": {
        "colab": {
          "base_uri": "https://localhost:8080/"
        },
        "id": "0iXKuOaun0ml",
        "outputId": "0fed69f9-6ffd-4aa4-8bf6-26ee8574f7d7"
      },
      "outputs": [
        {
          "output_type": "execute_result",
          "data": {
            "text/plain": [
              "{'Accuracy': 0.9754385964912281,\n",
              " 'Balanced Accuracy': np.float64(0.8494708947179304),\n",
              " 'Macro Recall': 0.9754385964912281,\n",
              " 'Macro Precision': 0.989242283791671,\n",
              " 'Macro F1': 0.9815870281839686,\n",
              " 'F1 Scores per Class': array([0.89795918, 0.98748044, 0.69565217, 0.85714286, 0.11428571])}"
            ]
          },
          "metadata": {},
          "execution_count": 11
        }
      ],
      "source": [
        "# Creating pipeline with xgboost classifier and smote\n",
        "xg_boost_smote = Pipeline(steps=[\n",
        "    ('smote', SMOTE(random_state=2023)),\n",
        "    ('model', XGBClassifier(random_state=2023))\n",
        "])\n",
        "\n",
        "# Fit pipeline\n",
        "xg_boost_smote.fit(X_train, y_train_encoded)\n",
        "\n",
        "# Generate Predictions using the correctly fitted pipeline\n",
        "y_pred = xg_boost_smote.predict(X_test)\n",
        "\n",
        "# Decode predictions back to original labels (optional)\n",
        "y_pred_decoded = label_encoder.inverse_transform(y_pred)\n",
        "\n",
        "# Evaluate Metrics\n",
        "metrics = get_metrics(y_test_encoded, y_pred)\n",
        "\n",
        "# View Results\n",
        "metrics"
      ]
    },
    {
      "cell_type": "code",
      "execution_count": 12,
      "metadata": {
        "colab": {
          "base_uri": "https://localhost:8080/"
        },
        "id": "MG81QeEpn0ml",
        "outputId": "68c96ccf-90c8-45de-ce41-7219aa9dc87a"
      },
      "outputs": [
        {
          "output_type": "execute_result",
          "data": {
            "text/plain": [
              "{'Accuracy': 0.9829573934837093,\n",
              " 'Balanced Accuracy': np.float64(0.8574281351060007),\n",
              " 'Macro Recall': 0.9829573934837093,\n",
              " 'Macro Precision': 0.9890159415390738,\n",
              " 'Macro F1': 0.9854568402093054,\n",
              " 'F1 Scores per Class': array([0.88      , 0.9914308 , 0.66666667, 0.85106383, 0.28571429])}"
            ]
          },
          "metadata": {},
          "execution_count": 12
        }
      ],
      "source": [
        "# Creating model with xgboost classifier and balanced class weights\n",
        "\n",
        "# Compute sample weights for class imbalance\n",
        "weights = compute_sample_weight(class_weight='balanced', y=y_train_encoded)\n",
        "\n",
        "# Initialize XGBoost classifier\n",
        "xgb_model = XGBClassifier(random_state=2023)\n",
        "\n",
        "# Fit the model with sample weights\n",
        "xgb_model.fit(X_train, y_train_encoded, sample_weight=weights)\n",
        "\n",
        "# Generate predictions\n",
        "y_pred = xgb_model.predict(X_test)\n",
        "\n",
        "# Evaluate metrics\n",
        "metrics = get_metrics(y_test_encoded, y_pred)\n",
        "\n",
        "# View results\n",
        "metrics"
      ]
    },
    {
      "cell_type": "code",
      "execution_count": 13,
      "metadata": {
        "id": "dR67l2sgn0ml"
      },
      "outputs": [],
      "source": [
        "# Define the objective function for Optuna\n",
        "def objective(trial):\n",
        "    # Define the hyperparameter search space\n",
        "    params = {\n",
        "        'n_estimators': trial.suggest_int('n_estimators', 50, 500),  # Number of trees\n",
        "        'max_depth': trial.suggest_int('max_depth', 3, 15),  # Maximum depth of trees\n",
        "        'learning_rate': trial.suggest_float('learning_rate', 0.01, 0.3, log=True),  # Learning rate\n",
        "        'subsample': trial.suggest_float('subsample', 0.5, 1.0),  # Subsample ratio\n",
        "        'colsample_bytree': trial.suggest_float('colsample_bytree', 0.5, 1.0),  # Feature subsampling\n",
        "        'gamma': trial.suggest_float('gamma', 0, 5),  # Minimum loss reduction\n",
        "        'reg_alpha': trial.suggest_float('reg_alpha', 0, 10),  # L1 regularization\n",
        "        'reg_lambda': trial.suggest_float('reg_lambda', 0, 10),  # L2 regularization\n",
        "    }\n",
        "\n",
        "    # Initialize the XGBoost classifier with the trial's parameters\n",
        "    model = XGBClassifier(random_state=2023, **params)\n",
        "\n",
        "\n",
        "    # Compute sample weights for class imbalance\n",
        "    weights = compute_sample_weight(class_weight='balanced', y=y_train_encoded)\n",
        "\n",
        "    # Fit the model with sample weights\n",
        "    model.fit(X_train, y_train_encoded, sample_weight=weights)\n",
        "\n",
        "    # Generate predictions\n",
        "    y_pred = model.predict(X_test)\n",
        "\n",
        "    # Evaluate the model using F1 score (or any other metric)\n",
        "    f1 = f1_score(y_test_encoded, y_pred, average='weighted')  # Weighted F1 score for imbalanced data\n",
        "\n",
        "    return f1  # Optuna will maximize this score"
      ]
    },
    {
      "cell_type": "code",
      "execution_count": 14,
      "metadata": {
        "colab": {
          "base_uri": "https://localhost:8080/"
        },
        "id": "PkMnRLHkn0ml",
        "outputId": "bef4545d-4bea-4245-d6ed-01d54e00ab3f"
      },
      "outputs": [
        {
          "output_type": "stream",
          "name": "stderr",
          "text": [
            "[I 2025-07-15 10:31:13,109] A new study created in memory with name: no-name-a18c57d0-a144-4247-b3a8-04fe0cc27ad3\n",
            "[I 2025-07-15 10:31:19,469] Trial 0 finished with value: 0.9252415272770406 and parameters: {'n_estimators': 454, 'max_depth': 15, 'learning_rate': 0.060054944754584276, 'subsample': 0.5221243093662037, 'colsample_bytree': 0.5244060978618859, 'gamma': 3.1272390888691204, 'reg_alpha': 6.451343142387892, 'reg_lambda': 9.304181940822174}. Best is trial 0 with value: 0.9252415272770406.\n",
            "[I 2025-07-15 10:31:20,484] Trial 1 finished with value: 0.9231419326341613 and parameters: {'n_estimators': 170, 'max_depth': 15, 'learning_rate': 0.013956821547500387, 'subsample': 0.5219034305111918, 'colsample_bytree': 0.8281229976071238, 'gamma': 4.053026095131398, 'reg_alpha': 4.531986527402459, 'reg_lambda': 1.1873117341452577}. Best is trial 0 with value: 0.9252415272770406.\n",
            "[I 2025-07-15 10:31:20,914] Trial 2 finished with value: 0.9217633127106811 and parameters: {'n_estimators': 97, 'max_depth': 9, 'learning_rate': 0.06257728472288829, 'subsample': 0.528125635558063, 'colsample_bytree': 0.8610907224747535, 'gamma': 4.3255350254358635, 'reg_alpha': 6.631693383297757, 'reg_lambda': 0.19490510267633376}. Best is trial 0 with value: 0.9252415272770406.\n",
            "[I 2025-07-15 10:31:22,153] Trial 3 finished with value: 0.9252609777404122 and parameters: {'n_estimators': 337, 'max_depth': 5, 'learning_rate': 0.025872431974135482, 'subsample': 0.8800947744615389, 'colsample_bytree': 0.526131536549967, 'gamma': 1.7577866400207203, 'reg_alpha': 7.459556003498006, 'reg_lambda': 1.883471385563078}. Best is trial 3 with value: 0.9252609777404122.\n",
            "[I 2025-07-15 10:31:23,293] Trial 4 finished with value: 0.9336322206657278 and parameters: {'n_estimators': 438, 'max_depth': 7, 'learning_rate': 0.20926778045266595, 'subsample': 0.8047737443585751, 'colsample_bytree': 0.5878292966752396, 'gamma': 1.1987140635820444, 'reg_alpha': 7.786224440561009, 'reg_lambda': 6.335509064135094}. Best is trial 4 with value: 0.9336322206657278.\n",
            "[I 2025-07-15 10:31:24,766] Trial 5 finished with value: 0.9325695052924805 and parameters: {'n_estimators': 394, 'max_depth': 3, 'learning_rate': 0.03657916371019539, 'subsample': 0.629025455524717, 'colsample_bytree': 0.7390374911751473, 'gamma': 0.9406141862152256, 'reg_alpha': 1.2475804334183394, 'reg_lambda': 8.170697609057584}. Best is trial 4 with value: 0.9336322206657278.\n",
            "[I 2025-07-15 10:31:25,579] Trial 6 finished with value: 0.931243729091256 and parameters: {'n_estimators': 278, 'max_depth': 7, 'learning_rate': 0.08747634823814328, 'subsample': 0.7642063865521331, 'colsample_bytree': 0.5498634489013025, 'gamma': 2.9198240901900485, 'reg_alpha': 4.308012123208817, 'reg_lambda': 0.031771442535308836}. Best is trial 4 with value: 0.9336322206657278.\n",
            "[I 2025-07-15 10:31:25,909] Trial 7 finished with value: 0.913665586061443 and parameters: {'n_estimators': 58, 'max_depth': 12, 'learning_rate': 0.03768546332066166, 'subsample': 0.5052586164050769, 'colsample_bytree': 0.7456819188301299, 'gamma': 2.975058632255961, 'reg_alpha': 7.521353607989781, 'reg_lambda': 2.3414186043887675}. Best is trial 4 with value: 0.9336322206657278.\n",
            "[I 2025-07-15 10:31:27,082] Trial 8 finished with value: 0.9303411067634636 and parameters: {'n_estimators': 446, 'max_depth': 9, 'learning_rate': 0.1595589982364339, 'subsample': 0.628453557276487, 'colsample_bytree': 0.5522857846382137, 'gamma': 4.959720922545361, 'reg_alpha': 2.807592767079974, 'reg_lambda': 0.7525240626378082}. Best is trial 4 with value: 0.9336322206657278.\n",
            "[I 2025-07-15 10:31:28,130] Trial 9 finished with value: 0.9298018475404708 and parameters: {'n_estimators': 219, 'max_depth': 14, 'learning_rate': 0.02740845261898724, 'subsample': 0.6781142004470344, 'colsample_bytree': 0.7803005231501656, 'gamma': 4.521659733363307, 'reg_alpha': 0.13096347016621324, 'reg_lambda': 8.963812562174873}. Best is trial 4 with value: 0.9336322206657278.\n",
            "[I 2025-07-15 10:31:29,355] Trial 10 finished with value: 0.9372978755446544 and parameters: {'n_estimators': 497, 'max_depth': 6, 'learning_rate': 0.2908020898991526, 'subsample': 0.990029277301763, 'colsample_bytree': 0.9784552720756483, 'gamma': 0.32317842351103065, 'reg_alpha': 9.89651803196275, 'reg_lambda': 6.042081074574098}. Best is trial 10 with value: 0.9372978755446544.\n",
            "[I 2025-07-15 10:31:32,764] Trial 11 finished with value: 0.939532275086891 and parameters: {'n_estimators': 490, 'max_depth': 6, 'learning_rate': 0.29604741522864364, 'subsample': 0.9934116828909461, 'colsample_bytree': 0.9794622003098066, 'gamma': 0.06137659973537901, 'reg_alpha': 9.891064116325913, 'reg_lambda': 6.217882817922773}. Best is trial 11 with value: 0.939532275086891.\n",
            "[I 2025-07-15 10:31:34,026] Trial 12 finished with value: 0.9432475120198749 and parameters: {'n_estimators': 498, 'max_depth': 5, 'learning_rate': 0.27914347468185013, 'subsample': 0.9881109965640015, 'colsample_bytree': 0.9997835535792186, 'gamma': 0.020927772965470895, 'reg_alpha': 9.90896490641256, 'reg_lambda': 4.735648987141806}. Best is trial 12 with value: 0.9432475120198749.\n",
            "[I 2025-07-15 10:31:35,071] Trial 13 finished with value: 0.9334474682640164 and parameters: {'n_estimators': 359, 'max_depth': 3, 'learning_rate': 0.1368329690566217, 'subsample': 0.9843503516770858, 'colsample_bytree': 0.9963806644680216, 'gamma': 0.0827948868163112, 'reg_alpha': 9.957140481271258, 'reg_lambda': 4.0356648186997806}. Best is trial 12 with value: 0.9432475120198749.\n",
            "[I 2025-07-15 10:31:36,325] Trial 14 finished with value: 0.9336013793136952 and parameters: {'n_estimators': 498, 'max_depth': 5, 'learning_rate': 0.2897115052951607, 'subsample': 0.9008389460379433, 'colsample_bytree': 0.9159550029563461, 'gamma': 1.8966733839849557, 'reg_alpha': 8.938351807607212, 'reg_lambda': 4.240250308051662}. Best is trial 12 with value: 0.9432475120198749.\n",
            "[I 2025-07-15 10:31:37,273] Trial 15 finished with value: 0.9362382422602993 and parameters: {'n_estimators': 305, 'max_depth': 9, 'learning_rate': 0.1088286944183967, 'subsample': 0.9164336016062092, 'colsample_bytree': 0.9282889891647436, 'gamma': 0.6939883005630505, 'reg_alpha': 8.673322587717092, 'reg_lambda': 6.956666097552378}. Best is trial 12 with value: 0.9432475120198749.\n",
            "[I 2025-07-15 10:31:38,320] Trial 16 finished with value: 0.9330143468076281 and parameters: {'n_estimators': 401, 'max_depth': 4, 'learning_rate': 0.19165040772005243, 'subsample': 0.8617787169241213, 'colsample_bytree': 0.6579766690093631, 'gamma': 1.6105572432881365, 'reg_alpha': 5.615367309740799, 'reg_lambda': 3.5231724997079277}. Best is trial 12 with value: 0.9432475120198749.\n",
            "[I 2025-07-15 10:31:39,344] Trial 17 finished with value: 0.946563399570467 and parameters: {'n_estimators': 215, 'max_depth': 7, 'learning_rate': 0.095003901548279, 'subsample': 0.9495350753408955, 'colsample_bytree': 0.9165351345041708, 'gamma': 0.012482231800288032, 'reg_alpha': 8.320461091730966, 'reg_lambda': 5.292747815379002}. Best is trial 17 with value: 0.946563399570467.\n",
            "[I 2025-07-15 10:31:40,142] Trial 18 finished with value: 0.9367563305348228 and parameters: {'n_estimators': 209, 'max_depth': 12, 'learning_rate': 0.08995083953465274, 'subsample': 0.8254936829154563, 'colsample_bytree': 0.908881227254614, 'gamma': 0.6044746790301763, 'reg_alpha': 8.577001534191977, 'reg_lambda': 5.211790177417311}. Best is trial 17 with value: 0.946563399570467.\n",
            "[I 2025-07-15 10:31:40,703] Trial 19 finished with value: 0.9317215159564727 and parameters: {'n_estimators': 147, 'max_depth': 11, 'learning_rate': 0.12251415693689961, 'subsample': 0.9374533135370496, 'colsample_bytree': 0.8644216475634042, 'gamma': 2.1692602164021504, 'reg_alpha': 6.252811062677749, 'reg_lambda': 3.207677517108791}. Best is trial 17 with value: 0.946563399570467.\n"
          ]
        },
        {
          "output_type": "stream",
          "name": "stdout",
          "text": [
            "Best hyperparameters: {'n_estimators': 215, 'max_depth': 7, 'learning_rate': 0.095003901548279, 'subsample': 0.9495350753408955, 'colsample_bytree': 0.9165351345041708, 'gamma': 0.012482231800288032, 'reg_alpha': 8.320461091730966, 'reg_lambda': 5.292747815379002}\n",
            "Best F1-score: 0.946563399570467\n"
          ]
        }
      ],
      "source": [
        "# Create a study object\n",
        "study = optuna.create_study(direction='maximize')  # We want to maximize F1-score\n",
        "\n",
        "# Optimize the study\n",
        "study.optimize(objective, n_trials=20)  # Run 20 trials (you can increase this for better results)\n",
        "\n",
        "# Print the best hyperparameters\n",
        "print(\"Best hyperparameters:\", study.best_params)\n",
        "print(\"Best F1-score:\", study.best_value)"
      ]
    },
    {
      "cell_type": "code",
      "execution_count": 15,
      "metadata": {
        "colab": {
          "base_uri": "https://localhost:8080/"
        },
        "id": "jz0_sZFvn0ml",
        "outputId": "f6745aed-be38-46fd-ee60-611ff5b64410"
      },
      "outputs": [
        {
          "output_type": "execute_result",
          "data": {
            "text/plain": [
              "{'Accuracy': 0.9218045112781955,\n",
              " 'Balanced Accuracy': np.float64(0.89549856270212),\n",
              " 'Macro Recall': 0.9218045112781955,\n",
              " 'Macro Precision': 0.9813844241033967,\n",
              " 'Macro F1': 0.946563399570467}"
            ]
          },
          "metadata": {},
          "execution_count": 15
        }
      ],
      "source": [
        "# Extract the best hyperparameters\n",
        "best_params = study.best_params\n",
        "\n",
        "# Train the final model with the best hyperparameters\n",
        "final_model = XGBClassifier(random_state=2023, **best_params)\n",
        "\n",
        "# Compute sample weights again\n",
        "weights = compute_sample_weight(class_weight='balanced', y=y_train_encoded)\n",
        "\n",
        "# Fit the final model\n",
        "final_model.fit(X_train, y_train_encoded, sample_weight=weights)\n",
        "\n",
        "# Generate predictions\n",
        "y_pred = final_model.predict(X_test)\n",
        "\n",
        "# Evaluate metrics\n",
        "metrics = get_metrics(y_test_encoded, y_pred)\n",
        "\n",
        "# Remove 'F1 Scores per Class' from metrics\n",
        "if 'F1 Scores per Class' in metrics:\n",
        "    del metrics['F1 Scores per Class']\n",
        "\n",
        "# View results\n",
        "metrics"
      ]
    }
  ],
  "metadata": {
    "kernelspec": {
      "display_name": "My env pump failure)",
      "language": "python",
      "name": "my-env-with-poetry"
    },
    "language_info": {
      "codemirror_mode": {
        "name": "ipython",
        "version": 3
      },
      "file_extension": ".py",
      "mimetype": "text/x-python",
      "name": "python",
      "nbconvert_exporter": "python",
      "pygments_lexer": "ipython3",
      "version": "3.10.14"
    },
    "colab": {
      "provenance": [],
      "include_colab_link": true
    }
  },
  "nbformat": 4,
  "nbformat_minor": 0
}