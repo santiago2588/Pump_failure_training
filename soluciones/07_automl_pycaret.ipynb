{
  "cells": [
    {
      "cell_type": "markdown",
      "metadata": {
        "id": "view-in-github",
        "colab_type": "text"
      },
      "source": [
        "<a href=\"https://colab.research.google.com/github/santiago2588/Pump_failure_training/blob/main/soluciones/07_automl_pycaret.ipynb\" target=\"_parent\"><img src=\"https://colab.research.google.com/assets/colab-badge.svg\" alt=\"Open In Colab\"/></a>"
      ]
    },
    {
      "cell_type": "code",
      "execution_count": null,
      "metadata": {
        "id": "XQqEJ9AGpJ69"
      },
      "outputs": [],
      "source": [
        "!pip install pycaret -q\n",
        "!pip install pycaret[tuners] -q\n",
        "!pip install pycaret[analysis] -q"
      ]
    },
    {
      "cell_type": "code",
      "source": [
        "%pip install optuna -q\n",
        "import optuna"
      ],
      "metadata": {
        "id": "-1IPgE8_pQIu"
      },
      "execution_count": null,
      "outputs": []
    },
    {
      "cell_type": "code",
      "execution_count": null,
      "metadata": {
        "id": "7xFtkNj1pJ69"
      },
      "outputs": [],
      "source": [
        "!wget https://raw.githubusercontent.com/santiago2588/pump_failure_training/main/data/transformed_data.csv -O transformed_data.csv\n",
        "\n",
        "# Read the CSV file into a DataFrame\n",
        "import pandas as pd\n",
        "df = pd.read_csv(\"transformed_data.csv\")\n",
        "\n",
        "# Display the first few rows to confirm it loaded correctly\n",
        "df.head()"
      ]
    },
    {
      "cell_type": "code",
      "source": [
        "# init setup\n",
        "from pycaret.classification import *"
      ],
      "metadata": {
        "id": "DE25FlmOz-F9"
      },
      "execution_count": null,
      "outputs": []
    },
    {
      "cell_type": "code",
      "source": [
        "exp = setup(data = df, target = 'Failure_type',train_size=0.8, fix_imbalance = True,remove_multicollinearity = True)"
      ],
      "metadata": {
        "id": "70CbTyY50A-F"
      },
      "execution_count": null,
      "outputs": []
    },
    {
      "cell_type": "code",
      "source": [
        "# compare models\n",
        "best = compare_models(n_select=10,sort='F1')"
      ],
      "metadata": {
        "id": "sNW4Ud2Z0GrD"
      },
      "execution_count": null,
      "outputs": []
    },
    {
      "cell_type": "code",
      "source": [
        "lgb=create_model('lightgbm')"
      ],
      "metadata": {
        "id": "00bHaNPu0Lmk"
      },
      "execution_count": null,
      "outputs": []
    },
    {
      "cell_type": "code",
      "source": [
        "#tuned_lgb = tune_model(lgb, optimize = 'F1')"
      ],
      "metadata": {
        "id": "4im4fc290Oio"
      },
      "execution_count": null,
      "outputs": []
    },
    {
      "cell_type": "code",
      "source": [
        "plot_model(lgb, plot = 'confusion_matrix', plot_kwargs = {'percent' : True})"
      ],
      "metadata": {
        "id": "2O-93RY4M930"
      },
      "execution_count": null,
      "outputs": []
    },
    {
      "cell_type": "code",
      "source": [
        "evaluate_model(lgb)"
      ],
      "metadata": {
        "id": "e176O8RUNKxq"
      },
      "execution_count": null,
      "outputs": []
    },
    {
      "cell_type": "code",
      "source": [
        "interpret_model(tuned_lgb)"
      ],
      "metadata": {
        "id": "RutxI4aFNO4I"
      },
      "execution_count": null,
      "outputs": []
    },
    {
      "cell_type": "code",
      "source": [
        "dashboard(tuned_lgb)"
      ],
      "metadata": {
        "id": "g1uiEm1gNX6_"
      },
      "execution_count": null,
      "outputs": []
    },
    {
      "cell_type": "code",
      "source": [
        "# finalize a model\n",
        "final_model=finalize_model(tuned_lgb)"
      ],
      "metadata": {
        "id": "OQEaGYWaPCDU"
      },
      "execution_count": null,
      "outputs": []
    },
    {
      "cell_type": "code",
      "source": [
        "# create app\n",
        "create_app(final_model)"
      ],
      "metadata": {
        "id": "gF9CVs1lPGhY"
      },
      "execution_count": null,
      "outputs": []
    }
  ],
  "metadata": {
    "kernelspec": {
      "display_name": "My env pump failure)",
      "language": "python",
      "name": "my-env-with-poetry"
    },
    "language_info": {
      "codemirror_mode": {
        "name": "ipython",
        "version": 3
      },
      "file_extension": ".py",
      "mimetype": "text/x-python",
      "name": "python",
      "nbconvert_exporter": "python",
      "pygments_lexer": "ipython3",
      "version": "3.10.14"
    },
    "colab": {
      "provenance": [],
      "include_colab_link": true
    }
  },
  "nbformat": 4,
  "nbformat_minor": 0
}